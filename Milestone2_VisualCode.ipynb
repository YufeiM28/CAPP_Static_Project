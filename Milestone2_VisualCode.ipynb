{
  "nbformat": 4,
  "nbformat_minor": 0,
  "metadata": {
    "colab": {
      "provenance": [],
      "authorship_tag": "ABX9TyPGDYBFBoA6JPdnFhjCcfm3",
      "include_colab_link": true
    },
    "kernelspec": {
      "name": "python3",
      "display_name": "Python 3"
    },
    "language_info": {
      "name": "python"
    }
  },
  "cells": [
    {
      "cell_type": "markdown",
      "metadata": {
        "id": "view-in-github",
        "colab_type": "text"
      },
      "source": [
        "<a href=\"https://colab.research.google.com/github/YufeiM28/CAPP_Static_Project/blob/main/Milestone2_VisualCode.ipynb\" target=\"_parent\"><img src=\"https://colab.research.google.com/assets/colab-badge.svg\" alt=\"Open In Colab\"/></a>"
      ]
    },
    {
      "cell_type": "code",
      "execution_count": 1,
      "metadata": {
        "colab": {
          "base_uri": "https://localhost:8080/"
        },
        "id": "rR71K2T3Gx4w",
        "outputId": "56a00da9-a655-464c-a7e0-f34baf19f62a"
      },
      "outputs": [
        {
          "output_type": "execute_result",
          "data": {
            "text/plain": [
              "DataTransformerRegistry.enable('default')"
            ]
          },
          "metadata": {},
          "execution_count": 1
        }
      ],
      "source": [
        "!pip -q install --upgrade altair==5.4.1 typing_extensions==4.12.2 vl-convert-python\n",
        "import altair as alt\n",
        "alt.data_transformers.disable_max_rows()"
      ]
    },
    {
      "cell_type": "code",
      "source": [
        "import altair as alt\n",
        "import pandas as pd\n",
        "alt.data_transformers.disable_max_rows()"
      ],
      "metadata": {
        "colab": {
          "base_uri": "https://localhost:8080/"
        },
        "id": "cdFuKclvMHi_",
        "outputId": "a69e18b8-2424-471c-9c70-c2e4d1e80b35"
      },
      "execution_count": 2,
      "outputs": [
        {
          "output_type": "execute_result",
          "data": {
            "text/plain": [
              "DataTransformerRegistry.enable('default')"
            ]
          },
          "metadata": {},
          "execution_count": 2
        }
      ]
    },
    {
      "cell_type": "code",
      "source": [
        "df_1112 = pd.read_csv(\"1112_clean.csv\")\n",
        "df_1819 = pd.read_csv(\"1819_clean.csv\")\n",
        "df_2324 = pd.read_csv(\"2324_clean.csv\")"
      ],
      "metadata": {
        "id": "XH7ICEPwGNuS"
      },
      "execution_count": 3,
      "outputs": []
    },
    {
      "cell_type": "markdown",
      "source": [
        "# Plot 1"
      ],
      "metadata": {
        "id": "A43QUVgQ1p5b"
      }
    },
    {
      "cell_type": "code",
      "source": [
        "for df in (df_1112, df_1819, df_2324):\n",
        "    df.columns = df.columns.str.strip()\n",
        "    df = df.replace(\"NDA\", None)\n",
        "\n",
        "for df in (df_1112, df_1819, df_2324):\n",
        "    df[\"College_Enrollment_Rate_School\"] = pd.to_numeric(df[\"College_Enrollment_Rate_School\"], errors=\"coerce\")\n",
        "    df[\"Graduation_Rate_School\"] = pd.to_numeric(df[\"Graduation_Rate_School\"], errors=\"coerce\")\n",
        "\n",
        "mean_df = pd.DataFrame({\n",
        "    \"Academic_Year\": [\"2011–12\", \"2018–19\", \"2023–24\"],\n",
        "    \"College Enrollment Rate\": [\n",
        "        df_1112[\"College_Enrollment_Rate_School\"].mean(),\n",
        "        df_1819[\"College_Enrollment_Rate_School\"].mean(),\n",
        "        df_2324[\"College_Enrollment_Rate_School\"].mean()],\n",
        "    \"Graduation Rate\": [\n",
        "        df_1112[\"Graduation_Rate_School\"].mean(),\n",
        "        df_1819[\"Graduation_Rate_School\"].mean(),\n",
        "        df_2324[\"Graduation_Rate_School\"].mean()]\n",
        "    })"
      ],
      "metadata": {
        "id": "Ysv22xVfQJN3"
      },
      "execution_count": 4,
      "outputs": []
    },
    {
      "cell_type": "code",
      "source": [
        "# plot\n",
        "plot_df = mean_df.melt(\"Academic_Year\", var_name=\"Rate Type\", value_name=\"Average Rate\")\n",
        "\n",
        "chart = (\n",
        "    alt.Chart(plot_df)\n",
        "    .mark_bar()\n",
        "    .encode(\n",
        "        x=alt.X(\"Academic_Year:N\", title=\"Academic Year\", axis=alt.Axis(labelAngle=0)),\n",
        "        xOffset=alt.XOffset(\"Rate Type:N\"),\n",
        "        y=alt.Y(\"Average Rate:Q\", title=\"Average Rate (%)\", axis=alt.Axis(grid=False)),\n",
        "        color=alt.Color(\"Rate Type:N\", title=\"Outcome Type\",\n",
        "              scale=alt.Scale(domain=[\"College Enrollment Rate\", \"Graduation Rate\"],\n",
        "              range=[\"#0072B2\", \"#009E73\"]),\n",
        "              legend=alt.Legend(titleFontSize=13, labelFontSize=12)))\n",
        "    .properties(\n",
        "        width=560, height=380,\n",
        "        title=alt.TitleParams(\n",
        "        text=\"Trends in High School Graduation and College Enrollment Rates (2011–2024)\",\n",
        "        fontSize=16)))\n",
        "\n",
        "labels = (alt.Chart(plot_df)\n",
        "    .mark_text(dy=-6, fontSize=11)\n",
        "    .encode(\n",
        "        x=\"Academic_Year:N\",\n",
        "        xOffset=\"Rate Type:N\",\n",
        "        y=\"Average Rate:Q\",\n",
        "        text=alt.Text(\"Average Rate:Q\", format=\".1f\"),\n",
        "        detail=\"Rate Type:N\"))\n",
        "\n",
        "final_chart = (chart + labels).configure_view(strokeWidth=0)\n",
        "\n",
        "final_chart.save(\"plot1.svg\")\n",
        "\n",
        "final_chart"
      ],
      "metadata": {
        "colab": {
          "base_uri": "https://localhost:8080/",
          "height": 631
        },
        "id": "8P5UQv14LWKB",
        "outputId": "bae78748-7eff-4d07-8892-d36e3d883078"
      },
      "execution_count": 5,
      "outputs": [
        {
          "output_type": "stream",
          "name": "stderr",
          "text": [
            "/usr/local/lib/python3.12/dist-packages/altair/utils/data.py:71: UserWarning: You passed a `<class 'narwhals.stable.v1.DataFrame'>` to `is_pandas_dataframe`.\n",
            "\n",
            "Hint: Instead of e.g. `is_pandas_dataframe(df)`, did you mean `is_pandas_dataframe(df.to_native())`?\n",
            "  return _is_pandas_dataframe(obj) or isinstance(\n",
            "/usr/local/lib/python3.12/dist-packages/altair/utils/data.py:71: UserWarning: You passed a `<class 'narwhals.stable.v1.DataFrame'>` to `is_pandas_dataframe`.\n",
            "\n",
            "Hint: Instead of e.g. `is_pandas_dataframe(df)`, did you mean `is_pandas_dataframe(df.to_native())`?\n",
            "  return _is_pandas_dataframe(obj) or isinstance(\n"
          ]
        },
        {
          "output_type": "execute_result",
          "data": {
            "text/html": [
              "\n",
              "<style>\n",
              "  #altair-viz-dba4301d6e5f4caaa1f087ff1b2a7081.vega-embed {\n",
              "    width: 100%;\n",
              "    display: flex;\n",
              "  }\n",
              "\n",
              "  #altair-viz-dba4301d6e5f4caaa1f087ff1b2a7081.vega-embed details,\n",
              "  #altair-viz-dba4301d6e5f4caaa1f087ff1b2a7081.vega-embed details summary {\n",
              "    position: relative;\n",
              "  }\n",
              "</style>\n",
              "<div id=\"altair-viz-dba4301d6e5f4caaa1f087ff1b2a7081\"></div>\n",
              "<script type=\"text/javascript\">\n",
              "  var VEGA_DEBUG = (typeof VEGA_DEBUG == \"undefined\") ? {} : VEGA_DEBUG;\n",
              "  (function(spec, embedOpt){\n",
              "    let outputDiv = document.currentScript.previousElementSibling;\n",
              "    if (outputDiv.id !== \"altair-viz-dba4301d6e5f4caaa1f087ff1b2a7081\") {\n",
              "      outputDiv = document.getElementById(\"altair-viz-dba4301d6e5f4caaa1f087ff1b2a7081\");\n",
              "    }\n",
              "    const paths = {\n",
              "      \"vega\": \"https://cdn.jsdelivr.net/npm/vega@5?noext\",\n",
              "      \"vega-lib\": \"https://cdn.jsdelivr.net/npm/vega-lib?noext\",\n",
              "      \"vega-lite\": \"https://cdn.jsdelivr.net/npm/vega-lite@5.20.1?noext\",\n",
              "      \"vega-embed\": \"https://cdn.jsdelivr.net/npm/vega-embed@6?noext\",\n",
              "    };\n",
              "\n",
              "    function maybeLoadScript(lib, version) {\n",
              "      var key = `${lib.replace(\"-\", \"\")}_version`;\n",
              "      return (VEGA_DEBUG[key] == version) ?\n",
              "        Promise.resolve(paths[lib]) :\n",
              "        new Promise(function(resolve, reject) {\n",
              "          var s = document.createElement('script');\n",
              "          document.getElementsByTagName(\"head\")[0].appendChild(s);\n",
              "          s.async = true;\n",
              "          s.onload = () => {\n",
              "            VEGA_DEBUG[key] = version;\n",
              "            return resolve(paths[lib]);\n",
              "          };\n",
              "          s.onerror = () => reject(`Error loading script: ${paths[lib]}`);\n",
              "          s.src = paths[lib];\n",
              "        });\n",
              "    }\n",
              "\n",
              "    function showError(err) {\n",
              "      outputDiv.innerHTML = `<div class=\"error\" style=\"color:red;\">${err}</div>`;\n",
              "      throw err;\n",
              "    }\n",
              "\n",
              "    function displayChart(vegaEmbed) {\n",
              "      vegaEmbed(outputDiv, spec, embedOpt)\n",
              "        .catch(err => showError(`Javascript Error: ${err.message}<br>This usually means there's a typo in your chart specification. See the javascript console for the full traceback.`));\n",
              "    }\n",
              "\n",
              "    if(typeof define === \"function\" && define.amd) {\n",
              "      requirejs.config({paths});\n",
              "      require([\"vega-embed\"], displayChart, err => showError(`Error loading script: ${err.message}`));\n",
              "    } else {\n",
              "      maybeLoadScript(\"vega\", \"5\")\n",
              "        .then(() => maybeLoadScript(\"vega-lite\", \"5.20.1\"))\n",
              "        .then(() => maybeLoadScript(\"vega-embed\", \"6\"))\n",
              "        .catch(showError)\n",
              "        .then(() => displayChart(vegaEmbed));\n",
              "    }\n",
              "  })({\"config\": {\"view\": {\"continuousWidth\": 300, \"continuousHeight\": 300, \"strokeWidth\": 0}}, \"layer\": [{\"mark\": {\"type\": \"bar\"}, \"encoding\": {\"color\": {\"field\": \"Rate Type\", \"legend\": {\"labelFontSize\": 12, \"titleFontSize\": 13}, \"scale\": {\"domain\": [\"College Enrollment Rate\", \"Graduation Rate\"], \"range\": [\"#0072B2\", \"#009E73\"]}, \"title\": \"Outcome Type\", \"type\": \"nominal\"}, \"x\": {\"axis\": {\"labelAngle\": 0}, \"field\": \"Academic_Year\", \"title\": \"Academic Year\", \"type\": \"nominal\"}, \"xOffset\": {\"field\": \"Rate Type\", \"type\": \"nominal\"}, \"y\": {\"axis\": {\"grid\": false}, \"field\": \"Average Rate\", \"title\": \"Average Rate (%)\", \"type\": \"quantitative\"}}, \"title\": {\"text\": \"Trends in High School Graduation and College Enrollment Rates (2011\\u20132024)\", \"fontSize\": 16}}, {\"mark\": {\"type\": \"text\", \"dy\": -6, \"fontSize\": 11}, \"encoding\": {\"detail\": {\"field\": \"Rate Type\", \"type\": \"nominal\"}, \"text\": {\"field\": \"Average Rate\", \"format\": \".1f\", \"type\": \"quantitative\"}, \"x\": {\"field\": \"Academic_Year\", \"type\": \"nominal\"}, \"xOffset\": {\"field\": \"Rate Type\", \"type\": \"nominal\"}, \"y\": {\"field\": \"Average Rate\", \"type\": \"quantitative\"}}}], \"data\": {\"name\": \"data-93ba898834bfa014a67a21b87a4fd6a1\"}, \"height\": 380, \"width\": 560, \"$schema\": \"https://vega.github.io/schema/vega-lite/v5.20.1.json\", \"datasets\": {\"data-93ba898834bfa014a67a21b87a4fd6a1\": [{\"Academic_Year\": \"2011\\u201312\", \"Rate Type\": \"College Enrollment Rate\", \"Average Rate\": 55.387499999999996}, {\"Academic_Year\": \"2018\\u201319\", \"Rate Type\": \"College Enrollment Rate\", \"Average Rate\": 55.855633802816904}, {\"Academic_Year\": \"2023\\u201324\", \"Rate Type\": \"College Enrollment Rate\", \"Average Rate\": 49.57664233576642}, {\"Academic_Year\": \"2011\\u201312\", \"Rate Type\": \"Graduation Rate\", \"Average Rate\": 61.11212121212122}, {\"Academic_Year\": \"2018\\u201319\", \"Rate Type\": \"Graduation Rate\", \"Average Rate\": 72.88050847457627}, {\"Academic_Year\": \"2023\\u201324\", \"Rate Type\": \"Graduation Rate\", \"Average Rate\": 77.7298245614035}]}}, {\"mode\": \"vega-lite\"});\n",
              "</script>"
            ],
            "text/plain": [
              "alt.LayerChart(...)"
            ]
          },
          "metadata": {},
          "execution_count": 5
        }
      ]
    },
    {
      "cell_type": "markdown",
      "source": [
        "# Plot 2"
      ],
      "metadata": {
        "id": "z5rdFH8x1uVh"
      }
    },
    {
      "cell_type": "code",
      "source": [
        "# data clean\n",
        "df_1112[\"School_Year\"] = \"2011-12\"\n",
        "df_1819[\"School_Year\"] = \"2018-19\"\n",
        "df_2324[\"School_Year\"] = \"2023-24\"\n",
        "\n",
        "dfs = [df_1112, df_1819, df_2324]\n",
        "\n",
        "for df in dfs:\n",
        "    df.dropna(subset=[\"Student_Attendance_Avg\", \"Teacher_Attendance_Avg\"], inplace=True)\n",
        "\n",
        "merged_wide = pd.concat(dfs, ignore_index=True)\n",
        "merged_wide.to_csv(\"attendance_merged_wide.csv\", index=False)\n",
        "\n",
        "merged_long = merged_wide.melt(\n",
        "    id_vars=[\"School_ID\", \"School_Year\"],\n",
        "    value_vars=[\"Student_Attendance_Avg\", \"Teacher_Attendance_Avg\"],\n",
        "    var_name=\"Role\", value_name=\"Attendance\"\n",
        "    ).replace({\"Role\": {\"Student_Attendance_Avg\": \"Student\",\n",
        "    \"Teacher_Attendance_Avg\": \"Teacher\"}})\n",
        "\n",
        "merged_long[\"Attendance\"] = pd.to_numeric(merged_long[\"Attendance\"], errors=\"coerce\")\n",
        "merged_long = merged_long.dropna(subset=[\"Attendance\", \"School_Year\", \"Role\"])\n",
        "\n",
        "year_labels = [\"2011-12\", \"2018-19\", \"2023-24\"]"
      ],
      "metadata": {
        "id": "s_w0VPrQRABt"
      },
      "execution_count": 6,
      "outputs": []
    },
    {
      "cell_type": "code",
      "source": [
        "# ChatGPT is used for helping me to learn how to generate jitterplot in Altair\n",
        "plot2 = (\n",
        "    alt.Chart(merged_long)\n",
        "    .transform_calculate(\n",
        "        xIndex=f\"indexof({year_labels!r}, datum.School_Year)\",\n",
        "        jitter=\"(random() - 0.5) * 0.45\",\n",
        "        xj=\"datum.xIndex + datum.jitter\")\n",
        "    .mark_circle(size=60, opacity=0.7)\n",
        "    .encode(\n",
        "        x=alt.X(\"xj:Q\", axis=alt.Axis(\n",
        "                title=\"School Year\",\n",
        "                grid = False,\n",
        "                values=[0, 1, 2],\n",
        "                labelExpr=f\"{year_labels!r}[datum.value]\")),\n",
        "        y=alt.Y(\"Attendance:Q\", title=\"Attendance (%)\", scale=alt.Scale(domain=[0, 100]),\n",
        "                axis=alt.Axis(titleFontSize=13, labelFontSize=12)),\n",
        "        color=alt.Color(\"Role:N\",\n",
        "            scale=alt.Scale(domain=[\"Student\", \"Teacher\"], range=[\"#99cdee\", \"#ee9999\"]),\n",
        "            legend=alt.Legend(titleFontSize=13, labelFontSize=12)))\n",
        "    .properties(width=560, height=380,\n",
        "            title=alt.TitleParams(\n",
        "            text=\"Student and Teacher Attendance across School Year\", fontSize=16)))\n",
        "\n",
        "plot2.save(\"plot2.svg\")\n",
        "\n",
        "plot2"
      ],
      "metadata": {
        "colab": {
          "base_uri": "https://localhost:8080/",
          "height": 632
        },
        "id": "F7jS59CUVtW6",
        "outputId": "e4ab6319-54f2-43d6-8964-4406ff0039b1"
      },
      "execution_count": 18,
      "outputs": [
        {
          "output_type": "stream",
          "name": "stderr",
          "text": [
            "/usr/local/lib/python3.12/dist-packages/altair/utils/data.py:71: UserWarning: You passed a `<class 'narwhals.stable.v1.DataFrame'>` to `is_pandas_dataframe`.\n",
            "\n",
            "Hint: Instead of e.g. `is_pandas_dataframe(df)`, did you mean `is_pandas_dataframe(df.to_native())`?\n",
            "  return _is_pandas_dataframe(obj) or isinstance(\n",
            "/usr/local/lib/python3.12/dist-packages/altair/utils/data.py:71: UserWarning: You passed a `<class 'narwhals.stable.v1.DataFrame'>` to `is_pandas_dataframe`.\n",
            "\n",
            "Hint: Instead of e.g. `is_pandas_dataframe(df)`, did you mean `is_pandas_dataframe(df.to_native())`?\n",
            "  return _is_pandas_dataframe(obj) or isinstance(\n"
          ]
        },
        {
          "output_type": "execute_result",
          "data": {
            "text/html": [
              "\n",
              "<style>\n",
              "  #altair-viz-713fed120d2943969037315aa1eeccb6.vega-embed {\n",
              "    width: 100%;\n",
              "    display: flex;\n",
              "  }\n",
              "\n",
              "  #altair-viz-713fed120d2943969037315aa1eeccb6.vega-embed details,\n",
              "  #altair-viz-713fed120d2943969037315aa1eeccb6.vega-embed details summary {\n",
              "    position: relative;\n",
              "  }\n",
              "</style>\n",
              "<div id=\"altair-viz-713fed120d2943969037315aa1eeccb6\"></div>\n",
              "<script type=\"text/javascript\">\n",
              "  var VEGA_DEBUG = (typeof VEGA_DEBUG == \"undefined\") ? {} : VEGA_DEBUG;\n",
              "  (function(spec, embedOpt){\n",
              "    let outputDiv = document.currentScript.previousElementSibling;\n",
              "    if (outputDiv.id !== \"altair-viz-713fed120d2943969037315aa1eeccb6\") {\n",
              "      outputDiv = document.getElementById(\"altair-viz-713fed120d2943969037315aa1eeccb6\");\n",
              "    }\n",
              "    const paths = {\n",
              "      \"vega\": \"https://cdn.jsdelivr.net/npm/vega@5?noext\",\n",
              "      \"vega-lib\": \"https://cdn.jsdelivr.net/npm/vega-lib?noext\",\n",
              "      \"vega-lite\": \"https://cdn.jsdelivr.net/npm/vega-lite@5.20.1?noext\",\n",
              "      \"vega-embed\": \"https://cdn.jsdelivr.net/npm/vega-embed@6?noext\",\n",
              "    };\n",
              "\n",
              "    function maybeLoadScript(lib, version) {\n",
              "      var key = `${lib.replace(\"-\", \"\")}_version`;\n",
              "      return (VEGA_DEBUG[key] == version) ?\n",
              "        Promise.resolve(paths[lib]) :\n",
              "        new Promise(function(resolve, reject) {\n",
              "          var s = document.createElement('script');\n",
              "          document.getElementsByTagName(\"head\")[0].appendChild(s);\n",
              "          s.async = true;\n",
              "          s.onload = () => {\n",
              "            VEGA_DEBUG[key] = version;\n",
              "            return resolve(paths[lib]);\n",
              "          };\n",
              "          s.onerror = () => reject(`Error loading script: ${paths[lib]}`);\n",
              "          s.src = paths[lib];\n",
              "        });\n",
              "    }\n",
              "\n",
              "    function showError(err) {\n",
              "      outputDiv.innerHTML = `<div class=\"error\" style=\"color:red;\">${err}</div>`;\n",
              "      throw err;\n",
              "    }\n",
              "\n",
              "    function displayChart(vegaEmbed) {\n",
              "      vegaEmbed(outputDiv, spec, embedOpt)\n",
              "        .catch(err => showError(`Javascript Error: ${err.message}<br>This usually means there's a typo in your chart specification. See the javascript console for the full traceback.`));\n",
              "    }\n",
              "\n",
              "    if(typeof define === \"function\" && define.amd) {\n",
              "      requirejs.config({paths});\n",
              "      require([\"vega-embed\"], displayChart, err => showError(`Error loading script: ${err.message}`));\n",
              "    } else {\n",
              "      maybeLoadScript(\"vega\", \"5\")\n",
              "        .then(() => maybeLoadScript(\"vega-lite\", \"5.20.1\"))\n",
              "        .then(() => maybeLoadScript(\"vega-embed\", \"6\"))\n",
              "        .catch(showError)\n",
              "        .then(() => displayChart(vegaEmbed));\n",
              "    }\n",
              "  })({\"config\": {\"view\": {\"continuousWidth\": 300, \"continuousHeight\": 300}}, \"data\": {\"name\": \"data-043fec8d175e03fbe877719b112fa1dd\"}, \"mark\": {\"type\": \"circle\", \"opacity\": 0.7, \"size\": 60}, \"encoding\": {\"color\": {\"field\": \"Role\", \"legend\": {\"labelFontSize\": 12, \"titleFontSize\": 13}, \"scale\": {\"domain\": [\"Student\", \"Teacher\"], \"range\": [\"#99cdee\", \"#ee9999\"]}, \"type\": \"nominal\"}, \"x\": {\"axis\": {\"grid\": false, \"labelExpr\": \"['2011-12', '2018-19', '2023-24'][datum.value]\", \"title\": \"School Year\", \"values\": [0, 1, 2]}, \"field\": \"xj\", \"type\": \"quantitative\"}, \"y\": {\"axis\": {\"labelFontSize\": 12, \"titleFontSize\": 13}, \"field\": \"Attendance\", \"scale\": {\"domain\": [0, 100]}, \"title\": \"Attendance (%)\", \"type\": \"quantitative\"}}, \"height\": 380, \"title\": {\"text\": \"Student and Teacher Attendance across School Year\", \"fontSize\": 16}, \"transform\": [{\"calculate\": \"indexof(['2011-12', '2018-19', '2023-24'], datum.School_Year)\", \"as\": \"xIndex\"}, {\"calculate\": \"(random() - 0.5) * 0.45\", \"as\": \"jitter\"}, {\"calculate\": \"datum.xIndex + datum.jitter\", \"as\": \"xj\"}], \"width\": 560, \"$schema\": \"https://vega.github.io/schema/vega-lite/v5.20.1.json\", \"datasets\": {\"data-043fec8d175e03fbe877719b112fa1dd\": [{\"School_ID\": 609674, \"School_Year\": \"2011-12\", \"Role\": \"Student\", \"Attendance\": 68.8}, {\"School_ID\": 609676, \"School_Year\": \"2011-12\", \"Role\": \"Student\", \"Attendance\": 76.9}, {\"School_ID\": 609678, \"School_Year\": \"2011-12\", \"Role\": \"Student\", \"Attendance\": 93.8}, {\"School_ID\": 609679, \"School_Year\": \"2011-12\", \"Role\": \"Student\", \"Attendance\": 86.0}, {\"School_ID\": 609680, \"School_Year\": \"2011-12\", \"Role\": \"Student\", \"Attendance\": 93.4}, {\"School_ID\": 609682, \"School_Year\": \"2011-12\", \"Role\": \"Student\", \"Attendance\": 90.6}, {\"School_ID\": 609691, \"School_Year\": \"2011-12\", \"Role\": \"Student\", \"Attendance\": 88.6}, {\"School_ID\": 609692, \"School_Year\": \"2011-12\", \"Role\": \"Student\", \"Attendance\": 78.6}, {\"School_ID\": 609693, \"School_Year\": \"2011-12\", \"Role\": \"Student\", \"Attendance\": 93.6}, {\"School_ID\": 609694, \"School_Year\": \"2011-12\", \"Role\": \"Student\", \"Attendance\": 78.2}, {\"School_ID\": 609695, \"School_Year\": \"2011-12\", \"Role\": \"Student\", \"Attendance\": 81.1}, {\"School_ID\": 609698, \"School_Year\": \"2011-12\", \"Role\": \"Student\", \"Attendance\": 75.2}, {\"School_ID\": 609704, \"School_Year\": \"2011-12\", \"Role\": \"Student\", \"Attendance\": 86.1}, {\"School_ID\": 609705, \"School_Year\": \"2011-12\", \"Role\": \"Student\", \"Attendance\": 74.4}, {\"School_ID\": 609708, \"School_Year\": \"2011-12\", \"Role\": \"Student\", \"Attendance\": 84.3}, {\"School_ID\": 609709, \"School_Year\": \"2011-12\", \"Role\": \"Student\", \"Attendance\": 72.5}, {\"School_ID\": 609710, \"School_Year\": \"2011-12\", \"Role\": \"Student\", \"Attendance\": 81.2}, {\"School_ID\": 609711, \"School_Year\": \"2011-12\", \"Role\": \"Student\", \"Attendance\": 73.0}, {\"School_ID\": 609712, \"School_Year\": \"2011-12\", \"Role\": \"Student\", \"Attendance\": 84.8}, {\"School_ID\": 609713, \"School_Year\": \"2011-12\", \"Role\": \"Student\", \"Attendance\": 70.5}, {\"School_ID\": 609715, \"School_Year\": \"2011-12\", \"Role\": \"Student\", \"Attendance\": 89.3}, {\"School_ID\": 609718, \"School_Year\": \"2011-12\", \"Role\": \"Student\", \"Attendance\": 83.0}, {\"School_ID\": 609719, \"School_Year\": \"2011-12\", \"Role\": \"Student\", \"Attendance\": 87.7}, {\"School_ID\": 609722, \"School_Year\": \"2011-12\", \"Role\": \"Student\", \"Attendance\": 66.8}, {\"School_ID\": 609723, \"School_Year\": \"2011-12\", \"Role\": \"Student\", \"Attendance\": 74.1}, {\"School_ID\": 609724, \"School_Year\": \"2011-12\", \"Role\": \"Student\", \"Attendance\": 87.6}, {\"School_ID\": 609727, \"School_Year\": \"2011-12\", \"Role\": \"Student\", \"Attendance\": 63.0}, {\"School_ID\": 609728, \"School_Year\": \"2011-12\", \"Role\": \"Student\", \"Attendance\": 82.3}, {\"School_ID\": 609729, \"School_Year\": \"2011-12\", \"Role\": \"Student\", \"Attendance\": 81.2}, {\"School_ID\": 609730, \"School_Year\": \"2011-12\", \"Role\": \"Student\", \"Attendance\": 81.7}, {\"School_ID\": 609732, \"School_Year\": \"2011-12\", \"Role\": \"Student\", \"Attendance\": 79.2}, {\"School_ID\": 609733, \"School_Year\": \"2011-12\", \"Role\": \"Student\", \"Attendance\": 81.6}, {\"School_ID\": 609735, \"School_Year\": \"2011-12\", \"Role\": \"Student\", \"Attendance\": 78.4}, {\"School_ID\": 609737, \"School_Year\": \"2011-12\", \"Role\": \"Student\", \"Attendance\": 87.0}, {\"School_ID\": 609738, \"School_Year\": \"2011-12\", \"Role\": \"Student\", \"Attendance\": 84.6}, {\"School_ID\": 609739, \"School_Year\": \"2011-12\", \"Role\": \"Student\", \"Attendance\": 80.2}, {\"School_ID\": 609740, \"School_Year\": \"2011-12\", \"Role\": \"Student\", \"Attendance\": 74.1}, {\"School_ID\": 609741, \"School_Year\": \"2011-12\", \"Role\": \"Student\", \"Attendance\": 89.3}, {\"School_ID\": 609744, \"School_Year\": \"2011-12\", \"Role\": \"Student\", \"Attendance\": 89.8}, {\"School_ID\": 609745, \"School_Year\": \"2011-12\", \"Role\": \"Student\", \"Attendance\": 85.5}, {\"School_ID\": 609749, \"School_Year\": \"2011-12\", \"Role\": \"Student\", \"Attendance\": 95.7}, {\"School_ID\": 609751, \"School_Year\": \"2011-12\", \"Role\": \"Student\", \"Attendance\": 92.9}, {\"School_ID\": 609753, \"School_Year\": \"2011-12\", \"Role\": \"Student\", \"Attendance\": 92.8}, {\"School_ID\": 609754, \"School_Year\": \"2011-12\", \"Role\": \"Student\", \"Attendance\": 90.3}, {\"School_ID\": 609756, \"School_Year\": \"2011-12\", \"Role\": \"Student\", \"Attendance\": 85.0}, {\"School_ID\": 609759, \"School_Year\": \"2011-12\", \"Role\": \"Student\", \"Attendance\": 69.6}, {\"School_ID\": 609760, \"School_Year\": \"2011-12\", \"Role\": \"Student\", \"Attendance\": 91.6}, {\"School_ID\": 609761, \"School_Year\": \"2011-12\", \"Role\": \"Student\", \"Attendance\": 71.3}, {\"School_ID\": 609762, \"School_Year\": \"2011-12\", \"Role\": \"Student\", \"Attendance\": 74.6}, {\"School_ID\": 609764, \"School_Year\": \"2011-12\", \"Role\": \"Student\", \"Attendance\": 83.7}, {\"School_ID\": 609766, \"School_Year\": \"2011-12\", \"Role\": \"Student\", \"Attendance\": 87.6}, {\"School_ID\": 609768, \"School_Year\": \"2011-12\", \"Role\": \"Student\", \"Attendance\": 72.2}, {\"School_ID\": 609769, \"School_Year\": \"2011-12\", \"Role\": \"Student\", \"Attendance\": 86.3}, {\"School_ID\": 610244, \"School_Year\": \"2011-12\", \"Role\": \"Student\", \"Attendance\": 79.1}, {\"School_ID\": 610245, \"School_Year\": \"2011-12\", \"Role\": \"Student\", \"Attendance\": 79.2}, {\"School_ID\": 610304, \"School_Year\": \"2011-12\", \"Role\": \"Student\", \"Attendance\": 92.1}, {\"School_ID\": 610323, \"School_Year\": \"2011-12\", \"Role\": \"Student\", \"Attendance\": 75.6}, {\"School_ID\": 610334, \"School_Year\": \"2011-12\", \"Role\": \"Student\", \"Attendance\": 80.3}, {\"School_ID\": 610340, \"School_Year\": \"2011-12\", \"Role\": \"Student\", \"Attendance\": 93.1}, {\"School_ID\": 610357, \"School_Year\": \"2011-12\", \"Role\": \"Student\", \"Attendance\": 95.6}, {\"School_ID\": 610380, \"School_Year\": \"2011-12\", \"Role\": \"Student\", \"Attendance\": 91.3}, {\"School_ID\": 610381, \"School_Year\": \"2011-12\", \"Role\": \"Student\", \"Attendance\": 92.3}, {\"School_ID\": 610383, \"School_Year\": \"2011-12\", \"Role\": \"Student\", \"Attendance\": 87.5}, {\"School_ID\": 610384, \"School_Year\": \"2011-12\", \"Role\": \"Student\", \"Attendance\": 92.2}, {\"School_ID\": 610385, \"School_Year\": \"2011-12\", \"Role\": \"Student\", \"Attendance\": 89.2}, {\"School_ID\": 610389, \"School_Year\": \"2011-12\", \"Role\": \"Student\", \"Attendance\": 66.3}, {\"School_ID\": 610390, \"School_Year\": \"2011-12\", \"Role\": \"Student\", \"Attendance\": 92.9}, {\"School_ID\": 610392, \"School_Year\": \"2011-12\", \"Role\": \"Student\", \"Attendance\": 91.6}, {\"School_ID\": 610394, \"School_Year\": \"2011-12\", \"Role\": \"Student\", \"Attendance\": 88.7}, {\"School_ID\": 610402, \"School_Year\": \"2011-12\", \"Role\": \"Student\", \"Attendance\": 96.7}, {\"School_ID\": 610499, \"School_Year\": \"2011-12\", \"Role\": \"Student\", \"Attendance\": 91.4}, {\"School_ID\": 610513, \"School_Year\": \"2011-12\", \"Role\": \"Student\", \"Attendance\": 93.3}, {\"School_ID\": 610518, \"School_Year\": \"2011-12\", \"Role\": \"Student\", \"Attendance\": 84.5}, {\"School_ID\": 610524, \"School_Year\": \"2011-12\", \"Role\": \"Student\", \"Attendance\": 92.7}, {\"School_ID\": 609674, \"School_Year\": \"2018-19\", \"Role\": \"Student\", \"Attendance\": 87.05}, {\"School_ID\": 609676, \"School_Year\": \"2018-19\", \"Role\": \"Student\", \"Attendance\": 84.65}, {\"School_ID\": 609678, \"School_Year\": \"2018-19\", \"Role\": \"Student\", \"Attendance\": 92.65}, {\"School_ID\": 609679, \"School_Year\": \"2018-19\", \"Role\": \"Student\", \"Attendance\": 88.9}, {\"School_ID\": 609680, \"School_Year\": \"2018-19\", \"Role\": \"Student\", \"Attendance\": 92.9}, {\"School_ID\": 609682, \"School_Year\": \"2018-19\", \"Role\": \"Student\", \"Attendance\": 77.25}, {\"School_ID\": 609691, \"School_Year\": \"2018-19\", \"Role\": \"Student\", \"Attendance\": 88.35}, {\"School_ID\": 609692, \"School_Year\": \"2018-19\", \"Role\": \"Student\", \"Attendance\": 89.25}, {\"School_ID\": 609693, \"School_Year\": \"2018-19\", \"Role\": \"Student\", \"Attendance\": 91.95}, {\"School_ID\": 609694, \"School_Year\": \"2018-19\", \"Role\": \"Student\", \"Attendance\": 92.25}, {\"School_ID\": 609695, \"School_Year\": \"2018-19\", \"Role\": \"Student\", \"Attendance\": 91.35}, {\"School_ID\": 609698, \"School_Year\": \"2018-19\", \"Role\": \"Student\", \"Attendance\": 87.6}, {\"School_ID\": 609704, \"School_Year\": \"2018-19\", \"Role\": \"Student\", \"Attendance\": 86.15}, {\"School_ID\": 609705, \"School_Year\": \"2018-19\", \"Role\": \"Student\", \"Attendance\": 86.65}, {\"School_ID\": 609708, \"School_Year\": \"2018-19\", \"Role\": \"Student\", \"Attendance\": 85.75}, {\"School_ID\": 609709, \"School_Year\": \"2018-19\", \"Role\": \"Student\", \"Attendance\": 91.05}, {\"School_ID\": 609710, \"School_Year\": \"2018-19\", \"Role\": \"Student\", \"Attendance\": 82.75}, {\"School_ID\": 609711, \"School_Year\": \"2018-19\", \"Role\": \"Student\", \"Attendance\": 82.75}, {\"School_ID\": 609712, \"School_Year\": \"2018-19\", \"Role\": \"Student\", \"Attendance\": 80.1}, {\"School_ID\": 609713, \"School_Year\": \"2018-19\", \"Role\": \"Student\", \"Attendance\": 86.6}, {\"School_ID\": 609715, \"School_Year\": \"2018-19\", \"Role\": \"Student\", \"Attendance\": 89.85}, {\"School_ID\": 609718, \"School_Year\": \"2018-19\", \"Role\": \"Student\", \"Attendance\": 88.5}, {\"School_ID\": 609719, \"School_Year\": \"2018-19\", \"Role\": \"Student\", \"Attendance\": 88.85}, {\"School_ID\": 609722, \"School_Year\": \"2018-19\", \"Role\": \"Student\", \"Attendance\": 74.0}, {\"School_ID\": 609723, \"School_Year\": \"2018-19\", \"Role\": \"Student\", \"Attendance\": 76.35}, {\"School_ID\": 609724, \"School_Year\": \"2018-19\", \"Role\": \"Student\", \"Attendance\": 89.15}, {\"School_ID\": 609727, \"School_Year\": \"2018-19\", \"Role\": \"Student\", \"Attendance\": 81.8}, {\"School_ID\": 609728, \"School_Year\": \"2018-19\", \"Role\": \"Student\", \"Attendance\": 87.85}, {\"School_ID\": 609729, \"School_Year\": \"2018-19\", \"Role\": \"Student\", \"Attendance\": 83.8}, {\"School_ID\": 609730, \"School_Year\": \"2018-19\", \"Role\": \"Student\", \"Attendance\": 89.3}, {\"School_ID\": 609732, \"School_Year\": \"2018-19\", \"Role\": \"Student\", \"Attendance\": 86.65}, {\"School_ID\": 609733, \"School_Year\": \"2018-19\", \"Role\": \"Student\", \"Attendance\": 85.3}, {\"School_ID\": 609735, \"School_Year\": \"2018-19\", \"Role\": \"Student\", \"Attendance\": 81.15}, {\"School_ID\": 609737, \"School_Year\": \"2018-19\", \"Role\": \"Student\", \"Attendance\": 93.05}, {\"School_ID\": 609738, \"School_Year\": \"2018-19\", \"Role\": \"Student\", \"Attendance\": 90.5}, {\"School_ID\": 609739, \"School_Year\": \"2018-19\", \"Role\": \"Student\", \"Attendance\": 88.55}, {\"School_ID\": 609740, \"School_Year\": \"2018-19\", \"Role\": \"Student\", \"Attendance\": 89.35}, {\"School_ID\": 609741, \"School_Year\": \"2018-19\", \"Role\": \"Student\", \"Attendance\": 89.95}, {\"School_ID\": 609744, \"School_Year\": \"2018-19\", \"Role\": \"Student\", \"Attendance\": 91.35}, {\"School_ID\": 609745, \"School_Year\": \"2018-19\", \"Role\": \"Student\", \"Attendance\": 90.25}, {\"School_ID\": 609748, \"School_Year\": \"2018-19\", \"Role\": \"Student\", \"Attendance\": 83.5}, {\"School_ID\": 609749, \"School_Year\": \"2018-19\", \"Role\": \"Student\", \"Attendance\": 93.95}, {\"School_ID\": 609751, \"School_Year\": \"2018-19\", \"Role\": \"Student\", \"Attendance\": 90.55}, {\"School_ID\": 609753, \"School_Year\": \"2018-19\", \"Role\": \"Student\", \"Attendance\": 94.0}, {\"School_ID\": 609754, \"School_Year\": \"2018-19\", \"Role\": \"Student\", \"Attendance\": 91.95}, {\"School_ID\": 609756, \"School_Year\": \"2018-19\", \"Role\": \"Student\", \"Attendance\": 88.1}, {\"School_ID\": 609759, \"School_Year\": \"2018-19\", \"Role\": \"Student\", \"Attendance\": 81.7}, {\"School_ID\": 609760, \"School_Year\": \"2018-19\", \"Role\": \"Student\", \"Attendance\": 92.35}, {\"School_ID\": 609761, \"School_Year\": \"2018-19\", \"Role\": \"Student\", \"Attendance\": 81.4}, {\"School_ID\": 609762, \"School_Year\": \"2018-19\", \"Role\": \"Student\", \"Attendance\": 80.95}, {\"School_ID\": 609764, \"School_Year\": \"2018-19\", \"Role\": \"Student\", \"Attendance\": 85.7}, {\"School_ID\": 609766, \"School_Year\": \"2018-19\", \"Role\": \"Student\", \"Attendance\": 86.55}, {\"School_ID\": 609768, \"School_Year\": \"2018-19\", \"Role\": \"Student\", \"Attendance\": 84.7}, {\"School_ID\": 609769, \"School_Year\": \"2018-19\", \"Role\": \"Student\", \"Attendance\": 85.4}, {\"School_ID\": 610244, \"School_Year\": \"2018-19\", \"Role\": \"Student\", \"Attendance\": 92.25}, {\"School_ID\": 610245, \"School_Year\": \"2018-19\", \"Role\": \"Student\", \"Attendance\": 79.65}, {\"School_ID\": 610304, \"School_Year\": \"2018-19\", \"Role\": \"Student\", \"Attendance\": 95.2}, {\"School_ID\": 610323, \"School_Year\": \"2018-19\", \"Role\": \"Student\", \"Attendance\": 82.15}, {\"School_ID\": 610334, \"School_Year\": \"2018-19\", \"Role\": \"Student\", \"Attendance\": 84.1}, {\"School_ID\": 610340, \"School_Year\": \"2018-19\", \"Role\": \"Student\", \"Attendance\": 92.7}, {\"School_ID\": 610357, \"School_Year\": \"2018-19\", \"Role\": \"Student\", \"Attendance\": 87.8}, {\"School_ID\": 610380, \"School_Year\": \"2018-19\", \"Role\": \"Student\", \"Attendance\": 86.75}, {\"School_ID\": 610381, \"School_Year\": \"2018-19\", \"Role\": \"Student\", \"Attendance\": 85.95}, {\"School_ID\": 610383, \"School_Year\": \"2018-19\", \"Role\": \"Student\", \"Attendance\": 89.75}, {\"School_ID\": 610384, \"School_Year\": \"2018-19\", \"Role\": \"Student\", \"Attendance\": 92.95}, {\"School_ID\": 610385, \"School_Year\": \"2018-19\", \"Role\": \"Student\", \"Attendance\": 86.85}, {\"School_ID\": 610386, \"School_Year\": \"2018-19\", \"Role\": \"Student\", \"Attendance\": 85.8}, {\"School_ID\": 610389, \"School_Year\": \"2018-19\", \"Role\": \"Student\", \"Attendance\": 67.6}, {\"School_ID\": 610390, \"School_Year\": \"2018-19\", \"Role\": \"Student\", \"Attendance\": 90.75}, {\"School_ID\": 610392, \"School_Year\": \"2018-19\", \"Role\": \"Student\", \"Attendance\": 91.25}, {\"School_ID\": 610394, \"School_Year\": \"2018-19\", \"Role\": \"Student\", \"Attendance\": 85.65}, {\"School_ID\": 610402, \"School_Year\": \"2018-19\", \"Role\": \"Student\", \"Attendance\": 95.4}, {\"School_ID\": 610499, \"School_Year\": \"2018-19\", \"Role\": \"Student\", \"Attendance\": 84.6}, {\"School_ID\": 610513, \"School_Year\": \"2018-19\", \"Role\": \"Student\", \"Attendance\": 90.3}, {\"School_ID\": 610518, \"School_Year\": \"2018-19\", \"Role\": \"Student\", \"Attendance\": 86.35}, {\"School_ID\": 610543, \"School_Year\": \"2018-19\", \"Role\": \"Student\", \"Attendance\": 94.05}, {\"School_ID\": 610547, \"School_Year\": \"2018-19\", \"Role\": \"Student\", \"Attendance\": 90.5}, {\"School_ID\": 610558, \"School_Year\": \"2018-19\", \"Role\": \"Student\", \"Attendance\": 89.6}, {\"School_ID\": 610561, \"School_Year\": \"2018-19\", \"Role\": \"Student\", \"Attendance\": 91.25}, {\"School_ID\": 610563, \"School_Year\": \"2018-19\", \"Role\": \"Student\", \"Attendance\": 93.7}, {\"School_ID\": 610587, \"School_Year\": \"2018-19\", \"Role\": \"Student\", \"Attendance\": 92.3}, {\"School_ID\": 609674, \"School_Year\": \"2023-24\", \"Role\": \"Student\", \"Attendance\": 76.95}, {\"School_ID\": 609676, \"School_Year\": \"2023-24\", \"Role\": \"Student\", \"Attendance\": 68.05}, {\"School_ID\": 609678, \"School_Year\": \"2023-24\", \"Role\": \"Student\", \"Attendance\": 90.05}, {\"School_ID\": 609679, \"School_Year\": \"2023-24\", \"Role\": \"Student\", \"Attendance\": 83.75}, {\"School_ID\": 609680, \"School_Year\": \"2023-24\", \"Role\": \"Student\", \"Attendance\": 91.6}, {\"School_ID\": 609682, \"School_Year\": \"2023-24\", \"Role\": \"Student\", \"Attendance\": 71.35}, {\"School_ID\": 609691, \"School_Year\": \"2023-24\", \"Role\": \"Student\", \"Attendance\": 80.55}, {\"School_ID\": 609692, \"School_Year\": \"2023-24\", \"Role\": \"Student\", \"Attendance\": 79.9}, {\"School_ID\": 609693, \"School_Year\": \"2023-24\", \"Role\": \"Student\", \"Attendance\": 84.95}, {\"School_ID\": 609694, \"School_Year\": \"2023-24\", \"Role\": \"Student\", \"Attendance\": 92.55}, {\"School_ID\": 609695, \"School_Year\": \"2023-24\", \"Role\": \"Student\", \"Attendance\": 84.75}, {\"School_ID\": 609698, \"School_Year\": \"2023-24\", \"Role\": \"Student\", \"Attendance\": 74.5}, {\"School_ID\": 609704, \"School_Year\": \"2023-24\", \"Role\": \"Student\", \"Attendance\": 70.3}, {\"School_ID\": 609705, \"School_Year\": \"2023-24\", \"Role\": \"Student\", \"Attendance\": 66.65}, {\"School_ID\": 609708, \"School_Year\": \"2023-24\", \"Role\": \"Student\", \"Attendance\": 73.5}, {\"School_ID\": 609709, \"School_Year\": \"2023-24\", \"Role\": \"Student\", \"Attendance\": 77.7}, {\"School_ID\": 609710, \"School_Year\": \"2023-24\", \"Role\": \"Student\", \"Attendance\": 70.25}, {\"School_ID\": 609712, \"School_Year\": \"2023-24\", \"Role\": \"Student\", \"Attendance\": 64.95}, {\"School_ID\": 609713, \"School_Year\": \"2023-24\", \"Role\": \"Student\", \"Attendance\": 79.1}, {\"School_ID\": 609715, \"School_Year\": \"2023-24\", \"Role\": \"Student\", \"Attendance\": 78.05}, {\"School_ID\": 609718, \"School_Year\": \"2023-24\", \"Role\": \"Student\", \"Attendance\": 81.25}, {\"School_ID\": 609719, \"School_Year\": \"2023-24\", \"Role\": \"Student\", \"Attendance\": 78.5}, {\"School_ID\": 609722, \"School_Year\": \"2023-24\", \"Role\": \"Student\", \"Attendance\": 59.95}, {\"School_ID\": 609723, \"School_Year\": \"2023-24\", \"Role\": \"Student\", \"Attendance\": 60.95}, {\"School_ID\": 609724, \"School_Year\": \"2023-24\", \"Role\": \"Student\", \"Attendance\": 82.85}, {\"School_ID\": 609727, \"School_Year\": \"2023-24\", \"Role\": \"Student\", \"Attendance\": 59.5}, {\"School_ID\": 609728, \"School_Year\": \"2023-24\", \"Role\": \"Student\", \"Attendance\": 81.0}, {\"School_ID\": 609729, \"School_Year\": \"2023-24\", \"Role\": \"Student\", \"Attendance\": 74.8}, {\"School_ID\": 609730, \"School_Year\": \"2023-24\", \"Role\": \"Student\", \"Attendance\": 85.45}, {\"School_ID\": 609732, \"School_Year\": \"2023-24\", \"Role\": \"Student\", \"Attendance\": 74.8}, {\"School_ID\": 609733, \"School_Year\": \"2023-24\", \"Role\": \"Student\", \"Attendance\": 76.2}, {\"School_ID\": 609735, \"School_Year\": \"2023-24\", \"Role\": \"Student\", \"Attendance\": 65.8}, {\"School_ID\": 609737, \"School_Year\": \"2023-24\", \"Role\": \"Student\", \"Attendance\": 88.0}, {\"School_ID\": 609738, \"School_Year\": \"2023-24\", \"Role\": \"Student\", \"Attendance\": 86.45}, {\"School_ID\": 609739, \"School_Year\": \"2023-24\", \"Role\": \"Student\", \"Attendance\": 80.8}, {\"School_ID\": 609740, \"School_Year\": \"2023-24\", \"Role\": \"Student\", \"Attendance\": 77.7}, {\"School_ID\": 609741, \"School_Year\": \"2023-24\", \"Role\": \"Student\", \"Attendance\": 84.45}, {\"School_ID\": 609744, \"School_Year\": \"2023-24\", \"Role\": \"Student\", \"Attendance\": 83.65}, {\"School_ID\": 609745, \"School_Year\": \"2023-24\", \"Role\": \"Student\", \"Attendance\": 81.55}, {\"School_ID\": 609748, \"School_Year\": \"2023-24\", \"Role\": \"Student\", \"Attendance\": 61.4}, {\"School_ID\": 609749, \"School_Year\": \"2023-24\", \"Role\": \"Student\", \"Attendance\": 92.85}, {\"School_ID\": 609751, \"School_Year\": \"2023-24\", \"Role\": \"Student\", \"Attendance\": 90.65}, {\"School_ID\": 609753, \"School_Year\": \"2023-24\", \"Role\": \"Student\", \"Attendance\": 90.0}, {\"School_ID\": 609754, \"School_Year\": \"2023-24\", \"Role\": \"Student\", \"Attendance\": 82.55}, {\"School_ID\": 609756, \"School_Year\": \"2023-24\", \"Role\": \"Student\", \"Attendance\": 80.75}, {\"School_ID\": 609759, \"School_Year\": \"2023-24\", \"Role\": \"Student\", \"Attendance\": 68.6}, {\"School_ID\": 609760, \"School_Year\": \"2023-24\", \"Role\": \"Student\", \"Attendance\": 84.6}, {\"School_ID\": 609761, \"School_Year\": \"2023-24\", \"Role\": \"Student\", \"Attendance\": 75.95}, {\"School_ID\": 609762, \"School_Year\": \"2023-24\", \"Role\": \"Student\", \"Attendance\": 73.45}, {\"School_ID\": 609764, \"School_Year\": \"2023-24\", \"Role\": \"Student\", \"Attendance\": 78.0}, {\"School_ID\": 609766, \"School_Year\": \"2023-24\", \"Role\": \"Student\", \"Attendance\": 80.0}, {\"School_ID\": 609769, \"School_Year\": \"2023-24\", \"Role\": \"Student\", \"Attendance\": 81.75}, {\"School_ID\": 610244, \"School_Year\": \"2023-24\", \"Role\": \"Student\", \"Attendance\": 71.35}, {\"School_ID\": 610304, \"School_Year\": \"2023-24\", \"Role\": \"Student\", \"Attendance\": 86.75}, {\"School_ID\": 610323, \"School_Year\": \"2023-24\", \"Role\": \"Student\", \"Attendance\": 73.95}, {\"School_ID\": 610334, \"School_Year\": \"2023-24\", \"Role\": \"Student\", \"Attendance\": 66.8}, {\"School_ID\": 610340, \"School_Year\": \"2023-24\", \"Role\": \"Student\", \"Attendance\": 92.2}, {\"School_ID\": 610357, \"School_Year\": \"2023-24\", \"Role\": \"Student\", \"Attendance\": 62.15}, {\"School_ID\": 610380, \"School_Year\": \"2023-24\", \"Role\": \"Student\", \"Attendance\": 79.9}, {\"School_ID\": 610381, \"School_Year\": \"2023-24\", \"Role\": \"Student\", \"Attendance\": 83.95}, {\"School_ID\": 610383, \"School_Year\": \"2023-24\", \"Role\": \"Student\", \"Attendance\": 76.35}, {\"School_ID\": 610384, \"School_Year\": \"2023-24\", \"Role\": \"Student\", \"Attendance\": 88.4}, {\"School_ID\": 610385, \"School_Year\": \"2023-24\", \"Role\": \"Student\", \"Attendance\": 85.65}, {\"School_ID\": 610386, \"School_Year\": \"2023-24\", \"Role\": \"Student\", \"Attendance\": 77.05}, {\"School_ID\": 610389, \"School_Year\": \"2023-24\", \"Role\": \"Student\", \"Attendance\": 65.05}, {\"School_ID\": 610390, \"School_Year\": \"2023-24\", \"Role\": \"Student\", \"Attendance\": 85.65}, {\"School_ID\": 610392, \"School_Year\": \"2023-24\", \"Role\": \"Student\", \"Attendance\": 86.2}, {\"School_ID\": 610394, \"School_Year\": \"2023-24\", \"Role\": \"Student\", \"Attendance\": 70.9}, {\"School_ID\": 610499, \"School_Year\": \"2023-24\", \"Role\": \"Student\", \"Attendance\": 71.45}, {\"School_ID\": 610513, \"School_Year\": \"2023-24\", \"Role\": \"Student\", \"Attendance\": 87.7}, {\"School_ID\": 610518, \"School_Year\": \"2023-24\", \"Role\": \"Student\", \"Attendance\": 52.85}, {\"School_ID\": 610524, \"School_Year\": \"2023-24\", \"Role\": \"Student\", \"Attendance\": 82.45}, {\"School_ID\": 610529, \"School_Year\": \"2023-24\", \"Role\": \"Student\", \"Attendance\": 83.8}, {\"School_ID\": 610543, \"School_Year\": \"2023-24\", \"Role\": \"Student\", \"Attendance\": 85.55}, {\"School_ID\": 610547, \"School_Year\": \"2023-24\", \"Role\": \"Student\", \"Attendance\": 78.35}, {\"School_ID\": 610558, \"School_Year\": \"2023-24\", \"Role\": \"Student\", \"Attendance\": 84.55}, {\"School_ID\": 610561, \"School_Year\": \"2023-24\", \"Role\": \"Student\", \"Attendance\": 73.6}, {\"School_ID\": 610563, \"School_Year\": \"2023-24\", \"Role\": \"Student\", \"Attendance\": 85.7}, {\"School_ID\": 610587, \"School_Year\": \"2023-24\", \"Role\": \"Student\", \"Attendance\": 81.45}, {\"School_ID\": 610592, \"School_Year\": \"2023-24\", \"Role\": \"Student\", \"Attendance\": 69.95}, {\"School_ID\": 609674, \"School_Year\": \"2011-12\", \"Role\": \"Teacher\", \"Attendance\": 94.6}, {\"School_ID\": 609676, \"School_Year\": \"2011-12\", \"Role\": \"Teacher\", \"Attendance\": 96.0}, {\"School_ID\": 609678, \"School_Year\": \"2011-12\", \"Role\": \"Teacher\", \"Attendance\": 95.3}, {\"School_ID\": 609679, \"School_Year\": \"2011-12\", \"Role\": \"Teacher\", \"Attendance\": 94.4}, {\"School_ID\": 609680, \"School_Year\": \"2011-12\", \"Role\": \"Teacher\", \"Attendance\": 96.1}, {\"School_ID\": 609682, \"School_Year\": \"2011-12\", \"Role\": \"Teacher\", \"Attendance\": 95.7}, {\"School_ID\": 609691, \"School_Year\": \"2011-12\", \"Role\": \"Teacher\", \"Attendance\": 95.6}, {\"School_ID\": 609692, \"School_Year\": \"2011-12\", \"Role\": \"Teacher\", \"Attendance\": 94.3}, {\"School_ID\": 609693, \"School_Year\": \"2011-12\", \"Role\": \"Teacher\", \"Attendance\": 96.8}, {\"School_ID\": 609694, \"School_Year\": \"2011-12\", \"Role\": \"Teacher\", \"Attendance\": 95.9}, {\"School_ID\": 609695, \"School_Year\": \"2011-12\", \"Role\": \"Teacher\", \"Attendance\": 95.9}, {\"School_ID\": 609698, \"School_Year\": \"2011-12\", \"Role\": \"Teacher\", \"Attendance\": 94.3}, {\"School_ID\": 609704, \"School_Year\": \"2011-12\", \"Role\": \"Teacher\", \"Attendance\": 95.2}, {\"School_ID\": 609705, \"School_Year\": \"2011-12\", \"Role\": \"Teacher\", \"Attendance\": 95.4}, {\"School_ID\": 609708, \"School_Year\": \"2011-12\", \"Role\": \"Teacher\", \"Attendance\": 94.8}, {\"School_ID\": 609709, \"School_Year\": \"2011-12\", \"Role\": \"Teacher\", \"Attendance\": 94.0}, {\"School_ID\": 609710, \"School_Year\": \"2011-12\", \"Role\": \"Teacher\", \"Attendance\": 94.4}, {\"School_ID\": 609711, \"School_Year\": \"2011-12\", \"Role\": \"Teacher\", \"Attendance\": 94.7}, {\"School_ID\": 609712, \"School_Year\": \"2011-12\", \"Role\": \"Teacher\", \"Attendance\": 95.4}, {\"School_ID\": 609713, \"School_Year\": \"2011-12\", \"Role\": \"Teacher\", \"Attendance\": 94.2}, {\"School_ID\": 609715, \"School_Year\": \"2011-12\", \"Role\": \"Teacher\", \"Attendance\": 95.3}, {\"School_ID\": 609718, \"School_Year\": \"2011-12\", \"Role\": \"Teacher\", \"Attendance\": 94.7}, {\"School_ID\": 609719, \"School_Year\": \"2011-12\", \"Role\": \"Teacher\", \"Attendance\": 96.2}, {\"School_ID\": 609722, \"School_Year\": \"2011-12\", \"Role\": \"Teacher\", \"Attendance\": 95.4}, {\"School_ID\": 609723, \"School_Year\": \"2011-12\", \"Role\": \"Teacher\", \"Attendance\": 95.8}, {\"School_ID\": 609724, \"School_Year\": \"2011-12\", \"Role\": \"Teacher\", \"Attendance\": 96.5}, {\"School_ID\": 609727, \"School_Year\": \"2011-12\", \"Role\": \"Teacher\", \"Attendance\": 96.1}, {\"School_ID\": 609728, \"School_Year\": \"2011-12\", \"Role\": \"Teacher\", \"Attendance\": 96.1}, {\"School_ID\": 609729, \"School_Year\": \"2011-12\", \"Role\": \"Teacher\", \"Attendance\": 96.0}, {\"School_ID\": 609730, \"School_Year\": \"2011-12\", \"Role\": \"Teacher\", \"Attendance\": 96.4}, {\"School_ID\": 609732, \"School_Year\": \"2011-12\", \"Role\": \"Teacher\", \"Attendance\": 96.2}, {\"School_ID\": 609733, \"School_Year\": \"2011-12\", \"Role\": \"Teacher\", \"Attendance\": 95.8}, {\"School_ID\": 609735, \"School_Year\": \"2011-12\", \"Role\": \"Teacher\", \"Attendance\": 95.2}, {\"School_ID\": 609737, \"School_Year\": \"2011-12\", \"Role\": \"Teacher\", \"Attendance\": 95.6}, {\"School_ID\": 609738, \"School_Year\": \"2011-12\", \"Role\": \"Teacher\", \"Attendance\": 96.0}, {\"School_ID\": 609739, \"School_Year\": \"2011-12\", \"Role\": \"Teacher\", \"Attendance\": 95.1}, {\"School_ID\": 609740, \"School_Year\": \"2011-12\", \"Role\": \"Teacher\", \"Attendance\": 96.2}, {\"School_ID\": 609741, \"School_Year\": \"2011-12\", \"Role\": \"Teacher\", \"Attendance\": 96.4}, {\"School_ID\": 609744, \"School_Year\": \"2011-12\", \"Role\": \"Teacher\", \"Attendance\": 95.6}, {\"School_ID\": 609745, \"School_Year\": \"2011-12\", \"Role\": \"Teacher\", \"Attendance\": 95.2}, {\"School_ID\": 609749, \"School_Year\": \"2011-12\", \"Role\": \"Teacher\", \"Attendance\": 96.8}, {\"School_ID\": 609751, \"School_Year\": \"2011-12\", \"Role\": \"Teacher\", \"Attendance\": 96.3}, {\"School_ID\": 609753, \"School_Year\": \"2011-12\", \"Role\": \"Teacher\", \"Attendance\": 95.2}, {\"School_ID\": 609754, \"School_Year\": \"2011-12\", \"Role\": \"Teacher\", \"Attendance\": 95.6}, {\"School_ID\": 609756, \"School_Year\": \"2011-12\", \"Role\": \"Teacher\", \"Attendance\": 95.0}, {\"School_ID\": 609759, \"School_Year\": \"2011-12\", \"Role\": \"Teacher\", \"Attendance\": 94.2}, {\"School_ID\": 609760, \"School_Year\": \"2011-12\", \"Role\": \"Teacher\", \"Attendance\": 96.4}, {\"School_ID\": 609761, \"School_Year\": \"2011-12\", \"Role\": \"Teacher\", \"Attendance\": 95.2}, {\"School_ID\": 609762, \"School_Year\": \"2011-12\", \"Role\": \"Teacher\", \"Attendance\": 94.2}, {\"School_ID\": 609764, \"School_Year\": \"2011-12\", \"Role\": \"Teacher\", \"Attendance\": 95.8}, {\"School_ID\": 609766, \"School_Year\": \"2011-12\", \"Role\": \"Teacher\", \"Attendance\": 95.5}, {\"School_ID\": 609768, \"School_Year\": \"2011-12\", \"Role\": \"Teacher\", \"Attendance\": 94.3}, {\"School_ID\": 609769, \"School_Year\": \"2011-12\", \"Role\": \"Teacher\", \"Attendance\": 94.3}, {\"School_ID\": 610244, \"School_Year\": \"2011-12\", \"Role\": \"Teacher\", \"Attendance\": 95.4}, {\"School_ID\": 610245, \"School_Year\": \"2011-12\", \"Role\": \"Teacher\", \"Attendance\": 94.7}, {\"School_ID\": 610304, \"School_Year\": \"2011-12\", \"Role\": \"Teacher\", \"Attendance\": 97.4}, {\"School_ID\": 610323, \"School_Year\": \"2011-12\", \"Role\": \"Teacher\", \"Attendance\": 94.7}, {\"School_ID\": 610334, \"School_Year\": \"2011-12\", \"Role\": \"Teacher\", \"Attendance\": 95.1}, {\"School_ID\": 610340, \"School_Year\": \"2011-12\", \"Role\": \"Teacher\", \"Attendance\": 96.1}, {\"School_ID\": 610357, \"School_Year\": \"2011-12\", \"Role\": \"Teacher\", \"Attendance\": 95.7}, {\"School_ID\": 610380, \"School_Year\": \"2011-12\", \"Role\": \"Teacher\", \"Attendance\": 96.7}, {\"School_ID\": 610381, \"School_Year\": \"2011-12\", \"Role\": \"Teacher\", \"Attendance\": 95.6}, {\"School_ID\": 610383, \"School_Year\": \"2011-12\", \"Role\": \"Teacher\", \"Attendance\": 95.1}, {\"School_ID\": 610384, \"School_Year\": \"2011-12\", \"Role\": \"Teacher\", \"Attendance\": 96.0}, {\"School_ID\": 610385, \"School_Year\": \"2011-12\", \"Role\": \"Teacher\", \"Attendance\": 96.7}, {\"School_ID\": 610389, \"School_Year\": \"2011-12\", \"Role\": \"Teacher\", \"Attendance\": 95.0}, {\"School_ID\": 610390, \"School_Year\": \"2011-12\", \"Role\": \"Teacher\", \"Attendance\": 95.9}, {\"School_ID\": 610392, \"School_Year\": \"2011-12\", \"Role\": \"Teacher\", \"Attendance\": 96.0}, {\"School_ID\": 610394, \"School_Year\": \"2011-12\", \"Role\": \"Teacher\", \"Attendance\": 95.9}, {\"School_ID\": 610402, \"School_Year\": \"2011-12\", \"Role\": \"Teacher\", \"Attendance\": 94.5}, {\"School_ID\": 610499, \"School_Year\": \"2011-12\", \"Role\": \"Teacher\", \"Attendance\": 96.6}, {\"School_ID\": 610513, \"School_Year\": \"2011-12\", \"Role\": \"Teacher\", \"Attendance\": 96.9}, {\"School_ID\": 610518, \"School_Year\": \"2011-12\", \"Role\": \"Teacher\", \"Attendance\": 96.5}, {\"School_ID\": 610524, \"School_Year\": \"2011-12\", \"Role\": \"Teacher\", \"Attendance\": 96.9}, {\"School_ID\": 609674, \"School_Year\": \"2018-19\", \"Role\": \"Teacher\", \"Attendance\": 93.5}, {\"School_ID\": 609676, \"School_Year\": \"2018-19\", \"Role\": \"Teacher\", \"Attendance\": 94.45}, {\"School_ID\": 609678, \"School_Year\": \"2018-19\", \"Role\": \"Teacher\", \"Attendance\": 95.4}, {\"School_ID\": 609679, \"School_Year\": \"2018-19\", \"Role\": \"Teacher\", \"Attendance\": 94.0}, {\"School_ID\": 609680, \"School_Year\": \"2018-19\", \"Role\": \"Teacher\", \"Attendance\": 95.1}, {\"School_ID\": 609682, \"School_Year\": \"2018-19\", \"Role\": \"Teacher\", \"Attendance\": 93.8}, {\"School_ID\": 609691, \"School_Year\": \"2018-19\", \"Role\": \"Teacher\", \"Attendance\": 94.7}, {\"School_ID\": 609692, \"School_Year\": \"2018-19\", \"Role\": \"Teacher\", \"Attendance\": 94.0}, {\"School_ID\": 609693, \"School_Year\": \"2018-19\", \"Role\": \"Teacher\", \"Attendance\": 94.3}, {\"School_ID\": 609694, \"School_Year\": \"2018-19\", \"Role\": \"Teacher\", \"Attendance\": 95.4}, {\"School_ID\": 609695, \"School_Year\": \"2018-19\", \"Role\": \"Teacher\", \"Attendance\": 95.7}, {\"School_ID\": 609698, \"School_Year\": \"2018-19\", \"Role\": \"Teacher\", \"Attendance\": 94.3}, {\"School_ID\": 609704, \"School_Year\": \"2018-19\", \"Role\": \"Teacher\", \"Attendance\": 94.0}, {\"School_ID\": 609705, \"School_Year\": \"2018-19\", \"Role\": \"Teacher\", \"Attendance\": 94.1}, {\"School_ID\": 609708, \"School_Year\": \"2018-19\", \"Role\": \"Teacher\", \"Attendance\": 92.7}, {\"School_ID\": 609709, \"School_Year\": \"2018-19\", \"Role\": \"Teacher\", \"Attendance\": 95.7}, {\"School_ID\": 609710, \"School_Year\": \"2018-19\", \"Role\": \"Teacher\", \"Attendance\": 93.1}, {\"School_ID\": 609711, \"School_Year\": \"2018-19\", \"Role\": \"Teacher\", \"Attendance\": 94.6}, {\"School_ID\": 609712, \"School_Year\": \"2018-19\", \"Role\": \"Teacher\", \"Attendance\": 93.95}, {\"School_ID\": 609713, \"School_Year\": \"2018-19\", \"Role\": \"Teacher\", \"Attendance\": 93.85}, {\"School_ID\": 609715, \"School_Year\": \"2018-19\", \"Role\": \"Teacher\", \"Attendance\": 93.6}, {\"School_ID\": 609718, \"School_Year\": \"2018-19\", \"Role\": \"Teacher\", \"Attendance\": 94.65}, {\"School_ID\": 609719, \"School_Year\": \"2018-19\", \"Role\": \"Teacher\", \"Attendance\": 95.4}, {\"School_ID\": 609722, \"School_Year\": \"2018-19\", \"Role\": \"Teacher\", \"Attendance\": 92.9}, {\"School_ID\": 609723, \"School_Year\": \"2018-19\", \"Role\": \"Teacher\", \"Attendance\": 93.85}, {\"School_ID\": 609724, \"School_Year\": \"2018-19\", \"Role\": \"Teacher\", \"Attendance\": 95.05}, {\"School_ID\": 609727, \"School_Year\": \"2018-19\", \"Role\": \"Teacher\", \"Attendance\": 93.7}, {\"School_ID\": 609728, \"School_Year\": \"2018-19\", \"Role\": \"Teacher\", \"Attendance\": 94.85}, {\"School_ID\": 609729, \"School_Year\": \"2018-19\", \"Role\": \"Teacher\", \"Attendance\": 95.0}, {\"School_ID\": 609730, \"School_Year\": \"2018-19\", \"Role\": \"Teacher\", \"Attendance\": 95.9}, {\"School_ID\": 609732, \"School_Year\": \"2018-19\", \"Role\": \"Teacher\", \"Attendance\": 94.25}, {\"School_ID\": 609733, \"School_Year\": \"2018-19\", \"Role\": \"Teacher\", \"Attendance\": 95.3}, {\"School_ID\": 609735, \"School_Year\": \"2018-19\", \"Role\": \"Teacher\", \"Attendance\": 94.1}, {\"School_ID\": 609737, \"School_Year\": \"2018-19\", \"Role\": \"Teacher\", \"Attendance\": 94.85}, {\"School_ID\": 609738, \"School_Year\": \"2018-19\", \"Role\": \"Teacher\", \"Attendance\": 94.95}, {\"School_ID\": 609739, \"School_Year\": \"2018-19\", \"Role\": \"Teacher\", \"Attendance\": 94.8}, {\"School_ID\": 609740, \"School_Year\": \"2018-19\", \"Role\": \"Teacher\", \"Attendance\": 94.05}, {\"School_ID\": 609741, \"School_Year\": \"2018-19\", \"Role\": \"Teacher\", \"Attendance\": 95.1}, {\"School_ID\": 609744, \"School_Year\": \"2018-19\", \"Role\": \"Teacher\", \"Attendance\": 94.1}, {\"School_ID\": 609745, \"School_Year\": \"2018-19\", \"Role\": \"Teacher\", \"Attendance\": 94.85}, {\"School_ID\": 609748, \"School_Year\": \"2018-19\", \"Role\": \"Teacher\", \"Attendance\": 93.75}, {\"School_ID\": 609749, \"School_Year\": \"2018-19\", \"Role\": \"Teacher\", \"Attendance\": 96.1}, {\"School_ID\": 609751, \"School_Year\": \"2018-19\", \"Role\": \"Teacher\", \"Attendance\": 94.55}, {\"School_ID\": 609753, \"School_Year\": \"2018-19\", \"Role\": \"Teacher\", \"Attendance\": 94.1}, {\"School_ID\": 609754, \"School_Year\": \"2018-19\", \"Role\": \"Teacher\", \"Attendance\": 96.75}, {\"School_ID\": 609756, \"School_Year\": \"2018-19\", \"Role\": \"Teacher\", \"Attendance\": 94.25}, {\"School_ID\": 609759, \"School_Year\": \"2018-19\", \"Role\": \"Teacher\", \"Attendance\": 96.4}, {\"School_ID\": 609760, \"School_Year\": \"2018-19\", \"Role\": \"Teacher\", \"Attendance\": 94.4}, {\"School_ID\": 609761, \"School_Year\": \"2018-19\", \"Role\": \"Teacher\", \"Attendance\": 93.45}, {\"School_ID\": 609762, \"School_Year\": \"2018-19\", \"Role\": \"Teacher\", \"Attendance\": 91.9}, {\"School_ID\": 609764, \"School_Year\": \"2018-19\", \"Role\": \"Teacher\", \"Attendance\": 95.2}, {\"School_ID\": 609766, \"School_Year\": \"2018-19\", \"Role\": \"Teacher\", \"Attendance\": 95.3}, {\"School_ID\": 609768, \"School_Year\": \"2018-19\", \"Role\": \"Teacher\", \"Attendance\": 92.95}, {\"School_ID\": 609769, \"School_Year\": \"2018-19\", \"Role\": \"Teacher\", \"Attendance\": 92.65}, {\"School_ID\": 610244, \"School_Year\": \"2018-19\", \"Role\": \"Teacher\", \"Attendance\": 93.65}, {\"School_ID\": 610245, \"School_Year\": \"2018-19\", \"Role\": \"Teacher\", \"Attendance\": 94.15}, {\"School_ID\": 610304, \"School_Year\": \"2018-19\", \"Role\": \"Teacher\", \"Attendance\": 95.55}, {\"School_ID\": 610323, \"School_Year\": \"2018-19\", \"Role\": \"Teacher\", \"Attendance\": 94.1}, {\"School_ID\": 610334, \"School_Year\": \"2018-19\", \"Role\": \"Teacher\", \"Attendance\": 95.15}, {\"School_ID\": 610340, \"School_Year\": \"2018-19\", \"Role\": \"Teacher\", \"Attendance\": 95.65}, {\"School_ID\": 610357, \"School_Year\": \"2018-19\", \"Role\": \"Teacher\", \"Attendance\": 96.5}, {\"School_ID\": 610380, \"School_Year\": \"2018-19\", \"Role\": \"Teacher\", \"Attendance\": 95.05}, {\"School_ID\": 610381, \"School_Year\": \"2018-19\", \"Role\": \"Teacher\", \"Attendance\": 94.55}, {\"School_ID\": 610383, \"School_Year\": \"2018-19\", \"Role\": \"Teacher\", \"Attendance\": 93.95}, {\"School_ID\": 610384, \"School_Year\": \"2018-19\", \"Role\": \"Teacher\", \"Attendance\": 95.1}, {\"School_ID\": 610385, \"School_Year\": \"2018-19\", \"Role\": \"Teacher\", \"Attendance\": 94.35}, {\"School_ID\": 610386, \"School_Year\": \"2018-19\", \"Role\": \"Teacher\", \"Attendance\": 96.25}, {\"School_ID\": 610389, \"School_Year\": \"2018-19\", \"Role\": \"Teacher\", \"Attendance\": 93.9}, {\"School_ID\": 610390, \"School_Year\": \"2018-19\", \"Role\": \"Teacher\", \"Attendance\": 94.45}, {\"School_ID\": 610392, \"School_Year\": \"2018-19\", \"Role\": \"Teacher\", \"Attendance\": 94.7}, {\"School_ID\": 610394, \"School_Year\": \"2018-19\", \"Role\": \"Teacher\", \"Attendance\": 94.65}, {\"School_ID\": 610402, \"School_Year\": \"2018-19\", \"Role\": \"Teacher\", \"Attendance\": 96.3}, {\"School_ID\": 610499, \"School_Year\": \"2018-19\", \"Role\": \"Teacher\", \"Attendance\": 95.4}, {\"School_ID\": 610513, \"School_Year\": \"2018-19\", \"Role\": \"Teacher\", \"Attendance\": 95.25}, {\"School_ID\": 610518, \"School_Year\": \"2018-19\", \"Role\": \"Teacher\", \"Attendance\": 95.4}, {\"School_ID\": 610543, \"School_Year\": \"2018-19\", \"Role\": \"Teacher\", \"Attendance\": 96.1}, {\"School_ID\": 610547, \"School_Year\": \"2018-19\", \"Role\": \"Teacher\", \"Attendance\": 94.3}, {\"School_ID\": 610558, \"School_Year\": \"2018-19\", \"Role\": \"Teacher\", \"Attendance\": 94.5}, {\"School_ID\": 610561, \"School_Year\": \"2018-19\", \"Role\": \"Teacher\", \"Attendance\": 96.2}, {\"School_ID\": 610563, \"School_Year\": \"2018-19\", \"Role\": \"Teacher\", \"Attendance\": 96.05}, {\"School_ID\": 610587, \"School_Year\": \"2018-19\", \"Role\": \"Teacher\", \"Attendance\": 95.5}, {\"School_ID\": 609674, \"School_Year\": \"2023-24\", \"Role\": \"Teacher\", \"Attendance\": 83.15}, {\"School_ID\": 609676, \"School_Year\": \"2023-24\", \"Role\": \"Teacher\", \"Attendance\": 86.75}, {\"School_ID\": 609678, \"School_Year\": \"2023-24\", \"Role\": \"Teacher\", \"Attendance\": 90.55}, {\"School_ID\": 609679, \"School_Year\": \"2023-24\", \"Role\": \"Teacher\", \"Attendance\": 87.1}, {\"School_ID\": 609680, \"School_Year\": \"2023-24\", \"Role\": \"Teacher\", \"Attendance\": 88.15}, {\"School_ID\": 609682, \"School_Year\": \"2023-24\", \"Role\": \"Teacher\", \"Attendance\": 89.85}, {\"School_ID\": 609691, \"School_Year\": \"2023-24\", \"Role\": \"Teacher\", \"Attendance\": 89.35}, {\"School_ID\": 609692, \"School_Year\": \"2023-24\", \"Role\": \"Teacher\", \"Attendance\": 84.7}, {\"School_ID\": 609693, \"School_Year\": \"2023-24\", \"Role\": \"Teacher\", \"Attendance\": 87.05}, {\"School_ID\": 609694, \"School_Year\": \"2023-24\", \"Role\": \"Teacher\", \"Attendance\": 90.95}, {\"School_ID\": 609695, \"School_Year\": \"2023-24\", \"Role\": \"Teacher\", \"Attendance\": 91.0}, {\"School_ID\": 609698, \"School_Year\": \"2023-24\", \"Role\": \"Teacher\", \"Attendance\": 86.9}, {\"School_ID\": 609704, \"School_Year\": \"2023-24\", \"Role\": \"Teacher\", \"Attendance\": 85.05}, {\"School_ID\": 609705, \"School_Year\": \"2023-24\", \"Role\": \"Teacher\", \"Attendance\": 85.05}, {\"School_ID\": 609708, \"School_Year\": \"2023-24\", \"Role\": \"Teacher\", \"Attendance\": 86.35}, {\"School_ID\": 609709, \"School_Year\": \"2023-24\", \"Role\": \"Teacher\", \"Attendance\": 86.75}, {\"School_ID\": 609710, \"School_Year\": \"2023-24\", \"Role\": \"Teacher\", \"Attendance\": 85.8}, {\"School_ID\": 609712, \"School_Year\": \"2023-24\", \"Role\": \"Teacher\", \"Attendance\": 85.3}, {\"School_ID\": 609713, \"School_Year\": \"2023-24\", \"Role\": \"Teacher\", \"Attendance\": 84.8}, {\"School_ID\": 609715, \"School_Year\": \"2023-24\", \"Role\": \"Teacher\", \"Attendance\": 86.5}, {\"School_ID\": 609718, \"School_Year\": \"2023-24\", \"Role\": \"Teacher\", \"Attendance\": 89.8}, {\"School_ID\": 609719, \"School_Year\": \"2023-24\", \"Role\": \"Teacher\", \"Attendance\": 88.45}, {\"School_ID\": 609722, \"School_Year\": \"2023-24\", \"Role\": \"Teacher\", \"Attendance\": 88.95}, {\"School_ID\": 609723, \"School_Year\": \"2023-24\", \"Role\": \"Teacher\", \"Attendance\": 89.15}, {\"School_ID\": 609724, \"School_Year\": \"2023-24\", \"Role\": \"Teacher\", \"Attendance\": 89.75}, {\"School_ID\": 609727, \"School_Year\": \"2023-24\", \"Role\": \"Teacher\", \"Attendance\": 82.3}, {\"School_ID\": 609728, \"School_Year\": \"2023-24\", \"Role\": \"Teacher\", \"Attendance\": 89.05}, {\"School_ID\": 609729, \"School_Year\": \"2023-24\", \"Role\": \"Teacher\", \"Attendance\": 89.5}, {\"School_ID\": 609730, \"School_Year\": \"2023-24\", \"Role\": \"Teacher\", \"Attendance\": 91.2}, {\"School_ID\": 609732, \"School_Year\": \"2023-24\", \"Role\": \"Teacher\", \"Attendance\": 85.55}, {\"School_ID\": 609733, \"School_Year\": \"2023-24\", \"Role\": \"Teacher\", \"Attendance\": 87.4}, {\"School_ID\": 609735, \"School_Year\": \"2023-24\", \"Role\": \"Teacher\", \"Attendance\": 90.7}, {\"School_ID\": 609737, \"School_Year\": \"2023-24\", \"Role\": \"Teacher\", \"Attendance\": 89.3}, {\"School_ID\": 609738, \"School_Year\": \"2023-24\", \"Role\": \"Teacher\", \"Attendance\": 88.6}, {\"School_ID\": 609739, \"School_Year\": \"2023-24\", \"Role\": \"Teacher\", \"Attendance\": 86.65}, {\"School_ID\": 609740, \"School_Year\": \"2023-24\", \"Role\": \"Teacher\", \"Attendance\": 88.3}, {\"School_ID\": 609741, \"School_Year\": \"2023-24\", \"Role\": \"Teacher\", \"Attendance\": 87.55}, {\"School_ID\": 609744, \"School_Year\": \"2023-24\", \"Role\": \"Teacher\", \"Attendance\": 88.75}, {\"School_ID\": 609745, \"School_Year\": \"2023-24\", \"Role\": \"Teacher\", \"Attendance\": 89.25}, {\"School_ID\": 609748, \"School_Year\": \"2023-24\", \"Role\": \"Teacher\", \"Attendance\": 88.9}, {\"School_ID\": 609749, \"School_Year\": \"2023-24\", \"Role\": \"Teacher\", \"Attendance\": 89.85}, {\"School_ID\": 609751, \"School_Year\": \"2023-24\", \"Role\": \"Teacher\", \"Attendance\": 92.8}, {\"School_ID\": 609753, \"School_Year\": \"2023-24\", \"Role\": \"Teacher\", \"Attendance\": 91.65}, {\"School_ID\": 609754, \"School_Year\": \"2023-24\", \"Role\": \"Teacher\", \"Attendance\": 87.7}, {\"School_ID\": 609756, \"School_Year\": \"2023-24\", \"Role\": \"Teacher\", \"Attendance\": 86.05}, {\"School_ID\": 609759, \"School_Year\": \"2023-24\", \"Role\": \"Teacher\", \"Attendance\": 91.45}, {\"School_ID\": 609760, \"School_Year\": \"2023-24\", \"Role\": \"Teacher\", \"Attendance\": 85.95}, {\"School_ID\": 609761, \"School_Year\": \"2023-24\", \"Role\": \"Teacher\", \"Attendance\": 88.95}, {\"School_ID\": 609762, \"School_Year\": \"2023-24\", \"Role\": \"Teacher\", \"Attendance\": 86.05}, {\"School_ID\": 609764, \"School_Year\": \"2023-24\", \"Role\": \"Teacher\", \"Attendance\": 87.5}, {\"School_ID\": 609766, \"School_Year\": \"2023-24\", \"Role\": \"Teacher\", \"Attendance\": 88.95}, {\"School_ID\": 609769, \"School_Year\": \"2023-24\", \"Role\": \"Teacher\", \"Attendance\": 88.6}, {\"School_ID\": 610244, \"School_Year\": \"2023-24\", \"Role\": \"Teacher\", \"Attendance\": 88.35}, {\"School_ID\": 610304, \"School_Year\": \"2023-24\", \"Role\": \"Teacher\", \"Attendance\": 93.55}, {\"School_ID\": 610323, \"School_Year\": \"2023-24\", \"Role\": \"Teacher\", \"Attendance\": 85.6}, {\"School_ID\": 610334, \"School_Year\": \"2023-24\", \"Role\": \"Teacher\", \"Attendance\": 90.45}, {\"School_ID\": 610340, \"School_Year\": \"2023-24\", \"Role\": \"Teacher\", \"Attendance\": 90.15}, {\"School_ID\": 610357, \"School_Year\": \"2023-24\", \"Role\": \"Teacher\", \"Attendance\": 87.0}, {\"School_ID\": 610380, \"School_Year\": \"2023-24\", \"Role\": \"Teacher\", \"Attendance\": 91.1}, {\"School_ID\": 610381, \"School_Year\": \"2023-24\", \"Role\": \"Teacher\", \"Attendance\": 87.3}, {\"School_ID\": 610383, \"School_Year\": \"2023-24\", \"Role\": \"Teacher\", \"Attendance\": 85.15}, {\"School_ID\": 610384, \"School_Year\": \"2023-24\", \"Role\": \"Teacher\", \"Attendance\": 87.65}, {\"School_ID\": 610385, \"School_Year\": \"2023-24\", \"Role\": \"Teacher\", \"Attendance\": 86.85}, {\"School_ID\": 610386, \"School_Year\": \"2023-24\", \"Role\": \"Teacher\", \"Attendance\": 91.2}, {\"School_ID\": 610389, \"School_Year\": \"2023-24\", \"Role\": \"Teacher\", \"Attendance\": 85.35}, {\"School_ID\": 610390, \"School_Year\": \"2023-24\", \"Role\": \"Teacher\", \"Attendance\": 91.2}, {\"School_ID\": 610392, \"School_Year\": \"2023-24\", \"Role\": \"Teacher\", \"Attendance\": 88.5}, {\"School_ID\": 610394, \"School_Year\": \"2023-24\", \"Role\": \"Teacher\", \"Attendance\": 90.9}, {\"School_ID\": 610499, \"School_Year\": \"2023-24\", \"Role\": \"Teacher\", \"Attendance\": 88.95}, {\"School_ID\": 610513, \"School_Year\": \"2023-24\", \"Role\": \"Teacher\", \"Attendance\": 84.7}, {\"School_ID\": 610518, \"School_Year\": \"2023-24\", \"Role\": \"Teacher\", \"Attendance\": 87.6}, {\"School_ID\": 610524, \"School_Year\": \"2023-24\", \"Role\": \"Teacher\", \"Attendance\": 88.8}, {\"School_ID\": 610529, \"School_Year\": \"2023-24\", \"Role\": \"Teacher\", \"Attendance\": 91.3}, {\"School_ID\": 610543, \"School_Year\": \"2023-24\", \"Role\": \"Teacher\", \"Attendance\": 91.1}, {\"School_ID\": 610547, \"School_Year\": \"2023-24\", \"Role\": \"Teacher\", \"Attendance\": 86.55}, {\"School_ID\": 610558, \"School_Year\": \"2023-24\", \"Role\": \"Teacher\", \"Attendance\": 87.05}, {\"School_ID\": 610561, \"School_Year\": \"2023-24\", \"Role\": \"Teacher\", \"Attendance\": 89.15}, {\"School_ID\": 610563, \"School_Year\": \"2023-24\", \"Role\": \"Teacher\", \"Attendance\": 90.75}, {\"School_ID\": 610587, \"School_Year\": \"2023-24\", \"Role\": \"Teacher\", \"Attendance\": 87.85}, {\"School_ID\": 610592, \"School_Year\": \"2023-24\", \"Role\": \"Teacher\", \"Attendance\": 87.25}]}}, {\"mode\": \"vega-lite\"});\n",
              "</script>"
            ],
            "text/plain": [
              "alt.Chart(...)"
            ]
          },
          "metadata": {},
          "execution_count": 18
        }
      ]
    },
    {
      "cell_type": "markdown",
      "source": [
        "# Plot 3 & 4"
      ],
      "metadata": {
        "id": "8Wi21gRZ11Jt"
      }
    },
    {
      "cell_type": "code",
      "source": [
        "# clean data\n",
        "dfs = [df_1112[[\"School_ID\", \"School_Survey_Safety\", \"School_Year\"]],\n",
        "       df_1819[[\"School_ID\", \"School_Survey_Safety\", \"School_Year\"]],\n",
        "       df_2324[[\"School_ID\", \"School_Survey_Safety\", \"School_Year\"]]]\n",
        "\n",
        "safety = pd.concat(dfs, ignore_index=True).copy()\n",
        "\n",
        "safety[\"School_Survey_Safety\"] = (safety[\"School_Survey_Safety\"].astype(str).str.strip().str.upper())\n",
        "\n",
        "order6 = [\"VERY WEAK\", \"WEAK\", \"NEUTRAL\", \"STRONG\", \"VERY STRONG\", \"NOT ENOUGH DATA\"]\n",
        "\n",
        "safety[\"Safety6\"] = pd.Categorical(\n",
        "    safety[\"School_Survey_Safety\"].replace({\"VERYSTRONG\":\"VERY STRONG\"}),\n",
        "    categories=order6,\n",
        "    ordered=True)\n",
        "\n",
        "safety = (safety\n",
        "          .dropna(subset=[\"School_ID\", \"School_Year\"])\n",
        "          .dropna(subset=[\"Safety6\"], how=\"all\"))"
      ],
      "metadata": {
        "id": "D8GkdGVqjEgY"
      },
      "execution_count": 8,
      "outputs": []
    },
    {
      "cell_type": "code",
      "source": [
        "# OptionA\n",
        "safety = safety.copy()\n",
        "safety[\"Safety6\"] = (\n",
        "    safety[\"Safety6\"]\n",
        "    .astype(\"string\")\n",
        "    .str.strip()\n",
        "    .str.upper()\n",
        ")\n",
        "safety[\"Safety6_clean\"] = safety[\"Safety6\"].fillna(\"NOT ENOUGH DATA\")\n",
        "\n",
        "# color\n",
        "order6 = [\"VERY WEAK\", \"WEAK\", \"NEUTRAL\", \"STRONG\", \"VERY STRONG\"]\n",
        "colors6 = [\"#a50f15\", \"#de2d26\", \"#fdae6b\", \"#fdd0a2\", \"#fee5d9\"]\n",
        "\n",
        "heat = (\n",
        "    alt.Chart(safety)\n",
        "      .mark_rect()\n",
        "      .encode(\n",
        "          x=alt.X(\"School_ID:N\", title=\"Schools\", axis=alt.Axis(labels=False, ticks=False)),\n",
        "          y=alt.Y(\"School_Year:N\", title=\"Academic Year\", sort=[\"2011-12\",\"2018-19\",\"2023-24\"]),\n",
        "          color=alt.Color(\n",
        "              \"Safety6_clean:N\",\n",
        "              title=\"Safety Level\",\n",
        "              scale=alt.Scale(domain=order6, range=colors6),\n",
        "              legend=alt.Legend(orient=\"right\")))\n",
        "      .properties(width=560, height=200,\n",
        "        title=alt.TitleParams(text=\"School Safety Level Across Years\", fontSize=16)))\n",
        "\n",
        "heat.save(\"plot3.svg\")\n",
        "\n",
        "heat"
      ],
      "metadata": {
        "colab": {
          "base_uri": "https://localhost:8080/",
          "height": 429
        },
        "id": "0l9eBUJqwmsY",
        "outputId": "27074935-b32d-43ff-f804-015c0502974d"
      },
      "execution_count": 9,
      "outputs": [
        {
          "output_type": "stream",
          "name": "stderr",
          "text": [
            "/usr/local/lib/python3.12/dist-packages/altair/utils/data.py:71: UserWarning: You passed a `<class 'narwhals.stable.v1.DataFrame'>` to `is_pandas_dataframe`.\n",
            "\n",
            "Hint: Instead of e.g. `is_pandas_dataframe(df)`, did you mean `is_pandas_dataframe(df.to_native())`?\n",
            "  return _is_pandas_dataframe(obj) or isinstance(\n",
            "/usr/local/lib/python3.12/dist-packages/altair/utils/data.py:71: UserWarning: You passed a `<class 'narwhals.stable.v1.DataFrame'>` to `is_pandas_dataframe`.\n",
            "\n",
            "Hint: Instead of e.g. `is_pandas_dataframe(df)`, did you mean `is_pandas_dataframe(df.to_native())`?\n",
            "  return _is_pandas_dataframe(obj) or isinstance(\n"
          ]
        },
        {
          "output_type": "execute_result",
          "data": {
            "text/html": [
              "\n",
              "<style>\n",
              "  #altair-viz-3b9a34521d4f4524b92e559ae8bc543b.vega-embed {\n",
              "    width: 100%;\n",
              "    display: flex;\n",
              "  }\n",
              "\n",
              "  #altair-viz-3b9a34521d4f4524b92e559ae8bc543b.vega-embed details,\n",
              "  #altair-viz-3b9a34521d4f4524b92e559ae8bc543b.vega-embed details summary {\n",
              "    position: relative;\n",
              "  }\n",
              "</style>\n",
              "<div id=\"altair-viz-3b9a34521d4f4524b92e559ae8bc543b\"></div>\n",
              "<script type=\"text/javascript\">\n",
              "  var VEGA_DEBUG = (typeof VEGA_DEBUG == \"undefined\") ? {} : VEGA_DEBUG;\n",
              "  (function(spec, embedOpt){\n",
              "    let outputDiv = document.currentScript.previousElementSibling;\n",
              "    if (outputDiv.id !== \"altair-viz-3b9a34521d4f4524b92e559ae8bc543b\") {\n",
              "      outputDiv = document.getElementById(\"altair-viz-3b9a34521d4f4524b92e559ae8bc543b\");\n",
              "    }\n",
              "    const paths = {\n",
              "      \"vega\": \"https://cdn.jsdelivr.net/npm/vega@5?noext\",\n",
              "      \"vega-lib\": \"https://cdn.jsdelivr.net/npm/vega-lib?noext\",\n",
              "      \"vega-lite\": \"https://cdn.jsdelivr.net/npm/vega-lite@5.20.1?noext\",\n",
              "      \"vega-embed\": \"https://cdn.jsdelivr.net/npm/vega-embed@6?noext\",\n",
              "    };\n",
              "\n",
              "    function maybeLoadScript(lib, version) {\n",
              "      var key = `${lib.replace(\"-\", \"\")}_version`;\n",
              "      return (VEGA_DEBUG[key] == version) ?\n",
              "        Promise.resolve(paths[lib]) :\n",
              "        new Promise(function(resolve, reject) {\n",
              "          var s = document.createElement('script');\n",
              "          document.getElementsByTagName(\"head\")[0].appendChild(s);\n",
              "          s.async = true;\n",
              "          s.onload = () => {\n",
              "            VEGA_DEBUG[key] = version;\n",
              "            return resolve(paths[lib]);\n",
              "          };\n",
              "          s.onerror = () => reject(`Error loading script: ${paths[lib]}`);\n",
              "          s.src = paths[lib];\n",
              "        });\n",
              "    }\n",
              "\n",
              "    function showError(err) {\n",
              "      outputDiv.innerHTML = `<div class=\"error\" style=\"color:red;\">${err}</div>`;\n",
              "      throw err;\n",
              "    }\n",
              "\n",
              "    function displayChart(vegaEmbed) {\n",
              "      vegaEmbed(outputDiv, spec, embedOpt)\n",
              "        .catch(err => showError(`Javascript Error: ${err.message}<br>This usually means there's a typo in your chart specification. See the javascript console for the full traceback.`));\n",
              "    }\n",
              "\n",
              "    if(typeof define === \"function\" && define.amd) {\n",
              "      requirejs.config({paths});\n",
              "      require([\"vega-embed\"], displayChart, err => showError(`Error loading script: ${err.message}`));\n",
              "    } else {\n",
              "      maybeLoadScript(\"vega\", \"5\")\n",
              "        .then(() => maybeLoadScript(\"vega-lite\", \"5.20.1\"))\n",
              "        .then(() => maybeLoadScript(\"vega-embed\", \"6\"))\n",
              "        .catch(showError)\n",
              "        .then(() => displayChart(vegaEmbed));\n",
              "    }\n",
              "  })({\"config\": {\"view\": {\"continuousWidth\": 300, \"continuousHeight\": 300}}, \"data\": {\"name\": \"data-9318e13197836afed67d08fbebb9559b\"}, \"mark\": {\"type\": \"rect\"}, \"encoding\": {\"color\": {\"field\": \"Safety6_clean\", \"legend\": {\"orient\": \"right\"}, \"scale\": {\"domain\": [\"VERY WEAK\", \"WEAK\", \"NEUTRAL\", \"STRONG\", \"VERY STRONG\"], \"range\": [\"#a50f15\", \"#de2d26\", \"#fdae6b\", \"#fdd0a2\", \"#fee5d9\"]}, \"title\": \"Safety Level\", \"type\": \"nominal\"}, \"x\": {\"axis\": {\"labels\": false, \"ticks\": false}, \"field\": \"School_ID\", \"title\": \"Schools\", \"type\": \"nominal\"}, \"y\": {\"field\": \"School_Year\", \"sort\": [\"2011-12\", \"2018-19\", \"2023-24\"], \"title\": \"Academic Year\", \"type\": \"nominal\"}}, \"height\": 200, \"title\": {\"text\": \"School Safety Level Across Years\", \"fontSize\": 16}, \"width\": 560, \"$schema\": \"https://vega.github.io/schema/vega-lite/v5.20.1.json\", \"datasets\": {\"data-9318e13197836afed67d08fbebb9559b\": [{\"School_ID\": 609674, \"School_Survey_Safety\": \"WEAK\", \"School_Year\": \"2011-12\", \"Safety6\": \"WEAK\", \"Safety6_clean\": \"WEAK\"}, {\"School_ID\": 609676, \"School_Survey_Safety\": \"WEAK\", \"School_Year\": \"2011-12\", \"Safety6\": \"WEAK\", \"Safety6_clean\": \"WEAK\"}, {\"School_ID\": 609678, \"School_Survey_Safety\": \"VERY STRONG\", \"School_Year\": \"2011-12\", \"Safety6\": \"VERY STRONG\", \"Safety6_clean\": \"VERY STRONG\"}, {\"School_ID\": 609680, \"School_Survey_Safety\": \"VERY STRONG\", \"School_Year\": \"2011-12\", \"Safety6\": \"VERY STRONG\", \"Safety6_clean\": \"VERY STRONG\"}, {\"School_ID\": 609682, \"School_Survey_Safety\": \"WEAK\", \"School_Year\": \"2011-12\", \"Safety6\": \"WEAK\", \"Safety6_clean\": \"WEAK\"}, {\"School_ID\": 609693, \"School_Survey_Safety\": \"STRONG\", \"School_Year\": \"2011-12\", \"Safety6\": \"STRONG\", \"Safety6_clean\": \"STRONG\"}, {\"School_ID\": 609698, \"School_Survey_Safety\": \"WEAK\", \"School_Year\": \"2011-12\", \"Safety6\": \"WEAK\", \"Safety6_clean\": \"WEAK\"}, {\"School_ID\": 609705, \"School_Survey_Safety\": \"WEAK\", \"School_Year\": \"2011-12\", \"Safety6\": \"WEAK\", \"Safety6_clean\": \"WEAK\"}, {\"School_ID\": 609708, \"School_Survey_Safety\": \"WEAK\", \"School_Year\": \"2011-12\", \"Safety6\": \"WEAK\", \"Safety6_clean\": \"WEAK\"}, {\"School_ID\": 609709, \"School_Survey_Safety\": \"VERY WEAK\", \"School_Year\": \"2011-12\", \"Safety6\": \"VERY WEAK\", \"Safety6_clean\": \"VERY WEAK\"}, {\"School_ID\": 609711, \"School_Survey_Safety\": \"WEAK\", \"School_Year\": \"2011-12\", \"Safety6\": \"WEAK\", \"Safety6_clean\": \"WEAK\"}, {\"School_ID\": 609712, \"School_Survey_Safety\": \"VERY WEAK\", \"School_Year\": \"2011-12\", \"Safety6\": \"VERY WEAK\", \"Safety6_clean\": \"VERY WEAK\"}, {\"School_ID\": 609713, \"School_Survey_Safety\": \"WEAK\", \"School_Year\": \"2011-12\", \"Safety6\": \"WEAK\", \"Safety6_clean\": \"WEAK\"}, {\"School_ID\": 609715, \"School_Survey_Safety\": \"WEAK\", \"School_Year\": \"2011-12\", \"Safety6\": \"WEAK\", \"Safety6_clean\": \"WEAK\"}, {\"School_ID\": 609719, \"School_Survey_Safety\": \"STRONG\", \"School_Year\": \"2011-12\", \"Safety6\": \"STRONG\", \"Safety6_clean\": \"STRONG\"}, {\"School_ID\": 609732, \"School_Survey_Safety\": \"WEAK\", \"School_Year\": \"2011-12\", \"Safety6\": \"WEAK\", \"Safety6_clean\": \"WEAK\"}, {\"School_ID\": 609733, \"School_Survey_Safety\": \"WEAK\", \"School_Year\": \"2011-12\", \"Safety6\": \"WEAK\", \"Safety6_clean\": \"WEAK\"}, {\"School_ID\": 609735, \"School_Survey_Safety\": \"WEAK\", \"School_Year\": \"2011-12\", \"Safety6\": \"WEAK\", \"Safety6_clean\": \"WEAK\"}, {\"School_ID\": 609737, \"School_Survey_Safety\": \"STRONG\", \"School_Year\": \"2011-12\", \"Safety6\": \"STRONG\", \"Safety6_clean\": \"STRONG\"}, {\"School_ID\": 609738, \"School_Survey_Safety\": \"STRONG\", \"School_Year\": \"2011-12\", \"Safety6\": \"STRONG\", \"Safety6_clean\": \"STRONG\"}, {\"School_ID\": 609744, \"School_Survey_Safety\": \"VERY STRONG\", \"School_Year\": \"2011-12\", \"Safety6\": \"VERY STRONG\", \"Safety6_clean\": \"VERY STRONG\"}, {\"School_ID\": 609749, \"School_Survey_Safety\": \"VERY STRONG\", \"School_Year\": \"2011-12\", \"Safety6\": \"VERY STRONG\", \"Safety6_clean\": \"VERY STRONG\"}, {\"School_ID\": 609753, \"School_Survey_Safety\": \"VERY STRONG\", \"School_Year\": \"2011-12\", \"Safety6\": \"VERY STRONG\", \"Safety6_clean\": \"VERY STRONG\"}, {\"School_ID\": 609754, \"School_Survey_Safety\": \"WEAK\", \"School_Year\": \"2011-12\", \"Safety6\": \"WEAK\", \"Safety6_clean\": \"WEAK\"}, {\"School_ID\": 609761, \"School_Survey_Safety\": \"WEAK\", \"School_Year\": \"2011-12\", \"Safety6\": \"WEAK\", \"Safety6_clean\": \"WEAK\"}, {\"School_ID\": 609762, \"School_Survey_Safety\": \"WEAK\", \"School_Year\": \"2011-12\", \"Safety6\": \"WEAK\", \"Safety6_clean\": \"WEAK\"}, {\"School_ID\": 609768, \"School_Survey_Safety\": \"WEAK\", \"School_Year\": \"2011-12\", \"Safety6\": \"WEAK\", \"Safety6_clean\": \"WEAK\"}, {\"School_ID\": 609769, \"School_Survey_Safety\": \"VERY STRONG\", \"School_Year\": \"2011-12\", \"Safety6\": \"VERY STRONG\", \"Safety6_clean\": \"VERY STRONG\"}, {\"School_ID\": 610323, \"School_Survey_Safety\": \"VERY WEAK\", \"School_Year\": \"2011-12\", \"Safety6\": \"VERY WEAK\", \"Safety6_clean\": \"VERY WEAK\"}, {\"School_ID\": 610357, \"School_Survey_Safety\": \"STRONG\", \"School_Year\": \"2011-12\", \"Safety6\": \"STRONG\", \"Safety6_clean\": \"STRONG\"}, {\"School_ID\": 610390, \"School_Survey_Safety\": \"STRONG\", \"School_Year\": \"2011-12\", \"Safety6\": \"STRONG\", \"Safety6_clean\": \"STRONG\"}, {\"School_ID\": 610499, \"School_Survey_Safety\": \"STRONG\", \"School_Year\": \"2011-12\", \"Safety6\": \"STRONG\", \"Safety6_clean\": \"STRONG\"}, {\"School_ID\": 610524, \"School_Survey_Safety\": \"STRONG\", \"School_Year\": \"2011-12\", \"Safety6\": \"STRONG\", \"Safety6_clean\": \"STRONG\"}, {\"School_ID\": 609674, \"School_Survey_Safety\": \"WEAK\", \"School_Year\": \"2018-19\", \"Safety6\": \"WEAK\", \"Safety6_clean\": \"WEAK\"}, {\"School_ID\": 609676, \"School_Survey_Safety\": \"WEAK\", \"School_Year\": \"2018-19\", \"Safety6\": \"WEAK\", \"Safety6_clean\": \"WEAK\"}, {\"School_ID\": 609678, \"School_Survey_Safety\": \"NEUTRAL\", \"School_Year\": \"2018-19\", \"Safety6\": \"NEUTRAL\", \"Safety6_clean\": \"NEUTRAL\"}, {\"School_ID\": 609679, \"School_Survey_Safety\": \"WEAK\", \"School_Year\": \"2018-19\", \"Safety6\": \"WEAK\", \"Safety6_clean\": \"WEAK\"}, {\"School_ID\": 609680, \"School_Survey_Safety\": \"STRONG\", \"School_Year\": \"2018-19\", \"Safety6\": \"STRONG\", \"Safety6_clean\": \"STRONG\"}, {\"School_ID\": 609682, \"School_Survey_Safety\": \"VERY WEAK\", \"School_Year\": \"2018-19\", \"Safety6\": \"VERY WEAK\", \"Safety6_clean\": \"VERY WEAK\"}, {\"School_ID\": 609691, \"School_Survey_Safety\": \"WEAK\", \"School_Year\": \"2018-19\", \"Safety6\": \"WEAK\", \"Safety6_clean\": \"WEAK\"}, {\"School_ID\": 609692, \"School_Survey_Safety\": \"NEUTRAL\", \"School_Year\": \"2018-19\", \"Safety6\": \"NEUTRAL\", \"Safety6_clean\": \"NEUTRAL\"}, {\"School_ID\": 609693, \"School_Survey_Safety\": \"WEAK\", \"School_Year\": \"2018-19\", \"Safety6\": \"WEAK\", \"Safety6_clean\": \"WEAK\"}, {\"School_ID\": 609694, \"School_Survey_Safety\": \"WEAK\", \"School_Year\": \"2018-19\", \"Safety6\": \"WEAK\", \"Safety6_clean\": \"WEAK\"}, {\"School_ID\": 609695, \"School_Survey_Safety\": \"NEUTRAL\", \"School_Year\": \"2018-19\", \"Safety6\": \"NEUTRAL\", \"Safety6_clean\": \"NEUTRAL\"}, {\"School_ID\": 609698, \"School_Survey_Safety\": \"WEAK\", \"School_Year\": \"2018-19\", \"Safety6\": \"WEAK\", \"Safety6_clean\": \"WEAK\"}, {\"School_ID\": 609704, \"School_Survey_Safety\": \"WEAK\", \"School_Year\": \"2018-19\", \"Safety6\": \"WEAK\", \"Safety6_clean\": \"WEAK\"}, {\"School_ID\": 609705, \"School_Survey_Safety\": \"NEUTRAL\", \"School_Year\": \"2018-19\", \"Safety6\": \"NEUTRAL\", \"Safety6_clean\": \"NEUTRAL\"}, {\"School_ID\": 609708, \"School_Survey_Safety\": \"WEAK\", \"School_Year\": \"2018-19\", \"Safety6\": \"WEAK\", \"Safety6_clean\": \"WEAK\"}, {\"School_ID\": 609709, \"School_Survey_Safety\": \"VERY WEAK\", \"School_Year\": \"2018-19\", \"Safety6\": \"VERY WEAK\", \"Safety6_clean\": \"VERY WEAK\"}, {\"School_ID\": 609710, \"School_Survey_Safety\": \"WEAK\", \"School_Year\": \"2018-19\", \"Safety6\": \"WEAK\", \"Safety6_clean\": \"WEAK\"}, {\"School_ID\": 609711, \"School_Survey_Safety\": \"WEAK\", \"School_Year\": \"2018-19\", \"Safety6\": \"WEAK\", \"Safety6_clean\": \"WEAK\"}, {\"School_ID\": 609712, \"School_Survey_Safety\": \"NEUTRAL\", \"School_Year\": \"2018-19\", \"Safety6\": \"NEUTRAL\", \"Safety6_clean\": \"NEUTRAL\"}, {\"School_ID\": 609713, \"School_Survey_Safety\": \"WEAK\", \"School_Year\": \"2018-19\", \"Safety6\": \"WEAK\", \"Safety6_clean\": \"WEAK\"}, {\"School_ID\": 609715, \"School_Survey_Safety\": \"VERY WEAK\", \"School_Year\": \"2018-19\", \"Safety6\": \"VERY WEAK\", \"Safety6_clean\": \"VERY WEAK\"}, {\"School_ID\": 609718, \"School_Survey_Safety\": \"WEAK\", \"School_Year\": \"2018-19\", \"Safety6\": \"WEAK\", \"Safety6_clean\": \"WEAK\"}, {\"School_ID\": 609719, \"School_Survey_Safety\": \"WEAK\", \"School_Year\": \"2018-19\", \"Safety6\": \"WEAK\", \"Safety6_clean\": \"WEAK\"}, {\"School_ID\": 609722, \"School_Survey_Safety\": \"WEAK\", \"School_Year\": \"2018-19\", \"Safety6\": \"WEAK\", \"Safety6_clean\": \"WEAK\"}, {\"School_ID\": 609723, \"School_Survey_Safety\": \"NEUTRAL\", \"School_Year\": \"2018-19\", \"Safety6\": \"NEUTRAL\", \"Safety6_clean\": \"NEUTRAL\"}, {\"School_ID\": 609724, \"School_Survey_Safety\": \"WEAK\", \"School_Year\": \"2018-19\", \"Safety6\": \"WEAK\", \"Safety6_clean\": \"WEAK\"}, {\"School_ID\": 609727, \"School_Survey_Safety\": \"WEAK\", \"School_Year\": \"2018-19\", \"Safety6\": \"WEAK\", \"Safety6_clean\": \"WEAK\"}, {\"School_ID\": 609728, \"School_Survey_Safety\": \"WEAK\", \"School_Year\": \"2018-19\", \"Safety6\": \"WEAK\", \"Safety6_clean\": \"WEAK\"}, {\"School_ID\": 609729, \"School_Survey_Safety\": \"WEAK\", \"School_Year\": \"2018-19\", \"Safety6\": \"WEAK\", \"Safety6_clean\": \"WEAK\"}, {\"School_ID\": 609730, \"School_Survey_Safety\": \"WEAK\", \"School_Year\": \"2018-19\", \"Safety6\": \"WEAK\", \"Safety6_clean\": \"WEAK\"}, {\"School_ID\": 609732, \"School_Survey_Safety\": \"WEAK\", \"School_Year\": \"2018-19\", \"Safety6\": \"WEAK\", \"Safety6_clean\": \"WEAK\"}, {\"School_ID\": 609733, \"School_Survey_Safety\": \"WEAK\", \"School_Year\": \"2018-19\", \"Safety6\": \"WEAK\", \"Safety6_clean\": \"WEAK\"}, {\"School_ID\": 609735, \"School_Survey_Safety\": \"VERY WEAK\", \"School_Year\": \"2018-19\", \"Safety6\": \"VERY WEAK\", \"Safety6_clean\": \"VERY WEAK\"}, {\"School_ID\": 609737, \"School_Survey_Safety\": \"WEAK\", \"School_Year\": \"2018-19\", \"Safety6\": \"WEAK\", \"Safety6_clean\": \"WEAK\"}, {\"School_ID\": 609738, \"School_Survey_Safety\": \"WEAK\", \"School_Year\": \"2018-19\", \"Safety6\": \"WEAK\", \"Safety6_clean\": \"WEAK\"}, {\"School_ID\": 609739, \"School_Survey_Safety\": \"WEAK\", \"School_Year\": \"2018-19\", \"Safety6\": \"WEAK\", \"Safety6_clean\": \"WEAK\"}, {\"School_ID\": 609740, \"School_Survey_Safety\": \"WEAK\", \"School_Year\": \"2018-19\", \"Safety6\": \"WEAK\", \"Safety6_clean\": \"WEAK\"}, {\"School_ID\": 609741, \"School_Survey_Safety\": \"WEAK\", \"School_Year\": \"2018-19\", \"Safety6\": \"WEAK\", \"Safety6_clean\": \"WEAK\"}, {\"School_ID\": 609744, \"School_Survey_Safety\": \"VERY STRONG\", \"School_Year\": \"2018-19\", \"Safety6\": \"VERY STRONG\", \"Safety6_clean\": \"VERY STRONG\"}, {\"School_ID\": 609745, \"School_Survey_Safety\": \"NOT ENOUGH DATA\", \"School_Year\": \"2018-19\", \"Safety6\": \"NOT ENOUGH DATA\", \"Safety6_clean\": \"NOT ENOUGH DATA\"}, {\"School_ID\": 609748, \"School_Survey_Safety\": \"WEAK\", \"School_Year\": \"2018-19\", \"Safety6\": \"WEAK\", \"Safety6_clean\": \"WEAK\"}, {\"School_ID\": 609749, \"School_Survey_Safety\": \"STRONG\", \"School_Year\": \"2018-19\", \"Safety6\": \"STRONG\", \"Safety6_clean\": \"STRONG\"}, {\"School_ID\": 609751, \"School_Survey_Safety\": \"WEAK\", \"School_Year\": \"2018-19\", \"Safety6\": \"WEAK\", \"Safety6_clean\": \"WEAK\"}, {\"School_ID\": 609753, \"School_Survey_Safety\": \"NEUTRAL\", \"School_Year\": \"2018-19\", \"Safety6\": \"NEUTRAL\", \"Safety6_clean\": \"NEUTRAL\"}, {\"School_ID\": 609754, \"School_Survey_Safety\": \"WEAK\", \"School_Year\": \"2018-19\", \"Safety6\": \"WEAK\", \"Safety6_clean\": \"WEAK\"}, {\"School_ID\": 609756, \"School_Survey_Safety\": \"WEAK\", \"School_Year\": \"2018-19\", \"Safety6\": \"WEAK\", \"Safety6_clean\": \"WEAK\"}, {\"School_ID\": 609759, \"School_Survey_Safety\": \"VERY WEAK\", \"School_Year\": \"2018-19\", \"Safety6\": \"VERY WEAK\", \"Safety6_clean\": \"VERY WEAK\"}, {\"School_ID\": 609760, \"School_Survey_Safety\": \"WEAK\", \"School_Year\": \"2018-19\", \"Safety6\": \"WEAK\", \"Safety6_clean\": \"WEAK\"}, {\"School_ID\": 609761, \"School_Survey_Safety\": \"WEAK\", \"School_Year\": \"2018-19\", \"Safety6\": \"WEAK\", \"Safety6_clean\": \"WEAK\"}, {\"School_ID\": 609762, \"School_Survey_Safety\": \"WEAK\", \"School_Year\": \"2018-19\", \"Safety6\": \"WEAK\", \"Safety6_clean\": \"WEAK\"}, {\"School_ID\": 609764, \"School_Survey_Safety\": \"WEAK\", \"School_Year\": \"2018-19\", \"Safety6\": \"WEAK\", \"Safety6_clean\": \"WEAK\"}, {\"School_ID\": 609766, \"School_Survey_Safety\": \"NEUTRAL\", \"School_Year\": \"2018-19\", \"Safety6\": \"NEUTRAL\", \"Safety6_clean\": \"NEUTRAL\"}, {\"School_ID\": 609768, \"School_Survey_Safety\": \"WEAK\", \"School_Year\": \"2018-19\", \"Safety6\": \"WEAK\", \"Safety6_clean\": \"WEAK\"}, {\"School_ID\": 609769, \"School_Survey_Safety\": \"STRONG\", \"School_Year\": \"2018-19\", \"Safety6\": \"STRONG\", \"Safety6_clean\": \"STRONG\"}, {\"School_ID\": 610244, \"School_Survey_Safety\": \"WEAK\", \"School_Year\": \"2018-19\", \"Safety6\": \"WEAK\", \"Safety6_clean\": \"WEAK\"}, {\"School_ID\": 610245, \"School_Survey_Safety\": \"WEAK\", \"School_Year\": \"2018-19\", \"Safety6\": \"WEAK\", \"Safety6_clean\": \"WEAK\"}, {\"School_ID\": 610304, \"School_Survey_Safety\": \"WEAK\", \"School_Year\": \"2018-19\", \"Safety6\": \"WEAK\", \"Safety6_clean\": \"WEAK\"}, {\"School_ID\": 610323, \"School_Survey_Safety\": \"WEAK\", \"School_Year\": \"2018-19\", \"Safety6\": \"WEAK\", \"Safety6_clean\": \"WEAK\"}, {\"School_ID\": 610334, \"School_Survey_Safety\": \"WEAK\", \"School_Year\": \"2018-19\", \"Safety6\": \"WEAK\", \"Safety6_clean\": \"WEAK\"}, {\"School_ID\": 610340, \"School_Survey_Safety\": \"WEAK\", \"School_Year\": \"2018-19\", \"Safety6\": \"WEAK\", \"Safety6_clean\": \"WEAK\"}, {\"School_ID\": 610357, \"School_Survey_Safety\": \"WEAK\", \"School_Year\": \"2018-19\", \"Safety6\": \"WEAK\", \"Safety6_clean\": \"WEAK\"}, {\"School_ID\": 610380, \"School_Survey_Safety\": \"WEAK\", \"School_Year\": \"2018-19\", \"Safety6\": \"WEAK\", \"Safety6_clean\": \"WEAK\"}, {\"School_ID\": 610381, \"School_Survey_Safety\": \"VERY WEAK\", \"School_Year\": \"2018-19\", \"Safety6\": \"VERY WEAK\", \"Safety6_clean\": \"VERY WEAK\"}, {\"School_ID\": 610383, \"School_Survey_Safety\": \"VERY WEAK\", \"School_Year\": \"2018-19\", \"Safety6\": \"VERY WEAK\", \"Safety6_clean\": \"VERY WEAK\"}, {\"School_ID\": 610384, \"School_Survey_Safety\": \"WEAK\", \"School_Year\": \"2018-19\", \"Safety6\": \"WEAK\", \"Safety6_clean\": \"WEAK\"}, {\"School_ID\": 610385, \"School_Survey_Safety\": \"WEAK\", \"School_Year\": \"2018-19\", \"Safety6\": \"WEAK\", \"Safety6_clean\": \"WEAK\"}, {\"School_ID\": 610386, \"School_Survey_Safety\": \"WEAK\", \"School_Year\": \"2018-19\", \"Safety6\": \"WEAK\", \"Safety6_clean\": \"WEAK\"}, {\"School_ID\": 610389, \"School_Survey_Safety\": \"WEAK\", \"School_Year\": \"2018-19\", \"Safety6\": \"WEAK\", \"Safety6_clean\": \"WEAK\"}, {\"School_ID\": 610390, \"School_Survey_Safety\": \"WEAK\", \"School_Year\": \"2018-19\", \"Safety6\": \"WEAK\", \"Safety6_clean\": \"WEAK\"}, {\"School_ID\": 610392, \"School_Survey_Safety\": \"WEAK\", \"School_Year\": \"2018-19\", \"Safety6\": \"WEAK\", \"Safety6_clean\": \"WEAK\"}, {\"School_ID\": 610394, \"School_Survey_Safety\": \"WEAK\", \"School_Year\": \"2018-19\", \"Safety6\": \"WEAK\", \"Safety6_clean\": \"WEAK\"}, {\"School_ID\": 610402, \"School_Survey_Safety\": \"NEUTRAL\", \"School_Year\": \"2018-19\", \"Safety6\": \"NEUTRAL\", \"Safety6_clean\": \"NEUTRAL\"}, {\"School_ID\": 610499, \"School_Survey_Safety\": \"STRONG\", \"School_Year\": \"2018-19\", \"Safety6\": \"STRONG\", \"Safety6_clean\": \"STRONG\"}, {\"School_ID\": 610513, \"School_Survey_Safety\": \"VERY WEAK\", \"School_Year\": \"2018-19\", \"Safety6\": \"VERY WEAK\", \"Safety6_clean\": \"VERY WEAK\"}, {\"School_ID\": 610518, \"School_Survey_Safety\": \"WEAK\", \"School_Year\": \"2018-19\", \"Safety6\": \"WEAK\", \"Safety6_clean\": \"WEAK\"}, {\"School_ID\": 610543, \"School_Survey_Safety\": \"WEAK\", \"School_Year\": \"2018-19\", \"Safety6\": \"WEAK\", \"Safety6_clean\": \"WEAK\"}, {\"School_ID\": 610547, \"School_Survey_Safety\": \"NOT ENOUGH DATA\", \"School_Year\": \"2018-19\", \"Safety6\": \"NOT ENOUGH DATA\", \"Safety6_clean\": \"NOT ENOUGH DATA\"}, {\"School_ID\": 610558, \"School_Survey_Safety\": \"VERY WEAK\", \"School_Year\": \"2018-19\", \"Safety6\": \"VERY WEAK\", \"Safety6_clean\": \"VERY WEAK\"}, {\"School_ID\": 610561, \"School_Survey_Safety\": \"WEAK\", \"School_Year\": \"2018-19\", \"Safety6\": \"WEAK\", \"Safety6_clean\": \"WEAK\"}, {\"School_ID\": 610563, \"School_Survey_Safety\": \"WEAK\", \"School_Year\": \"2018-19\", \"Safety6\": \"WEAK\", \"Safety6_clean\": \"WEAK\"}, {\"School_ID\": 610587, \"School_Survey_Safety\": \"WEAK\", \"School_Year\": \"2018-19\", \"Safety6\": \"WEAK\", \"Safety6_clean\": \"WEAK\"}, {\"School_ID\": 609674, \"School_Survey_Safety\": \"VERY WEAK\", \"School_Year\": \"2023-24\", \"Safety6\": \"VERY WEAK\", \"Safety6_clean\": \"VERY WEAK\"}, {\"School_ID\": 609676, \"School_Survey_Safety\": \"VERY WEAK\", \"School_Year\": \"2023-24\", \"Safety6\": \"VERY WEAK\", \"Safety6_clean\": \"VERY WEAK\"}, {\"School_ID\": 609678, \"School_Survey_Safety\": \"NEUTRAL\", \"School_Year\": \"2023-24\", \"Safety6\": \"NEUTRAL\", \"Safety6_clean\": \"NEUTRAL\"}, {\"School_ID\": 609679, \"School_Survey_Safety\": \"WEAK\", \"School_Year\": \"2023-24\", \"Safety6\": \"WEAK\", \"Safety6_clean\": \"WEAK\"}, {\"School_ID\": 609680, \"School_Survey_Safety\": \"NOT ENOUGH DATA\", \"School_Year\": \"2023-24\", \"Safety6\": \"NOT ENOUGH DATA\", \"Safety6_clean\": \"NOT ENOUGH DATA\"}, {\"School_ID\": 609682, \"School_Survey_Safety\": \"WEAK\", \"School_Year\": \"2023-24\", \"Safety6\": \"WEAK\", \"Safety6_clean\": \"WEAK\"}, {\"School_ID\": 609691, \"School_Survey_Safety\": \"WEAK\", \"School_Year\": \"2023-24\", \"Safety6\": \"WEAK\", \"Safety6_clean\": \"WEAK\"}, {\"School_ID\": 609692, \"School_Survey_Safety\": \"VERY WEAK\", \"School_Year\": \"2023-24\", \"Safety6\": \"VERY WEAK\", \"Safety6_clean\": \"VERY WEAK\"}, {\"School_ID\": 609693, \"School_Survey_Safety\": \"WEAK\", \"School_Year\": \"2023-24\", \"Safety6\": \"WEAK\", \"Safety6_clean\": \"WEAK\"}, {\"School_ID\": 609694, \"School_Survey_Safety\": \"NEUTRAL\", \"School_Year\": \"2023-24\", \"Safety6\": \"NEUTRAL\", \"Safety6_clean\": \"NEUTRAL\"}, {\"School_ID\": 609695, \"School_Survey_Safety\": \"NEUTRAL\", \"School_Year\": \"2023-24\", \"Safety6\": \"NEUTRAL\", \"Safety6_clean\": \"NEUTRAL\"}, {\"School_ID\": 609698, \"School_Survey_Safety\": \"VERY WEAK\", \"School_Year\": \"2023-24\", \"Safety6\": \"VERY WEAK\", \"Safety6_clean\": \"VERY WEAK\"}, {\"School_ID\": 609704, \"School_Survey_Safety\": \"VERY WEAK\", \"School_Year\": \"2023-24\", \"Safety6\": \"VERY WEAK\", \"Safety6_clean\": \"VERY WEAK\"}, {\"School_ID\": 609705, \"School_Survey_Safety\": \"WEAK\", \"School_Year\": \"2023-24\", \"Safety6\": \"WEAK\", \"Safety6_clean\": \"WEAK\"}, {\"School_ID\": 609708, \"School_Survey_Safety\": \"VERY WEAK\", \"School_Year\": \"2023-24\", \"Safety6\": \"VERY WEAK\", \"Safety6_clean\": \"VERY WEAK\"}, {\"School_ID\": 609709, \"School_Survey_Safety\": \"WEAK\", \"School_Year\": \"2023-24\", \"Safety6\": \"WEAK\", \"Safety6_clean\": \"WEAK\"}, {\"School_ID\": 609710, \"School_Survey_Safety\": \"VERY WEAK\", \"School_Year\": \"2023-24\", \"Safety6\": \"VERY WEAK\", \"Safety6_clean\": \"VERY WEAK\"}, {\"School_ID\": 609712, \"School_Survey_Safety\": \"WEAK\", \"School_Year\": \"2023-24\", \"Safety6\": \"WEAK\", \"Safety6_clean\": \"WEAK\"}, {\"School_ID\": 609713, \"School_Survey_Safety\": \"WEAK\", \"School_Year\": \"2023-24\", \"Safety6\": \"WEAK\", \"Safety6_clean\": \"WEAK\"}, {\"School_ID\": 609715, \"School_Survey_Safety\": \"WEAK\", \"School_Year\": \"2023-24\", \"Safety6\": \"WEAK\", \"Safety6_clean\": \"WEAK\"}, {\"School_ID\": 609718, \"School_Survey_Safety\": \"WEAK\", \"School_Year\": \"2023-24\", \"Safety6\": \"WEAK\", \"Safety6_clean\": \"WEAK\"}, {\"School_ID\": 609719, \"School_Survey_Safety\": \"WEAK\", \"School_Year\": \"2023-24\", \"Safety6\": \"WEAK\", \"Safety6_clean\": \"WEAK\"}, {\"School_ID\": 609722, \"School_Survey_Safety\": \"VERY WEAK\", \"School_Year\": \"2023-24\", \"Safety6\": \"VERY WEAK\", \"Safety6_clean\": \"VERY WEAK\"}, {\"School_ID\": 609723, \"School_Survey_Safety\": \"WEAK\", \"School_Year\": \"2023-24\", \"Safety6\": \"WEAK\", \"Safety6_clean\": \"WEAK\"}, {\"School_ID\": 609724, \"School_Survey_Safety\": \"VERY WEAK\", \"School_Year\": \"2023-24\", \"Safety6\": \"VERY WEAK\", \"Safety6_clean\": \"VERY WEAK\"}, {\"School_ID\": 609727, \"School_Survey_Safety\": \"VERY WEAK\", \"School_Year\": \"2023-24\", \"Safety6\": \"VERY WEAK\", \"Safety6_clean\": \"VERY WEAK\"}, {\"School_ID\": 609728, \"School_Survey_Safety\": \"WEAK\", \"School_Year\": \"2023-24\", \"Safety6\": \"WEAK\", \"Safety6_clean\": \"WEAK\"}, {\"School_ID\": 609729, \"School_Survey_Safety\": \"WEAK\", \"School_Year\": \"2023-24\", \"Safety6\": \"WEAK\", \"Safety6_clean\": \"WEAK\"}, {\"School_ID\": 609730, \"School_Survey_Safety\": \"WEAK\", \"School_Year\": \"2023-24\", \"Safety6\": \"WEAK\", \"Safety6_clean\": \"WEAK\"}, {\"School_ID\": 609732, \"School_Survey_Safety\": \"WEAK\", \"School_Year\": \"2023-24\", \"Safety6\": \"WEAK\", \"Safety6_clean\": \"WEAK\"}, {\"School_ID\": 609733, \"School_Survey_Safety\": \"WEAK\", \"School_Year\": \"2023-24\", \"Safety6\": \"WEAK\", \"Safety6_clean\": \"WEAK\"}, {\"School_ID\": 609735, \"School_Survey_Safety\": \"WEAK\", \"School_Year\": \"2023-24\", \"Safety6\": \"WEAK\", \"Safety6_clean\": \"WEAK\"}, {\"School_ID\": 609737, \"School_Survey_Safety\": \"WEAK\", \"School_Year\": \"2023-24\", \"Safety6\": \"WEAK\", \"Safety6_clean\": \"WEAK\"}, {\"School_ID\": 609738, \"School_Survey_Safety\": \"NOT ENOUGH DATA\", \"School_Year\": \"2023-24\", \"Safety6\": \"NOT ENOUGH DATA\", \"Safety6_clean\": \"NOT ENOUGH DATA\"}, {\"School_ID\": 609739, \"School_Survey_Safety\": \"WEAK\", \"School_Year\": \"2023-24\", \"Safety6\": \"WEAK\", \"Safety6_clean\": \"WEAK\"}, {\"School_ID\": 609740, \"School_Survey_Safety\": \"WEAK\", \"School_Year\": \"2023-24\", \"Safety6\": \"WEAK\", \"Safety6_clean\": \"WEAK\"}, {\"School_ID\": 609741, \"School_Survey_Safety\": \"VERY WEAK\", \"School_Year\": \"2023-24\", \"Safety6\": \"VERY WEAK\", \"Safety6_clean\": \"VERY WEAK\"}, {\"School_ID\": 609744, \"School_Survey_Safety\": \"NOT ENOUGH DATA\", \"School_Year\": \"2023-24\", \"Safety6\": \"NOT ENOUGH DATA\", \"Safety6_clean\": \"NOT ENOUGH DATA\"}, {\"School_ID\": 609745, \"School_Survey_Safety\": \"VERY STRONG\", \"School_Year\": \"2023-24\", \"Safety6\": \"VERY STRONG\", \"Safety6_clean\": \"VERY STRONG\"}, {\"School_ID\": 609748, \"School_Survey_Safety\": \"WEAK\", \"School_Year\": \"2023-24\", \"Safety6\": \"WEAK\", \"Safety6_clean\": \"WEAK\"}, {\"School_ID\": 609749, \"School_Survey_Safety\": \"STRONG\", \"School_Year\": \"2023-24\", \"Safety6\": \"STRONG\", \"Safety6_clean\": \"STRONG\"}, {\"School_ID\": 609751, \"School_Survey_Safety\": \"WEAK\", \"School_Year\": \"2023-24\", \"Safety6\": \"WEAK\", \"Safety6_clean\": \"WEAK\"}, {\"School_ID\": 609753, \"School_Survey_Safety\": \"NEUTRAL\", \"School_Year\": \"2023-24\", \"Safety6\": \"NEUTRAL\", \"Safety6_clean\": \"NEUTRAL\"}, {\"School_ID\": 609754, \"School_Survey_Safety\": \"VERY WEAK\", \"School_Year\": \"2023-24\", \"Safety6\": \"VERY WEAK\", \"Safety6_clean\": \"VERY WEAK\"}, {\"School_ID\": 609756, \"School_Survey_Safety\": \"VERY WEAK\", \"School_Year\": \"2023-24\", \"Safety6\": \"VERY WEAK\", \"Safety6_clean\": \"VERY WEAK\"}, {\"School_ID\": 609759, \"School_Survey_Safety\": \"WEAK\", \"School_Year\": \"2023-24\", \"Safety6\": \"WEAK\", \"Safety6_clean\": \"WEAK\"}, {\"School_ID\": 609760, \"School_Survey_Safety\": \"WEAK\", \"School_Year\": \"2023-24\", \"Safety6\": \"WEAK\", \"Safety6_clean\": \"WEAK\"}, {\"School_ID\": 609761, \"School_Survey_Safety\": \"VERY WEAK\", \"School_Year\": \"2023-24\", \"Safety6\": \"VERY WEAK\", \"Safety6_clean\": \"VERY WEAK\"}, {\"School_ID\": 609762, \"School_Survey_Safety\": \"WEAK\", \"School_Year\": \"2023-24\", \"Safety6\": \"WEAK\", \"Safety6_clean\": \"WEAK\"}, {\"School_ID\": 609764, \"School_Survey_Safety\": \"NOT ENOUGH DATA\", \"School_Year\": \"2023-24\", \"Safety6\": \"NOT ENOUGH DATA\", \"Safety6_clean\": \"NOT ENOUGH DATA\"}, {\"School_ID\": 609766, \"School_Survey_Safety\": \"NOT ENOUGH DATA\", \"School_Year\": \"2023-24\", \"Safety6\": \"NOT ENOUGH DATA\", \"Safety6_clean\": \"NOT ENOUGH DATA\"}, {\"School_ID\": 609769, \"School_Survey_Safety\": \"NEUTRAL\", \"School_Year\": \"2023-24\", \"Safety6\": \"NEUTRAL\", \"Safety6_clean\": \"NEUTRAL\"}, {\"School_ID\": 610244, \"School_Survey_Safety\": \"WEAK\", \"School_Year\": \"2023-24\", \"Safety6\": \"WEAK\", \"Safety6_clean\": \"WEAK\"}, {\"School_ID\": 610304, \"School_Survey_Safety\": \"WEAK\", \"School_Year\": \"2023-24\", \"Safety6\": \"WEAK\", \"Safety6_clean\": \"WEAK\"}, {\"School_ID\": 610323, \"School_Survey_Safety\": \"WEAK\", \"School_Year\": \"2023-24\", \"Safety6\": \"WEAK\", \"Safety6_clean\": \"WEAK\"}, {\"School_ID\": 610334, \"School_Survey_Safety\": \"WEAK\", \"School_Year\": \"2023-24\", \"Safety6\": \"WEAK\", \"Safety6_clean\": \"WEAK\"}, {\"School_ID\": 610340, \"School_Survey_Safety\": \"NEUTRAL\", \"School_Year\": \"2023-24\", \"Safety6\": \"NEUTRAL\", \"Safety6_clean\": \"NEUTRAL\"}, {\"School_ID\": 610357, \"School_Survey_Safety\": \"NOT ENOUGH DATA\", \"School_Year\": \"2023-24\", \"Safety6\": \"NOT ENOUGH DATA\", \"Safety6_clean\": \"NOT ENOUGH DATA\"}, {\"School_ID\": 610380, \"School_Survey_Safety\": \"WEAK\", \"School_Year\": \"2023-24\", \"Safety6\": \"WEAK\", \"Safety6_clean\": \"WEAK\"}, {\"School_ID\": 610381, \"School_Survey_Safety\": \"NEUTRAL\", \"School_Year\": \"2023-24\", \"Safety6\": \"NEUTRAL\", \"Safety6_clean\": \"NEUTRAL\"}, {\"School_ID\": 610383, \"School_Survey_Safety\": \"VERY WEAK\", \"School_Year\": \"2023-24\", \"Safety6\": \"VERY WEAK\", \"Safety6_clean\": \"VERY WEAK\"}, {\"School_ID\": 610384, \"School_Survey_Safety\": \"WEAK\", \"School_Year\": \"2023-24\", \"Safety6\": \"WEAK\", \"Safety6_clean\": \"WEAK\"}, {\"School_ID\": 610385, \"School_Survey_Safety\": \"VERY WEAK\", \"School_Year\": \"2023-24\", \"Safety6\": \"VERY WEAK\", \"Safety6_clean\": \"VERY WEAK\"}, {\"School_ID\": 610386, \"School_Survey_Safety\": \"NEUTRAL\", \"School_Year\": \"2023-24\", \"Safety6\": \"NEUTRAL\", \"Safety6_clean\": \"NEUTRAL\"}, {\"School_ID\": 610389, \"School_Survey_Safety\": \"WEAK\", \"School_Year\": \"2023-24\", \"Safety6\": \"WEAK\", \"Safety6_clean\": \"WEAK\"}, {\"School_ID\": 610390, \"School_Survey_Safety\": \"NEUTRAL\", \"School_Year\": \"2023-24\", \"Safety6\": \"NEUTRAL\", \"Safety6_clean\": \"NEUTRAL\"}, {\"School_ID\": 610392, \"School_Survey_Safety\": \"WEAK\", \"School_Year\": \"2023-24\", \"Safety6\": \"WEAK\", \"Safety6_clean\": \"WEAK\"}, {\"School_ID\": 610394, \"School_Survey_Safety\": \"NOT ENOUGH DATA\", \"School_Year\": \"2023-24\", \"Safety6\": \"NOT ENOUGH DATA\", \"Safety6_clean\": \"NOT ENOUGH DATA\"}, {\"School_ID\": 610499, \"School_Survey_Safety\": \"NEUTRAL\", \"School_Year\": \"2023-24\", \"Safety6\": \"NEUTRAL\", \"Safety6_clean\": \"NEUTRAL\"}, {\"School_ID\": 610513, \"School_Survey_Safety\": \"WEAK\", \"School_Year\": \"2023-24\", \"Safety6\": \"WEAK\", \"Safety6_clean\": \"WEAK\"}, {\"School_ID\": 610518, \"School_Survey_Safety\": \"WEAK\", \"School_Year\": \"2023-24\", \"Safety6\": \"WEAK\", \"Safety6_clean\": \"WEAK\"}, {\"School_ID\": 610524, \"School_Survey_Safety\": \"NEUTRAL\", \"School_Year\": \"2023-24\", \"Safety6\": \"NEUTRAL\", \"Safety6_clean\": \"NEUTRAL\"}, {\"School_ID\": 610529, \"School_Survey_Safety\": \"WEAK\", \"School_Year\": \"2023-24\", \"Safety6\": \"WEAK\", \"Safety6_clean\": \"WEAK\"}, {\"School_ID\": 610543, \"School_Survey_Safety\": \"WEAK\", \"School_Year\": \"2023-24\", \"Safety6\": \"WEAK\", \"Safety6_clean\": \"WEAK\"}, {\"School_ID\": 610547, \"School_Survey_Safety\": \"WEAK\", \"School_Year\": \"2023-24\", \"Safety6\": \"WEAK\", \"Safety6_clean\": \"WEAK\"}, {\"School_ID\": 610558, \"School_Survey_Safety\": \"WEAK\", \"School_Year\": \"2023-24\", \"Safety6\": \"WEAK\", \"Safety6_clean\": \"WEAK\"}, {\"School_ID\": 610561, \"School_Survey_Safety\": \"VERY WEAK\", \"School_Year\": \"2023-24\", \"Safety6\": \"VERY WEAK\", \"Safety6_clean\": \"VERY WEAK\"}, {\"School_ID\": 610563, \"School_Survey_Safety\": \"WEAK\", \"School_Year\": \"2023-24\", \"Safety6\": \"WEAK\", \"Safety6_clean\": \"WEAK\"}, {\"School_ID\": 610587, \"School_Survey_Safety\": \"NOT ENOUGH DATA\", \"School_Year\": \"2023-24\", \"Safety6\": \"NOT ENOUGH DATA\", \"Safety6_clean\": \"NOT ENOUGH DATA\"}, {\"School_ID\": 610592, \"School_Survey_Safety\": \"VERY WEAK\", \"School_Year\": \"2023-24\", \"Safety6\": \"VERY WEAK\", \"Safety6_clean\": \"VERY WEAK\"}]}}, {\"mode\": \"vega-lite\"});\n",
              "</script>"
            ],
            "text/plain": [
              "alt.Chart(...)"
            ]
          },
          "metadata": {},
          "execution_count": 9
        }
      ]
    },
    {
      "cell_type": "code",
      "source": [
        "# OptionB\n",
        "levels5 = [\"VERY WEAK\", \"WEAK\", \"NEUTRAL\", \"STRONG\", \"VERY STRONG\"]\n",
        "year_order = [\"2011-12\",\"2018-19\",\"2023-24\"]\n",
        "\n",
        "safety_5 = safety.loc[safety[\"Safety6_clean\"].isin(levels5)].copy()\n",
        "\n",
        "counts = (safety_5.groupby([\"School_Year\", \"Safety6_clean\"])\n",
        "            .size()\n",
        "            .reset_index(name=\"count\"))\n",
        "\n",
        "grid = (pd.MultiIndex.from_product([year_order, levels5],\n",
        "                                   names=[\"School_Year\", \"Safety6_clean\"]).to_frame(index=False))\n",
        "counts_full = (grid.merge(counts, on=[\"School_Year\",\"Safety6_clean\"], how=\"left\").fillna({\"count\": 0}))\n",
        "\n",
        "# white to red\n",
        "red_range = [\"#ffffff\", \"#fee5d9\", \"#fcae91\", \"#fb6a4a\", \"#cb181d\"]\n",
        "\n",
        "heat_density = (\n",
        "    alt.Chart(counts_full)\n",
        "      .mark_rect()\n",
        "      .encode(x=alt.X(\"Safety6_clean:N\",\n",
        "                  title=\"Safety Level\",\n",
        "                  sort=levels5,\n",
        "                  axis=alt.Axis(labelAngle=0, labelFontSize=12, titleFontSize=13)),\n",
        "          y=alt.Y(\"School_Year:N\", title=\"School Year\", sort=year_order),\n",
        "          color=alt.Color(\"count:Q\", title=\"School Density\", scale=alt.Scale(range=red_range)))\n",
        "      .properties(title=\"School Safety Heatmap across Years\", width=560, height=200))\n",
        "\n",
        "heat_density.save(\"plot4.svg\")\n",
        "\n",
        "heat_density"
      ],
      "metadata": {
        "colab": {
          "base_uri": "https://localhost:8080/",
          "height": 446
        },
        "id": "jyAzb8T702bQ",
        "outputId": "28e52333-6f26-4121-f476-d041bc3c5012"
      },
      "execution_count": 10,
      "outputs": [
        {
          "output_type": "stream",
          "name": "stderr",
          "text": [
            "/usr/local/lib/python3.12/dist-packages/altair/utils/data.py:71: UserWarning: You passed a `<class 'narwhals.stable.v1.DataFrame'>` to `is_pandas_dataframe`.\n",
            "\n",
            "Hint: Instead of e.g. `is_pandas_dataframe(df)`, did you mean `is_pandas_dataframe(df.to_native())`?\n",
            "  return _is_pandas_dataframe(obj) or isinstance(\n",
            "/usr/local/lib/python3.12/dist-packages/altair/utils/data.py:71: UserWarning: You passed a `<class 'narwhals.stable.v1.DataFrame'>` to `is_pandas_dataframe`.\n",
            "\n",
            "Hint: Instead of e.g. `is_pandas_dataframe(df)`, did you mean `is_pandas_dataframe(df.to_native())`?\n",
            "  return _is_pandas_dataframe(obj) or isinstance(\n"
          ]
        },
        {
          "output_type": "execute_result",
          "data": {
            "text/html": [
              "\n",
              "<style>\n",
              "  #altair-viz-256014cd3b9f42f38a7c2b3e92ce412e.vega-embed {\n",
              "    width: 100%;\n",
              "    display: flex;\n",
              "  }\n",
              "\n",
              "  #altair-viz-256014cd3b9f42f38a7c2b3e92ce412e.vega-embed details,\n",
              "  #altair-viz-256014cd3b9f42f38a7c2b3e92ce412e.vega-embed details summary {\n",
              "    position: relative;\n",
              "  }\n",
              "</style>\n",
              "<div id=\"altair-viz-256014cd3b9f42f38a7c2b3e92ce412e\"></div>\n",
              "<script type=\"text/javascript\">\n",
              "  var VEGA_DEBUG = (typeof VEGA_DEBUG == \"undefined\") ? {} : VEGA_DEBUG;\n",
              "  (function(spec, embedOpt){\n",
              "    let outputDiv = document.currentScript.previousElementSibling;\n",
              "    if (outputDiv.id !== \"altair-viz-256014cd3b9f42f38a7c2b3e92ce412e\") {\n",
              "      outputDiv = document.getElementById(\"altair-viz-256014cd3b9f42f38a7c2b3e92ce412e\");\n",
              "    }\n",
              "    const paths = {\n",
              "      \"vega\": \"https://cdn.jsdelivr.net/npm/vega@5?noext\",\n",
              "      \"vega-lib\": \"https://cdn.jsdelivr.net/npm/vega-lib?noext\",\n",
              "      \"vega-lite\": \"https://cdn.jsdelivr.net/npm/vega-lite@5.20.1?noext\",\n",
              "      \"vega-embed\": \"https://cdn.jsdelivr.net/npm/vega-embed@6?noext\",\n",
              "    };\n",
              "\n",
              "    function maybeLoadScript(lib, version) {\n",
              "      var key = `${lib.replace(\"-\", \"\")}_version`;\n",
              "      return (VEGA_DEBUG[key] == version) ?\n",
              "        Promise.resolve(paths[lib]) :\n",
              "        new Promise(function(resolve, reject) {\n",
              "          var s = document.createElement('script');\n",
              "          document.getElementsByTagName(\"head\")[0].appendChild(s);\n",
              "          s.async = true;\n",
              "          s.onload = () => {\n",
              "            VEGA_DEBUG[key] = version;\n",
              "            return resolve(paths[lib]);\n",
              "          };\n",
              "          s.onerror = () => reject(`Error loading script: ${paths[lib]}`);\n",
              "          s.src = paths[lib];\n",
              "        });\n",
              "    }\n",
              "\n",
              "    function showError(err) {\n",
              "      outputDiv.innerHTML = `<div class=\"error\" style=\"color:red;\">${err}</div>`;\n",
              "      throw err;\n",
              "    }\n",
              "\n",
              "    function displayChart(vegaEmbed) {\n",
              "      vegaEmbed(outputDiv, spec, embedOpt)\n",
              "        .catch(err => showError(`Javascript Error: ${err.message}<br>This usually means there's a typo in your chart specification. See the javascript console for the full traceback.`));\n",
              "    }\n",
              "\n",
              "    if(typeof define === \"function\" && define.amd) {\n",
              "      requirejs.config({paths});\n",
              "      require([\"vega-embed\"], displayChart, err => showError(`Error loading script: ${err.message}`));\n",
              "    } else {\n",
              "      maybeLoadScript(\"vega\", \"5\")\n",
              "        .then(() => maybeLoadScript(\"vega-lite\", \"5.20.1\"))\n",
              "        .then(() => maybeLoadScript(\"vega-embed\", \"6\"))\n",
              "        .catch(showError)\n",
              "        .then(() => displayChart(vegaEmbed));\n",
              "    }\n",
              "  })({\"config\": {\"view\": {\"continuousWidth\": 300, \"continuousHeight\": 300}}, \"data\": {\"name\": \"data-b4a8822ebaaf750d7262613d88871fef\"}, \"mark\": {\"type\": \"rect\"}, \"encoding\": {\"color\": {\"field\": \"count\", \"scale\": {\"range\": [\"#ffffff\", \"#fee5d9\", \"#fcae91\", \"#fb6a4a\", \"#cb181d\"]}, \"title\": \"School Density\", \"type\": \"quantitative\"}, \"x\": {\"axis\": {\"labelAngle\": 0, \"labelFontSize\": 12, \"titleFontSize\": 13}, \"field\": \"Safety6_clean\", \"sort\": [\"VERY WEAK\", \"WEAK\", \"NEUTRAL\", \"STRONG\", \"VERY STRONG\"], \"title\": \"Safety Level\", \"type\": \"nominal\"}, \"y\": {\"field\": \"School_Year\", \"sort\": [\"2011-12\", \"2018-19\", \"2023-24\"], \"title\": \"School Year\", \"type\": \"nominal\"}}, \"height\": 200, \"title\": \"School Safety Heatmap across Years\", \"width\": 560, \"$schema\": \"https://vega.github.io/schema/vega-lite/v5.20.1.json\", \"datasets\": {\"data-b4a8822ebaaf750d7262613d88871fef\": [{\"School_Year\": \"2011-12\", \"Safety6_clean\": \"VERY WEAK\", \"count\": 3.0}, {\"School_Year\": \"2011-12\", \"Safety6_clean\": \"WEAK\", \"count\": 16.0}, {\"School_Year\": \"2011-12\", \"Safety6_clean\": \"NEUTRAL\", \"count\": 0.0}, {\"School_Year\": \"2011-12\", \"Safety6_clean\": \"STRONG\", \"count\": 8.0}, {\"School_Year\": \"2011-12\", \"Safety6_clean\": \"VERY STRONG\", \"count\": 6.0}, {\"School_Year\": \"2018-19\", \"Safety6_clean\": \"VERY WEAK\", \"count\": 9.0}, {\"School_Year\": \"2018-19\", \"Safety6_clean\": \"WEAK\", \"count\": 56.0}, {\"School_Year\": \"2018-19\", \"Safety6_clean\": \"NEUTRAL\", \"count\": 9.0}, {\"School_Year\": \"2018-19\", \"Safety6_clean\": \"STRONG\", \"count\": 4.0}, {\"School_Year\": \"2018-19\", \"Safety6_clean\": \"VERY STRONG\", \"count\": 1.0}, {\"School_Year\": \"2023-24\", \"Safety6_clean\": \"VERY WEAK\", \"count\": 18.0}, {\"School_Year\": \"2023-24\", \"Safety6_clean\": \"WEAK\", \"count\": 41.0}, {\"School_Year\": \"2023-24\", \"Safety6_clean\": \"NEUTRAL\", \"count\": 11.0}, {\"School_Year\": \"2023-24\", \"Safety6_clean\": \"STRONG\", \"count\": 1.0}, {\"School_Year\": \"2023-24\", \"Safety6_clean\": \"VERY STRONG\", \"count\": 1.0}]}}, {\"mode\": \"vega-lite\"});\n",
              "</script>"
            ],
            "text/plain": [
              "alt.Chart(...)"
            ]
          },
          "metadata": {},
          "execution_count": 10
        }
      ]
    },
    {
      "cell_type": "markdown",
      "source": [
        "# Plot 5"
      ],
      "metadata": {
        "id": "hqt5ki5418wb"
      }
    },
    {
      "cell_type": "code",
      "source": [
        "# clean\n",
        "def coerce_numeric_series(s):\n",
        "    s = s.astype(str).str.strip().str.replace(\"%\", \"\", regex=False)\n",
        "    s = pd.to_numeric(s, errors=\"coerce\")\n",
        "    return s\n",
        "\n",
        "def prep(df, year_label):\n",
        "    use = df[[\"School_ID\", \"SAT_Grade_11_Score_School_Avg\", \"College_Enrollment_Rate_School\"]].copy()\n",
        "    use[\"SAT_Grade_11_Score_School_Avg\"] = coerce_numeric_series(use[\"SAT_Grade_11_Score_School_Avg\"])\n",
        "    use[\"College_Enrollment_Rate_School\"] = coerce_numeric_series(use[\"College_Enrollment_Rate_School\"])\n",
        "    use[\"School_Year\"] = year_label\n",
        "    return use.dropna(subset=[\"SAT_Grade_11_Score_School_Avg\", \"College_Enrollment_Rate_School\"])\n",
        "\n",
        "df_1819_sc = prep(df_1819, \"2018-19\")\n",
        "df_2324_sc = prep(df_2324, \"2023-24\")\n",
        "\n",
        "scatter_df = pd.concat([df_1819_sc, df_2324_sc], ignore_index=True)\n",
        "\n",
        "\n",
        "year_order = [\"2018-19\", \"2023-24\"]\n",
        "colors = [\"#1f78b4\", \"#33a02c\"]"
      ],
      "metadata": {
        "id": "2Xl6DFAQ1j1i"
      },
      "execution_count": 11,
      "outputs": []
    },
    {
      "cell_type": "code",
      "source": [
        "# plot\n",
        "plot5 = (\n",
        "    alt.Chart(scatter_df)\n",
        "      .mark_circle(size=65, opacity=0.75)\n",
        "      .encode(\n",
        "          x=alt.X(\n",
        "              \"SAT_Grade_11_Score_School_Avg:Q\",\n",
        "              title=\"SAT Grade 11 – School Average\",\n",
        "              scale=alt.Scale(domain=[600, 1600])),\n",
        "          y=alt.Y(\n",
        "              \"College_Enrollment_Rate_School:Q\",\n",
        "              title=\"College Enrollment Rate (%)\",\n",
        "              scale=alt.Scale(domain=[0, 100])),\n",
        "          color=alt.Color(\n",
        "              \"School_Year:N\",\n",
        "              title=\"School Year\",\n",
        "              scale=alt.Scale(domain=year_order, range=colors)))\n",
        "      .properties(title=\"SAT vs College Enrollment Rate by School\", width=560, height=300))\n",
        "\n",
        "plot5.save(\"plot5.svg\")\n",
        "\n",
        "plot5"
      ],
      "metadata": {
        "colab": {
          "base_uri": "https://localhost:8080/",
          "height": 548
        },
        "id": "MWZmD3aSN-AT",
        "outputId": "644d83d2-02ed-4d1f-f922-ba51b7adcecc"
      },
      "execution_count": 12,
      "outputs": [
        {
          "output_type": "stream",
          "name": "stderr",
          "text": [
            "/usr/local/lib/python3.12/dist-packages/altair/utils/data.py:71: UserWarning: You passed a `<class 'narwhals.stable.v1.DataFrame'>` to `is_pandas_dataframe`.\n",
            "\n",
            "Hint: Instead of e.g. `is_pandas_dataframe(df)`, did you mean `is_pandas_dataframe(df.to_native())`?\n",
            "  return _is_pandas_dataframe(obj) or isinstance(\n",
            "/usr/local/lib/python3.12/dist-packages/altair/utils/data.py:71: UserWarning: You passed a `<class 'narwhals.stable.v1.DataFrame'>` to `is_pandas_dataframe`.\n",
            "\n",
            "Hint: Instead of e.g. `is_pandas_dataframe(df)`, did you mean `is_pandas_dataframe(df.to_native())`?\n",
            "  return _is_pandas_dataframe(obj) or isinstance(\n"
          ]
        },
        {
          "output_type": "execute_result",
          "data": {
            "text/html": [
              "\n",
              "<style>\n",
              "  #altair-viz-b5d34c740ad84c2ba00d5209d102be5f.vega-embed {\n",
              "    width: 100%;\n",
              "    display: flex;\n",
              "  }\n",
              "\n",
              "  #altair-viz-b5d34c740ad84c2ba00d5209d102be5f.vega-embed details,\n",
              "  #altair-viz-b5d34c740ad84c2ba00d5209d102be5f.vega-embed details summary {\n",
              "    position: relative;\n",
              "  }\n",
              "</style>\n",
              "<div id=\"altair-viz-b5d34c740ad84c2ba00d5209d102be5f\"></div>\n",
              "<script type=\"text/javascript\">\n",
              "  var VEGA_DEBUG = (typeof VEGA_DEBUG == \"undefined\") ? {} : VEGA_DEBUG;\n",
              "  (function(spec, embedOpt){\n",
              "    let outputDiv = document.currentScript.previousElementSibling;\n",
              "    if (outputDiv.id !== \"altair-viz-b5d34c740ad84c2ba00d5209d102be5f\") {\n",
              "      outputDiv = document.getElementById(\"altair-viz-b5d34c740ad84c2ba00d5209d102be5f\");\n",
              "    }\n",
              "    const paths = {\n",
              "      \"vega\": \"https://cdn.jsdelivr.net/npm/vega@5?noext\",\n",
              "      \"vega-lib\": \"https://cdn.jsdelivr.net/npm/vega-lib?noext\",\n",
              "      \"vega-lite\": \"https://cdn.jsdelivr.net/npm/vega-lite@5.20.1?noext\",\n",
              "      \"vega-embed\": \"https://cdn.jsdelivr.net/npm/vega-embed@6?noext\",\n",
              "    };\n",
              "\n",
              "    function maybeLoadScript(lib, version) {\n",
              "      var key = `${lib.replace(\"-\", \"\")}_version`;\n",
              "      return (VEGA_DEBUG[key] == version) ?\n",
              "        Promise.resolve(paths[lib]) :\n",
              "        new Promise(function(resolve, reject) {\n",
              "          var s = document.createElement('script');\n",
              "          document.getElementsByTagName(\"head\")[0].appendChild(s);\n",
              "          s.async = true;\n",
              "          s.onload = () => {\n",
              "            VEGA_DEBUG[key] = version;\n",
              "            return resolve(paths[lib]);\n",
              "          };\n",
              "          s.onerror = () => reject(`Error loading script: ${paths[lib]}`);\n",
              "          s.src = paths[lib];\n",
              "        });\n",
              "    }\n",
              "\n",
              "    function showError(err) {\n",
              "      outputDiv.innerHTML = `<div class=\"error\" style=\"color:red;\">${err}</div>`;\n",
              "      throw err;\n",
              "    }\n",
              "\n",
              "    function displayChart(vegaEmbed) {\n",
              "      vegaEmbed(outputDiv, spec, embedOpt)\n",
              "        .catch(err => showError(`Javascript Error: ${err.message}<br>This usually means there's a typo in your chart specification. See the javascript console for the full traceback.`));\n",
              "    }\n",
              "\n",
              "    if(typeof define === \"function\" && define.amd) {\n",
              "      requirejs.config({paths});\n",
              "      require([\"vega-embed\"], displayChart, err => showError(`Error loading script: ${err.message}`));\n",
              "    } else {\n",
              "      maybeLoadScript(\"vega\", \"5\")\n",
              "        .then(() => maybeLoadScript(\"vega-lite\", \"5.20.1\"))\n",
              "        .then(() => maybeLoadScript(\"vega-embed\", \"6\"))\n",
              "        .catch(showError)\n",
              "        .then(() => displayChart(vegaEmbed));\n",
              "    }\n",
              "  })({\"config\": {\"view\": {\"continuousWidth\": 300, \"continuousHeight\": 300}}, \"data\": {\"name\": \"data-4c52b6ea8c63627ba03131adab2aae9e\"}, \"mark\": {\"type\": \"circle\", \"opacity\": 0.75, \"size\": 65}, \"encoding\": {\"color\": {\"field\": \"School_Year\", \"scale\": {\"domain\": [\"2018-19\", \"2023-24\"], \"range\": [\"#1f78b4\", \"#33a02c\"]}, \"title\": \"School Year\", \"type\": \"nominal\"}, \"x\": {\"field\": \"SAT_Grade_11_Score_School_Avg\", \"scale\": {\"domain\": [600, 1600]}, \"title\": \"SAT Grade 11 \\u2013 School Average\", \"type\": \"quantitative\"}, \"y\": {\"field\": \"College_Enrollment_Rate_School\", \"scale\": {\"domain\": [0, 100]}, \"title\": \"College Enrollment Rate (%)\", \"type\": \"quantitative\"}}, \"height\": 300, \"title\": \"SAT vs College Enrollment Rate by School\", \"width\": 560, \"$schema\": \"https://vega.github.io/schema/vega-lite/v5.20.1.json\", \"datasets\": {\"data-4c52b6ea8c63627ba03131adab2aae9e\": [{\"School_ID\": 609674, \"SAT_Grade_11_Score_School_Avg\": 827.0, \"College_Enrollment_Rate_School\": 38.1, \"School_Year\": \"2018-19\"}, {\"School_ID\": 609676, \"SAT_Grade_11_Score_School_Avg\": 790.0, \"College_Enrollment_Rate_School\": 57.6, \"School_Year\": \"2018-19\"}, {\"School_ID\": 609678, \"SAT_Grade_11_Score_School_Avg\": 1278.0, \"College_Enrollment_Rate_School\": 86.4, \"School_Year\": \"2018-19\"}, {\"School_ID\": 609679, \"SAT_Grade_11_Score_School_Avg\": 956.0, \"College_Enrollment_Rate_School\": 76.5, \"School_Year\": \"2018-19\"}, {\"School_ID\": 609680, \"SAT_Grade_11_Score_School_Avg\": 1388.0, \"College_Enrollment_Rate_School\": 92.2, \"School_Year\": \"2018-19\"}, {\"School_ID\": 609682, \"SAT_Grade_11_Score_School_Avg\": 803.0, \"College_Enrollment_Rate_School\": 37.8, \"School_Year\": \"2018-19\"}, {\"School_ID\": 609691, \"SAT_Grade_11_Score_School_Avg\": 903.0, \"College_Enrollment_Rate_School\": 67.9, \"School_Year\": \"2018-19\"}, {\"School_ID\": 609692, \"SAT_Grade_11_Score_School_Avg\": 873.0, \"College_Enrollment_Rate_School\": 61.8, \"School_Year\": \"2018-19\"}, {\"School_ID\": 609693, \"SAT_Grade_11_Score_School_Avg\": 1056.0, \"College_Enrollment_Rate_School\": 87.8, \"School_Year\": \"2018-19\"}, {\"School_ID\": 609694, \"SAT_Grade_11_Score_School_Avg\": 1076.0, \"College_Enrollment_Rate_School\": 77.2, \"School_Year\": \"2018-19\"}, {\"School_ID\": 609695, \"SAT_Grade_11_Score_School_Avg\": 1012.0, \"College_Enrollment_Rate_School\": 76.6, \"School_Year\": \"2018-19\"}, {\"School_ID\": 609698, \"SAT_Grade_11_Score_School_Avg\": 832.0, \"College_Enrollment_Rate_School\": 53.5, \"School_Year\": \"2018-19\"}, {\"School_ID\": 609704, \"SAT_Grade_11_Score_School_Avg\": 880.0, \"College_Enrollment_Rate_School\": 54.5, \"School_Year\": \"2018-19\"}, {\"School_ID\": 609705, \"SAT_Grade_11_Score_School_Avg\": 834.0, \"College_Enrollment_Rate_School\": 44.4, \"School_Year\": \"2018-19\"}, {\"School_ID\": 609708, \"SAT_Grade_11_Score_School_Avg\": 867.0, \"College_Enrollment_Rate_School\": 58.1, \"School_Year\": \"2018-19\"}, {\"School_ID\": 609709, \"SAT_Grade_11_Score_School_Avg\": 811.0, \"College_Enrollment_Rate_School\": 42.9, \"School_Year\": \"2018-19\"}, {\"School_ID\": 609710, \"SAT_Grade_11_Score_School_Avg\": 824.0, \"College_Enrollment_Rate_School\": 48.4, \"School_Year\": \"2018-19\"}, {\"School_ID\": 609711, \"SAT_Grade_11_Score_School_Avg\": 783.0, \"College_Enrollment_Rate_School\": 46.4, \"School_Year\": \"2018-19\"}, {\"School_ID\": 609712, \"SAT_Grade_11_Score_School_Avg\": 781.0, \"College_Enrollment_Rate_School\": 28.9, \"School_Year\": \"2018-19\"}, {\"School_ID\": 609713, \"SAT_Grade_11_Score_School_Avg\": 832.0, \"College_Enrollment_Rate_School\": 61.4, \"School_Year\": \"2018-19\"}, {\"School_ID\": 609715, \"SAT_Grade_11_Score_School_Avg\": 923.0, \"College_Enrollment_Rate_School\": 66.7, \"School_Year\": \"2018-19\"}, {\"School_ID\": 609718, \"SAT_Grade_11_Score_School_Avg\": 972.0, \"College_Enrollment_Rate_School\": 71.1, \"School_Year\": \"2018-19\"}, {\"School_ID\": 609719, \"SAT_Grade_11_Score_School_Avg\": 945.0, \"College_Enrollment_Rate_School\": 76.2, \"School_Year\": \"2018-19\"}, {\"School_ID\": 609722, \"SAT_Grade_11_Score_School_Avg\": 759.0, \"College_Enrollment_Rate_School\": 55.2, \"School_Year\": \"2018-19\"}, {\"School_ID\": 609723, \"SAT_Grade_11_Score_School_Avg\": 804.0, \"College_Enrollment_Rate_School\": 34.6, \"School_Year\": \"2018-19\"}, {\"School_ID\": 609724, \"SAT_Grade_11_Score_School_Avg\": 959.0, \"College_Enrollment_Rate_School\": 74.3, \"School_Year\": \"2018-19\"}, {\"School_ID\": 609727, \"SAT_Grade_11_Score_School_Avg\": 857.0, \"College_Enrollment_Rate_School\": 66.7, \"School_Year\": \"2018-19\"}, {\"School_ID\": 609728, \"SAT_Grade_11_Score_School_Avg\": 882.0, \"College_Enrollment_Rate_School\": 67.3, \"School_Year\": \"2018-19\"}, {\"School_ID\": 609729, \"SAT_Grade_11_Score_School_Avg\": 892.0, \"College_Enrollment_Rate_School\": 63.8, \"School_Year\": \"2018-19\"}, {\"School_ID\": 609730, \"SAT_Grade_11_Score_School_Avg\": 964.0, \"College_Enrollment_Rate_School\": 80.1, \"School_Year\": \"2018-19\"}, {\"School_ID\": 609732, \"SAT_Grade_11_Score_School_Avg\": 881.0, \"College_Enrollment_Rate_School\": 63.2, \"School_Year\": \"2018-19\"}, {\"School_ID\": 609733, \"SAT_Grade_11_Score_School_Avg\": 862.0, \"College_Enrollment_Rate_School\": 61.9, \"School_Year\": \"2018-19\"}, {\"School_ID\": 609735, \"SAT_Grade_11_Score_School_Avg\": 828.0, \"College_Enrollment_Rate_School\": 56.7, \"School_Year\": \"2018-19\"}, {\"School_ID\": 609737, \"SAT_Grade_11_Score_School_Avg\": 1026.0, \"College_Enrollment_Rate_School\": 82.9, \"School_Year\": \"2018-19\"}, {\"School_ID\": 609738, \"SAT_Grade_11_Score_School_Avg\": 1087.0, \"College_Enrollment_Rate_School\": 87.4, \"School_Year\": \"2018-19\"}, {\"School_ID\": 609739, \"SAT_Grade_11_Score_School_Avg\": 956.0, \"College_Enrollment_Rate_School\": 62.0, \"School_Year\": \"2018-19\"}, {\"School_ID\": 609740, \"SAT_Grade_11_Score_School_Avg\": 860.0, \"College_Enrollment_Rate_School\": 57.8, \"School_Year\": \"2018-19\"}, {\"School_ID\": 609741, \"SAT_Grade_11_Score_School_Avg\": 905.0, \"College_Enrollment_Rate_School\": 68.5, \"School_Year\": \"2018-19\"}, {\"School_ID\": 609748, \"SAT_Grade_11_Score_School_Avg\": 750.0, \"College_Enrollment_Rate_School\": 4.0, \"School_Year\": \"2018-19\"}, {\"School_ID\": 609749, \"SAT_Grade_11_Score_School_Avg\": 1349.0, \"College_Enrollment_Rate_School\": 93.7, \"School_Year\": \"2018-19\"}, {\"School_ID\": 609751, \"SAT_Grade_11_Score_School_Avg\": 1023.0, \"College_Enrollment_Rate_School\": 86.3, \"School_Year\": \"2018-19\"}, {\"School_ID\": 609753, \"SAT_Grade_11_Score_School_Avg\": 1031.0, \"College_Enrollment_Rate_School\": 81.3, \"School_Year\": \"2018-19\"}, {\"School_ID\": 609754, \"SAT_Grade_11_Score_School_Avg\": 907.0, \"College_Enrollment_Rate_School\": 70.3, \"School_Year\": \"2018-19\"}, {\"School_ID\": 609756, \"SAT_Grade_11_Score_School_Avg\": 929.0, \"College_Enrollment_Rate_School\": 70.3, \"School_Year\": \"2018-19\"}, {\"School_ID\": 609759, \"SAT_Grade_11_Score_School_Avg\": 850.0, \"College_Enrollment_Rate_School\": 50.0, \"School_Year\": \"2018-19\"}, {\"School_ID\": 609760, \"SAT_Grade_11_Score_School_Avg\": 944.0, \"College_Enrollment_Rate_School\": 64.0, \"School_Year\": \"2018-19\"}, {\"School_ID\": 609761, \"SAT_Grade_11_Score_School_Avg\": 813.0, \"College_Enrollment_Rate_School\": 51.4, \"School_Year\": \"2018-19\"}, {\"School_ID\": 609762, \"SAT_Grade_11_Score_School_Avg\": 792.0, \"College_Enrollment_Rate_School\": 55.9, \"School_Year\": \"2018-19\"}, {\"School_ID\": 609764, \"SAT_Grade_11_Score_School_Avg\": 876.0, \"College_Enrollment_Rate_School\": 62.8, \"School_Year\": \"2018-19\"}, {\"School_ID\": 609768, \"SAT_Grade_11_Score_School_Avg\": 767.0, \"College_Enrollment_Rate_School\": 80.0, \"School_Year\": \"2018-19\"}, {\"School_ID\": 610244, \"SAT_Grade_11_Score_School_Avg\": 825.0, \"College_Enrollment_Rate_School\": 51.5, \"School_Year\": \"2018-19\"}, {\"School_ID\": 610245, \"SAT_Grade_11_Score_School_Avg\": 785.0, \"College_Enrollment_Rate_School\": 28.1, \"School_Year\": \"2018-19\"}, {\"School_ID\": 610304, \"SAT_Grade_11_Score_School_Avg\": 975.0, \"College_Enrollment_Rate_School\": 70.4, \"School_Year\": \"2018-19\"}, {\"School_ID\": 610323, \"SAT_Grade_11_Score_School_Avg\": 822.0, \"College_Enrollment_Rate_School\": 45.5, \"School_Year\": \"2018-19\"}, {\"School_ID\": 610334, \"SAT_Grade_11_Score_School_Avg\": 814.0, \"College_Enrollment_Rate_School\": 45.5, \"School_Year\": \"2018-19\"}, {\"School_ID\": 610340, \"SAT_Grade_11_Score_School_Avg\": 928.0, \"College_Enrollment_Rate_School\": 78.1, \"School_Year\": \"2018-19\"}, {\"School_ID\": 610357, \"SAT_Grade_11_Score_School_Avg\": 857.0, \"College_Enrollment_Rate_School\": 57.1, \"School_Year\": \"2018-19\"}, {\"School_ID\": 610380, \"SAT_Grade_11_Score_School_Avg\": 846.0, \"College_Enrollment_Rate_School\": 79.3, \"School_Year\": \"2018-19\"}, {\"School_ID\": 610381, \"SAT_Grade_11_Score_School_Avg\": 818.0, \"College_Enrollment_Rate_School\": 69.4, \"School_Year\": \"2018-19\"}, {\"School_ID\": 610383, \"SAT_Grade_11_Score_School_Avg\": 871.0, \"College_Enrollment_Rate_School\": 56.9, \"School_Year\": \"2018-19\"}, {\"School_ID\": 610384, \"SAT_Grade_11_Score_School_Avg\": 956.0, \"College_Enrollment_Rate_School\": 73.4, \"School_Year\": \"2018-19\"}, {\"School_ID\": 610385, \"SAT_Grade_11_Score_School_Avg\": 861.0, \"College_Enrollment_Rate_School\": 61.4, \"School_Year\": \"2018-19\"}, {\"School_ID\": 610386, \"SAT_Grade_11_Score_School_Avg\": 786.0, \"College_Enrollment_Rate_School\": 18.4, \"School_Year\": \"2018-19\"}, {\"School_ID\": 610389, \"SAT_Grade_11_Score_School_Avg\": 801.0, \"College_Enrollment_Rate_School\": 38.3, \"School_Year\": \"2018-19\"}, {\"School_ID\": 610390, \"SAT_Grade_11_Score_School_Avg\": 940.0, \"College_Enrollment_Rate_School\": 68.3, \"School_Year\": \"2018-19\"}, {\"School_ID\": 610392, \"SAT_Grade_11_Score_School_Avg\": 945.0, \"College_Enrollment_Rate_School\": 79.7, \"School_Year\": \"2018-19\"}, {\"School_ID\": 610394, \"SAT_Grade_11_Score_School_Avg\": 843.0, \"College_Enrollment_Rate_School\": 76.9, \"School_Year\": \"2018-19\"}, {\"School_ID\": 610402, \"SAT_Grade_11_Score_School_Avg\": 1040.0, \"College_Enrollment_Rate_School\": 81.1, \"School_Year\": \"2018-19\"}, {\"School_ID\": 610499, \"SAT_Grade_11_Score_School_Avg\": 809.0, \"College_Enrollment_Rate_School\": 70.4, \"School_Year\": \"2018-19\"}, {\"School_ID\": 610513, \"SAT_Grade_11_Score_School_Avg\": 899.0, \"College_Enrollment_Rate_School\": 62.5, \"School_Year\": \"2018-19\"}, {\"School_ID\": 610518, \"SAT_Grade_11_Score_School_Avg\": 788.0, \"College_Enrollment_Rate_School\": 43.3, \"School_Year\": \"2018-19\"}, {\"School_ID\": 610543, \"SAT_Grade_11_Score_School_Avg\": 1000.0, \"College_Enrollment_Rate_School\": 73.5, \"School_Year\": \"2018-19\"}, {\"School_ID\": 610547, \"SAT_Grade_11_Score_School_Avg\": 929.0, \"College_Enrollment_Rate_School\": 85.7, \"School_Year\": \"2018-19\"}, {\"School_ID\": 610558, \"SAT_Grade_11_Score_School_Avg\": 899.0, \"College_Enrollment_Rate_School\": 66.5, \"School_Year\": \"2018-19\"}, {\"School_ID\": 610561, \"SAT_Grade_11_Score_School_Avg\": 925.0, \"College_Enrollment_Rate_School\": 76.0, \"School_Year\": \"2018-19\"}, {\"School_ID\": 610563, \"SAT_Grade_11_Score_School_Avg\": 990.0, \"College_Enrollment_Rate_School\": 84.0, \"School_Year\": \"2018-19\"}, {\"School_ID\": 609674, \"SAT_Grade_11_Score_School_Avg\": 783.0, \"College_Enrollment_Rate_School\": 28.7, \"School_Year\": \"2023-24\"}, {\"School_ID\": 609676, \"SAT_Grade_11_Score_School_Avg\": 778.0, \"College_Enrollment_Rate_School\": 38.9, \"School_Year\": \"2023-24\"}, {\"School_ID\": 609678, \"SAT_Grade_11_Score_School_Avg\": 1269.0, \"College_Enrollment_Rate_School\": 88.3, \"School_Year\": \"2023-24\"}, {\"School_ID\": 609679, \"SAT_Grade_11_Score_School_Avg\": 914.0, \"College_Enrollment_Rate_School\": 71.5, \"School_Year\": \"2023-24\"}, {\"School_ID\": 609680, \"SAT_Grade_11_Score_School_Avg\": 1366.0, \"College_Enrollment_Rate_School\": 88.7, \"School_Year\": \"2023-24\"}, {\"School_ID\": 609682, \"SAT_Grade_11_Score_School_Avg\": 767.0, \"College_Enrollment_Rate_School\": 40.0, \"School_Year\": \"2023-24\"}, {\"School_ID\": 609691, \"SAT_Grade_11_Score_School_Avg\": 855.0, \"College_Enrollment_Rate_School\": 55.8, \"School_Year\": \"2023-24\"}, {\"School_ID\": 609692, \"SAT_Grade_11_Score_School_Avg\": 816.0, \"College_Enrollment_Rate_School\": 48.3, \"School_Year\": \"2023-24\"}, {\"School_ID\": 609693, \"SAT_Grade_11_Score_School_Avg\": 994.0, \"College_Enrollment_Rate_School\": 86.2, \"School_Year\": \"2023-24\"}, {\"School_ID\": 609694, \"SAT_Grade_11_Score_School_Avg\": 1042.0, \"College_Enrollment_Rate_School\": 73.2, \"School_Year\": \"2023-24\"}, {\"School_ID\": 609695, \"SAT_Grade_11_Score_School_Avg\": 1000.0, \"College_Enrollment_Rate_School\": 68.0, \"School_Year\": \"2023-24\"}, {\"School_ID\": 609698, \"SAT_Grade_11_Score_School_Avg\": 807.0, \"College_Enrollment_Rate_School\": 49.3, \"School_Year\": \"2023-24\"}, {\"School_ID\": 609704, \"SAT_Grade_11_Score_School_Avg\": 852.0, \"College_Enrollment_Rate_School\": 45.2, \"School_Year\": \"2023-24\"}, {\"School_ID\": 609705, \"SAT_Grade_11_Score_School_Avg\": 774.0, \"College_Enrollment_Rate_School\": 35.1, \"School_Year\": \"2023-24\"}, {\"School_ID\": 609708, \"SAT_Grade_11_Score_School_Avg\": 845.0, \"College_Enrollment_Rate_School\": 50.0, \"School_Year\": \"2023-24\"}, {\"School_ID\": 609709, \"SAT_Grade_11_Score_School_Avg\": 790.0, \"College_Enrollment_Rate_School\": 48.0, \"School_Year\": \"2023-24\"}, {\"School_ID\": 609710, \"SAT_Grade_11_Score_School_Avg\": 768.0, \"College_Enrollment_Rate_School\": 30.6, \"School_Year\": \"2023-24\"}, {\"School_ID\": 609712, \"SAT_Grade_11_Score_School_Avg\": 713.0, \"College_Enrollment_Rate_School\": 27.3, \"School_Year\": \"2023-24\"}, {\"School_ID\": 609713, \"SAT_Grade_11_Score_School_Avg\": 803.0, \"College_Enrollment_Rate_School\": 52.4, \"School_Year\": \"2023-24\"}, {\"School_ID\": 609715, \"SAT_Grade_11_Score_School_Avg\": 890.0, \"College_Enrollment_Rate_School\": 55.5, \"School_Year\": \"2023-24\"}, {\"School_ID\": 609718, \"SAT_Grade_11_Score_School_Avg\": 898.0, \"College_Enrollment_Rate_School\": 70.8, \"School_Year\": \"2023-24\"}, {\"School_ID\": 609719, \"SAT_Grade_11_Score_School_Avg\": 918.0, \"College_Enrollment_Rate_School\": 66.9, \"School_Year\": \"2023-24\"}, {\"School_ID\": 609722, \"SAT_Grade_11_Score_School_Avg\": 769.0, \"College_Enrollment_Rate_School\": 23.5, \"School_Year\": \"2023-24\"}, {\"School_ID\": 609723, \"SAT_Grade_11_Score_School_Avg\": 774.0, \"College_Enrollment_Rate_School\": 38.6, \"School_Year\": \"2023-24\"}, {\"School_ID\": 609724, \"SAT_Grade_11_Score_School_Avg\": 914.0, \"College_Enrollment_Rate_School\": 72.5, \"School_Year\": \"2023-24\"}, {\"School_ID\": 609727, \"SAT_Grade_11_Score_School_Avg\": 782.0, \"College_Enrollment_Rate_School\": 57.8, \"School_Year\": \"2023-24\"}, {\"School_ID\": 609728, \"SAT_Grade_11_Score_School_Avg\": 850.0, \"College_Enrollment_Rate_School\": 57.4, \"School_Year\": \"2023-24\"}, {\"School_ID\": 609729, \"SAT_Grade_11_Score_School_Avg\": 855.0, \"College_Enrollment_Rate_School\": 55.7, \"School_Year\": \"2023-24\"}, {\"School_ID\": 609730, \"SAT_Grade_11_Score_School_Avg\": 960.0, \"College_Enrollment_Rate_School\": 69.2, \"School_Year\": \"2023-24\"}, {\"School_ID\": 609732, \"SAT_Grade_11_Score_School_Avg\": 833.0, \"College_Enrollment_Rate_School\": 53.0, \"School_Year\": \"2023-24\"}, {\"School_ID\": 609733, \"SAT_Grade_11_Score_School_Avg\": 868.0, \"College_Enrollment_Rate_School\": 60.9, \"School_Year\": \"2023-24\"}, {\"School_ID\": 609735, \"SAT_Grade_11_Score_School_Avg\": 789.0, \"College_Enrollment_Rate_School\": 40.5, \"School_Year\": \"2023-24\"}, {\"School_ID\": 609737, \"SAT_Grade_11_Score_School_Avg\": 1003.0, \"College_Enrollment_Rate_School\": 77.2, \"School_Year\": \"2023-24\"}, {\"School_ID\": 609738, \"SAT_Grade_11_Score_School_Avg\": 1056.0, \"College_Enrollment_Rate_School\": 81.8, \"School_Year\": \"2023-24\"}, {\"School_ID\": 609739, \"SAT_Grade_11_Score_School_Avg\": 882.0, \"College_Enrollment_Rate_School\": 58.7, \"School_Year\": \"2023-24\"}, {\"School_ID\": 609740, \"SAT_Grade_11_Score_School_Avg\": 771.0, \"College_Enrollment_Rate_School\": 47.0, \"School_Year\": \"2023-24\"}, {\"School_ID\": 609741, \"SAT_Grade_11_Score_School_Avg\": 882.0, \"College_Enrollment_Rate_School\": 60.0, \"School_Year\": \"2023-24\"}, {\"School_ID\": 609749, \"SAT_Grade_11_Score_School_Avg\": 1295.0, \"College_Enrollment_Rate_School\": 93.2, \"School_Year\": \"2023-24\"}, {\"School_ID\": 609751, \"SAT_Grade_11_Score_School_Avg\": 955.0, \"College_Enrollment_Rate_School\": 86.6, \"School_Year\": \"2023-24\"}, {\"School_ID\": 609753, \"SAT_Grade_11_Score_School_Avg\": 930.0, \"College_Enrollment_Rate_School\": 67.1, \"School_Year\": \"2023-24\"}, {\"School_ID\": 609754, \"SAT_Grade_11_Score_School_Avg\": 832.0, \"College_Enrollment_Rate_School\": 50.6, \"School_Year\": \"2023-24\"}, {\"School_ID\": 609756, \"SAT_Grade_11_Score_School_Avg\": 914.0, \"College_Enrollment_Rate_School\": 64.9, \"School_Year\": \"2023-24\"}, {\"School_ID\": 609759, \"SAT_Grade_11_Score_School_Avg\": 804.0, \"College_Enrollment_Rate_School\": 48.9, \"School_Year\": \"2023-24\"}, {\"School_ID\": 609760, \"SAT_Grade_11_Score_School_Avg\": 868.0, \"College_Enrollment_Rate_School\": 50.8, \"School_Year\": \"2023-24\"}, {\"School_ID\": 609761, \"SAT_Grade_11_Score_School_Avg\": 787.0, \"College_Enrollment_Rate_School\": 45.1, \"School_Year\": \"2023-24\"}, {\"School_ID\": 609762, \"SAT_Grade_11_Score_School_Avg\": 773.0, \"College_Enrollment_Rate_School\": 42.6, \"School_Year\": \"2023-24\"}, {\"School_ID\": 609764, \"SAT_Grade_11_Score_School_Avg\": 848.0, \"College_Enrollment_Rate_School\": 57.9, \"School_Year\": \"2023-24\"}, {\"School_ID\": 610244, \"SAT_Grade_11_Score_School_Avg\": 759.0, \"College_Enrollment_Rate_School\": 38.0, \"School_Year\": \"2023-24\"}, {\"School_ID\": 610304, \"SAT_Grade_11_Score_School_Avg\": 921.0, \"College_Enrollment_Rate_School\": 59.6, \"School_Year\": \"2023-24\"}, {\"School_ID\": 610323, \"SAT_Grade_11_Score_School_Avg\": 770.0, \"College_Enrollment_Rate_School\": 45.1, \"School_Year\": \"2023-24\"}, {\"School_ID\": 610334, \"SAT_Grade_11_Score_School_Avg\": 768.0, \"College_Enrollment_Rate_School\": 55.8, \"School_Year\": \"2023-24\"}, {\"School_ID\": 610340, \"SAT_Grade_11_Score_School_Avg\": 921.0, \"College_Enrollment_Rate_School\": 64.4, \"School_Year\": \"2023-24\"}, {\"School_ID\": 610357, \"SAT_Grade_11_Score_School_Avg\": 821.0, \"College_Enrollment_Rate_School\": 66.7, \"School_Year\": \"2023-24\"}, {\"School_ID\": 610380, \"SAT_Grade_11_Score_School_Avg\": 775.0, \"College_Enrollment_Rate_School\": 75.0, \"School_Year\": \"2023-24\"}, {\"School_ID\": 610383, \"SAT_Grade_11_Score_School_Avg\": 867.0, \"College_Enrollment_Rate_School\": 49.1, \"School_Year\": \"2023-24\"}, {\"School_ID\": 610384, \"SAT_Grade_11_Score_School_Avg\": 934.0, \"College_Enrollment_Rate_School\": 56.3, \"School_Year\": \"2023-24\"}, {\"School_ID\": 610385, \"SAT_Grade_11_Score_School_Avg\": 830.0, \"College_Enrollment_Rate_School\": 42.9, \"School_Year\": \"2023-24\"}, {\"School_ID\": 610386, \"SAT_Grade_11_Score_School_Avg\": 803.0, \"College_Enrollment_Rate_School\": 21.6, \"School_Year\": \"2023-24\"}, {\"School_ID\": 610389, \"SAT_Grade_11_Score_School_Avg\": 785.0, \"College_Enrollment_Rate_School\": 28.6, \"School_Year\": \"2023-24\"}, {\"School_ID\": 610390, \"SAT_Grade_11_Score_School_Avg\": 898.0, \"College_Enrollment_Rate_School\": 56.9, \"School_Year\": \"2023-24\"}, {\"School_ID\": 610392, \"SAT_Grade_11_Score_School_Avg\": 871.0, \"College_Enrollment_Rate_School\": 79.1, \"School_Year\": \"2023-24\"}, {\"School_ID\": 610394, \"SAT_Grade_11_Score_School_Avg\": 857.0, \"College_Enrollment_Rate_School\": 51.7, \"School_Year\": \"2023-24\"}, {\"School_ID\": 610499, \"SAT_Grade_11_Score_School_Avg\": 770.0, \"College_Enrollment_Rate_School\": 63.4, \"School_Year\": \"2023-24\"}, {\"School_ID\": 610513, \"SAT_Grade_11_Score_School_Avg\": 866.0, \"College_Enrollment_Rate_School\": 50.0, \"School_Year\": \"2023-24\"}, {\"School_ID\": 610518, \"SAT_Grade_11_Score_School_Avg\": 759.0, \"College_Enrollment_Rate_School\": 30.0, \"School_Year\": \"2023-24\"}, {\"School_ID\": 610524, \"SAT_Grade_11_Score_School_Avg\": 872.0, \"College_Enrollment_Rate_School\": 76.4, \"School_Year\": \"2023-24\"}, {\"School_ID\": 610529, \"SAT_Grade_11_Score_School_Avg\": 914.0, \"College_Enrollment_Rate_School\": 81.5, \"School_Year\": \"2023-24\"}, {\"School_ID\": 610543, \"SAT_Grade_11_Score_School_Avg\": 944.0, \"College_Enrollment_Rate_School\": 68.9, \"School_Year\": \"2023-24\"}, {\"School_ID\": 610547, \"SAT_Grade_11_Score_School_Avg\": 893.0, \"College_Enrollment_Rate_School\": 73.7, \"School_Year\": \"2023-24\"}, {\"School_ID\": 610558, \"SAT_Grade_11_Score_School_Avg\": 836.0, \"College_Enrollment_Rate_School\": 59.2, \"School_Year\": \"2023-24\"}, {\"School_ID\": 610561, \"SAT_Grade_11_Score_School_Avg\": 845.0, \"College_Enrollment_Rate_School\": 75.5, \"School_Year\": \"2023-24\"}, {\"School_ID\": 610563, \"SAT_Grade_11_Score_School_Avg\": 949.0, \"College_Enrollment_Rate_School\": 79.7, \"School_Year\": \"2023-24\"}, {\"School_ID\": 610587, \"SAT_Grade_11_Score_School_Avg\": 823.0, \"College_Enrollment_Rate_School\": 56.8, \"School_Year\": \"2023-24\"}]}}, {\"mode\": \"vega-lite\"});\n",
              "</script>"
            ],
            "text/plain": [
              "alt.Chart(...)"
            ]
          },
          "metadata": {},
          "execution_count": 12
        }
      ]
    },
    {
      "cell_type": "markdown",
      "source": [
        "# Plot 6"
      ],
      "metadata": {
        "id": "p9DrLuJK1_PR"
      }
    },
    {
      "cell_type": "code",
      "source": [
        "# clean data\n",
        "cols_scores = [\"Family_Involvement_Score\", \"Environment Score\", \"Instruction Score\"]\n",
        "keep = [\"School_ID\", \"Student_Attendance_Avg\"] + cols_scores\n",
        "\n",
        "d = df_1112[keep].copy()\n",
        "\n",
        "for c in cols_scores + [\"Student_Attendance_Avg\"]:\n",
        "    d[c] = pd.to_numeric(d[c], errors=\"coerce\")\n",
        "\n",
        "long = (d.melt(id_vars=[\"School_ID\", \"Student_Attendance_Avg\"],\n",
        "           value_vars=cols_scores,\n",
        "           var_name=\"Domain\", value_name=\"Score\")\n",
        "     .dropna(subset=[\"Score\", \"Student_Attendance_Avg\"]))\n",
        "\n",
        "# labels\n",
        "long[\"Domain\"] = long[\"Domain\"].map({\n",
        "    \"Family_Involvement_Score\": \"Family Involvement\",\n",
        "    \"Environment Score\": \"Environment\",\n",
        "    \"Instruction Score\": \"Instruction\"})\n",
        "\n",
        "# color\n",
        "domain = [\"Family Involvement\", \"Environment\", \"Instruction\"]\n",
        "palette = [\"#1b9e77\", \"#80b1d3\", \"#fb9a99\"]\n",
        "\n",
        "# plot\n",
        "scatter = (alt.Chart(long)\n",
        "      .mark_circle(size=60, opacity=0.7)\n",
        "      .encode(\n",
        "          x=alt.X(\"Score:Q\", title=\"Evaluation Score\",\n",
        "                  scale=alt.Scale(domain=[0, 100])),\n",
        "          y=alt.Y(\"Student_Attendance_Avg:Q\", title=\"Student Attendance (%)\",\n",
        "                  scale=alt.Scale(domain=[60, 100])),\n",
        "          color=alt.Color(\"Domain:N\", title=\"Score\",\n",
        "                          scale=alt.Scale(domain=domain, range=palette))\n",
        "      ))\n",
        "\n",
        "# fit lines\n",
        "trend = (alt.Chart(long)\n",
        "      .transform_regression(\"Score\", \"Student_Attendance_Avg\", groupby=[\"Domain\"])\n",
        "      .mark_line(size=2)\n",
        "      .encode(x=\"Score:Q\", y=\"Student_Attendance_Avg:Q\",\n",
        "          color=alt.Color(\"Domain:N\", scale=alt.Scale(domain=domain, range=palette))))\n",
        "\n",
        "plot6 = (scatter + trend).properties(\n",
        "    width=560,\n",
        "    height=380,\n",
        "    title=alt.TitleParams(text=\"Influential Factors towards Students' Attendance Rate\", fontSize=16))\n",
        "\n",
        "plot6.save(\"plot6.svg\")\n",
        "\n",
        "plot6"
      ],
      "metadata": {
        "colab": {
          "base_uri": "https://localhost:8080/",
          "height": 631
        },
        "id": "zWClssNUqaWr",
        "outputId": "2557a8ab-1fa1-4810-95cc-aa778256d353"
      },
      "execution_count": 13,
      "outputs": [
        {
          "output_type": "stream",
          "name": "stderr",
          "text": [
            "/usr/local/lib/python3.12/dist-packages/altair/utils/data.py:71: UserWarning: You passed a `<class 'narwhals.stable.v1.DataFrame'>` to `is_pandas_dataframe`.\n",
            "\n",
            "Hint: Instead of e.g. `is_pandas_dataframe(df)`, did you mean `is_pandas_dataframe(df.to_native())`?\n",
            "  return _is_pandas_dataframe(obj) or isinstance(\n",
            "/usr/local/lib/python3.12/dist-packages/altair/utils/data.py:71: UserWarning: You passed a `<class 'narwhals.stable.v1.DataFrame'>` to `is_pandas_dataframe`.\n",
            "\n",
            "Hint: Instead of e.g. `is_pandas_dataframe(df)`, did you mean `is_pandas_dataframe(df.to_native())`?\n",
            "  return _is_pandas_dataframe(obj) or isinstance(\n"
          ]
        },
        {
          "output_type": "execute_result",
          "data": {
            "text/html": [
              "\n",
              "<style>\n",
              "  #altair-viz-e0695f2e8dd54bdeb110465c23e75e7c.vega-embed {\n",
              "    width: 100%;\n",
              "    display: flex;\n",
              "  }\n",
              "\n",
              "  #altair-viz-e0695f2e8dd54bdeb110465c23e75e7c.vega-embed details,\n",
              "  #altair-viz-e0695f2e8dd54bdeb110465c23e75e7c.vega-embed details summary {\n",
              "    position: relative;\n",
              "  }\n",
              "</style>\n",
              "<div id=\"altair-viz-e0695f2e8dd54bdeb110465c23e75e7c\"></div>\n",
              "<script type=\"text/javascript\">\n",
              "  var VEGA_DEBUG = (typeof VEGA_DEBUG == \"undefined\") ? {} : VEGA_DEBUG;\n",
              "  (function(spec, embedOpt){\n",
              "    let outputDiv = document.currentScript.previousElementSibling;\n",
              "    if (outputDiv.id !== \"altair-viz-e0695f2e8dd54bdeb110465c23e75e7c\") {\n",
              "      outputDiv = document.getElementById(\"altair-viz-e0695f2e8dd54bdeb110465c23e75e7c\");\n",
              "    }\n",
              "    const paths = {\n",
              "      \"vega\": \"https://cdn.jsdelivr.net/npm/vega@5?noext\",\n",
              "      \"vega-lib\": \"https://cdn.jsdelivr.net/npm/vega-lib?noext\",\n",
              "      \"vega-lite\": \"https://cdn.jsdelivr.net/npm/vega-lite@5.20.1?noext\",\n",
              "      \"vega-embed\": \"https://cdn.jsdelivr.net/npm/vega-embed@6?noext\",\n",
              "    };\n",
              "\n",
              "    function maybeLoadScript(lib, version) {\n",
              "      var key = `${lib.replace(\"-\", \"\")}_version`;\n",
              "      return (VEGA_DEBUG[key] == version) ?\n",
              "        Promise.resolve(paths[lib]) :\n",
              "        new Promise(function(resolve, reject) {\n",
              "          var s = document.createElement('script');\n",
              "          document.getElementsByTagName(\"head\")[0].appendChild(s);\n",
              "          s.async = true;\n",
              "          s.onload = () => {\n",
              "            VEGA_DEBUG[key] = version;\n",
              "            return resolve(paths[lib]);\n",
              "          };\n",
              "          s.onerror = () => reject(`Error loading script: ${paths[lib]}`);\n",
              "          s.src = paths[lib];\n",
              "        });\n",
              "    }\n",
              "\n",
              "    function showError(err) {\n",
              "      outputDiv.innerHTML = `<div class=\"error\" style=\"color:red;\">${err}</div>`;\n",
              "      throw err;\n",
              "    }\n",
              "\n",
              "    function displayChart(vegaEmbed) {\n",
              "      vegaEmbed(outputDiv, spec, embedOpt)\n",
              "        .catch(err => showError(`Javascript Error: ${err.message}<br>This usually means there's a typo in your chart specification. See the javascript console for the full traceback.`));\n",
              "    }\n",
              "\n",
              "    if(typeof define === \"function\" && define.amd) {\n",
              "      requirejs.config({paths});\n",
              "      require([\"vega-embed\"], displayChart, err => showError(`Error loading script: ${err.message}`));\n",
              "    } else {\n",
              "      maybeLoadScript(\"vega\", \"5\")\n",
              "        .then(() => maybeLoadScript(\"vega-lite\", \"5.20.1\"))\n",
              "        .then(() => maybeLoadScript(\"vega-embed\", \"6\"))\n",
              "        .catch(showError)\n",
              "        .then(() => displayChart(vegaEmbed));\n",
              "    }\n",
              "  })({\"config\": {\"view\": {\"continuousWidth\": 300, \"continuousHeight\": 300}}, \"layer\": [{\"mark\": {\"type\": \"circle\", \"opacity\": 0.7, \"size\": 60}, \"encoding\": {\"color\": {\"field\": \"Domain\", \"scale\": {\"domain\": [\"Family Involvement\", \"Environment\", \"Instruction\"], \"range\": [\"#1b9e77\", \"#80b1d3\", \"#fb9a99\"]}, \"title\": \"Score\", \"type\": \"nominal\"}, \"x\": {\"field\": \"Score\", \"scale\": {\"domain\": [0, 100]}, \"title\": \"Evaluation Score\", \"type\": \"quantitative\"}, \"y\": {\"field\": \"Student_Attendance_Avg\", \"scale\": {\"domain\": [60, 100]}, \"title\": \"Student Attendance (%)\", \"type\": \"quantitative\"}}}, {\"mark\": {\"type\": \"line\", \"size\": 2}, \"encoding\": {\"color\": {\"field\": \"Domain\", \"scale\": {\"domain\": [\"Family Involvement\", \"Environment\", \"Instruction\"], \"range\": [\"#1b9e77\", \"#80b1d3\", \"#fb9a99\"]}, \"type\": \"nominal\"}, \"x\": {\"field\": \"Score\", \"type\": \"quantitative\"}, \"y\": {\"field\": \"Student_Attendance_Avg\", \"type\": \"quantitative\"}}, \"transform\": [{\"on\": \"Score\", \"regression\": \"Student_Attendance_Avg\", \"groupby\": [\"Domain\"]}]}], \"data\": {\"name\": \"data-43971d8522a3fa5ad0c7d1c01dc7484a\"}, \"height\": 380, \"title\": {\"text\": \"Influential Factors towards Students' Attendance Rate\", \"fontSize\": 16}, \"width\": 560, \"$schema\": \"https://vega.github.io/schema/vega-lite/v5.20.1.json\", \"datasets\": {\"data-43971d8522a3fa5ad0c7d1c01dc7484a\": [{\"School_ID\": 609674, \"Student_Attendance_Avg\": 68.8, \"Domain\": \"Family Involvement\", \"Score\": 43.0}, {\"School_ID\": 609676, \"Student_Attendance_Avg\": 76.9, \"Domain\": \"Family Involvement\", \"Score\": 57.0}, {\"School_ID\": 609679, \"Student_Attendance_Avg\": 86.0, \"Domain\": \"Family Involvement\", \"Score\": 47.0}, {\"School_ID\": 609682, \"Student_Attendance_Avg\": 90.6, \"Domain\": \"Family Involvement\", \"Score\": 23.0}, {\"School_ID\": 609693, \"Student_Attendance_Avg\": 93.6, \"Domain\": \"Family Involvement\", \"Score\": 72.0}, {\"School_ID\": 609694, \"Student_Attendance_Avg\": 78.2, \"Domain\": \"Family Involvement\", \"Score\": 44.0}, {\"School_ID\": 609695, \"Student_Attendance_Avg\": 81.1, \"Domain\": \"Family Involvement\", \"Score\": 44.0}, {\"School_ID\": 609705, \"Student_Attendance_Avg\": 74.4, \"Domain\": \"Family Involvement\", \"Score\": 28.0}, {\"School_ID\": 609709, \"Student_Attendance_Avg\": 72.5, \"Domain\": \"Family Involvement\", \"Score\": 43.0}, {\"School_ID\": 609711, \"Student_Attendance_Avg\": 73.0, \"Domain\": \"Family Involvement\", \"Score\": 32.0}, {\"School_ID\": 609712, \"Student_Attendance_Avg\": 84.8, \"Domain\": \"Family Involvement\", \"Score\": 46.0}, {\"School_ID\": 609713, \"Student_Attendance_Avg\": 70.5, \"Domain\": \"Family Involvement\", \"Score\": 39.0}, {\"School_ID\": 609715, \"Student_Attendance_Avg\": 89.3, \"Domain\": \"Family Involvement\", \"Score\": 53.0}, {\"School_ID\": 609718, \"Student_Attendance_Avg\": 83.0, \"Domain\": \"Family Involvement\", \"Score\": 30.0}, {\"School_ID\": 609722, \"Student_Attendance_Avg\": 66.8, \"Domain\": \"Family Involvement\", \"Score\": 39.0}, {\"School_ID\": 609723, \"Student_Attendance_Avg\": 74.1, \"Domain\": \"Family Involvement\", \"Score\": 52.0}, {\"School_ID\": 609724, \"Student_Attendance_Avg\": 87.6, \"Domain\": \"Family Involvement\", \"Score\": 44.0}, {\"School_ID\": 609727, \"Student_Attendance_Avg\": 63.0, \"Domain\": \"Family Involvement\", \"Score\": 71.0}, {\"School_ID\": 609729, \"Student_Attendance_Avg\": 81.2, \"Domain\": \"Family Involvement\", \"Score\": 36.0}, {\"School_ID\": 609732, \"Student_Attendance_Avg\": 79.2, \"Domain\": \"Family Involvement\", \"Score\": 35.0}, {\"School_ID\": 609733, \"Student_Attendance_Avg\": 81.6, \"Domain\": \"Family Involvement\", \"Score\": 44.0}, {\"School_ID\": 609735, \"Student_Attendance_Avg\": 78.4, \"Domain\": \"Family Involvement\", \"Score\": 57.0}, {\"School_ID\": 609737, \"Student_Attendance_Avg\": 87.0, \"Domain\": \"Family Involvement\", \"Score\": 39.0}, {\"School_ID\": 609738, \"Student_Attendance_Avg\": 84.6, \"Domain\": \"Family Involvement\", \"Score\": 61.0}, {\"School_ID\": 609739, \"Student_Attendance_Avg\": 80.2, \"Domain\": \"Family Involvement\", \"Score\": 53.0}, {\"School_ID\": 609740, \"Student_Attendance_Avg\": 74.1, \"Domain\": \"Family Involvement\", \"Score\": 49.0}, {\"School_ID\": 609744, \"Student_Attendance_Avg\": 89.8, \"Domain\": \"Family Involvement\", \"Score\": 99.0}, {\"School_ID\": 609745, \"Student_Attendance_Avg\": 85.5, \"Domain\": \"Family Involvement\", \"Score\": 52.0}, {\"School_ID\": 609753, \"Student_Attendance_Avg\": 92.8, \"Domain\": \"Family Involvement\", \"Score\": 77.0}, {\"School_ID\": 609756, \"Student_Attendance_Avg\": 85.0, \"Domain\": \"Family Involvement\", \"Score\": 35.0}, {\"School_ID\": 609759, \"Student_Attendance_Avg\": 69.6, \"Domain\": \"Family Involvement\", \"Score\": 31.0}, {\"School_ID\": 609761, \"Student_Attendance_Avg\": 71.3, \"Domain\": \"Family Involvement\", \"Score\": 52.0}, {\"School_ID\": 609762, \"Student_Attendance_Avg\": 74.6, \"Domain\": \"Family Involvement\", \"Score\": 50.0}, {\"School_ID\": 609764, \"Student_Attendance_Avg\": 83.7, \"Domain\": \"Family Involvement\", \"Score\": 53.0}, {\"School_ID\": 609766, \"Student_Attendance_Avg\": 87.6, \"Domain\": \"Family Involvement\", \"Score\": 72.0}, {\"School_ID\": 609768, \"Student_Attendance_Avg\": 72.2, \"Domain\": \"Family Involvement\", \"Score\": 51.0}, {\"School_ID\": 609769, \"Student_Attendance_Avg\": 86.3, \"Domain\": \"Family Involvement\", \"Score\": 82.0}, {\"School_ID\": 610323, \"Student_Attendance_Avg\": 75.6, \"Domain\": \"Family Involvement\", \"Score\": 23.0}, {\"School_ID\": 610340, \"Student_Attendance_Avg\": 93.1, \"Domain\": \"Family Involvement\", \"Score\": 35.0}, {\"School_ID\": 610381, \"Student_Attendance_Avg\": 92.3, \"Domain\": \"Family Involvement\", \"Score\": 38.0}, {\"School_ID\": 610383, \"Student_Attendance_Avg\": 87.5, \"Domain\": \"Family Involvement\", \"Score\": 72.0}, {\"School_ID\": 610392, \"Student_Attendance_Avg\": 91.6, \"Domain\": \"Family Involvement\", \"Score\": 33.0}, {\"School_ID\": 610394, \"Student_Attendance_Avg\": 88.7, \"Domain\": \"Family Involvement\", \"Score\": 50.0}, {\"School_ID\": 610499, \"Student_Attendance_Avg\": 91.4, \"Domain\": \"Family Involvement\", \"Score\": 42.0}, {\"School_ID\": 610513, \"Student_Attendance_Avg\": 93.3, \"Domain\": \"Family Involvement\", \"Score\": 60.0}, {\"School_ID\": 609674, \"Student_Attendance_Avg\": 68.8, \"Domain\": \"Environment\", \"Score\": 21.0}, {\"School_ID\": 609676, \"Student_Attendance_Avg\": 76.9, \"Domain\": \"Environment\", \"Score\": 31.0}, {\"School_ID\": 609678, \"Student_Attendance_Avg\": 93.8, \"Domain\": \"Environment\", \"Score\": 64.0}, {\"School_ID\": 609679, \"Student_Attendance_Avg\": 86.0, \"Domain\": \"Environment\", \"Score\": 53.0}, {\"School_ID\": 609680, \"Student_Attendance_Avg\": 93.4, \"Domain\": \"Environment\", \"Score\": 80.0}, {\"School_ID\": 609682, \"Student_Attendance_Avg\": 90.6, \"Domain\": \"Environment\", \"Score\": 32.0}, {\"School_ID\": 609691, \"Student_Attendance_Avg\": 88.6, \"Domain\": \"Environment\", \"Score\": 39.0}, {\"School_ID\": 609692, \"Student_Attendance_Avg\": 78.6, \"Domain\": \"Environment\", \"Score\": 33.0}, {\"School_ID\": 609693, \"Student_Attendance_Avg\": 93.6, \"Domain\": \"Environment\", \"Score\": 77.0}, {\"School_ID\": 609694, \"Student_Attendance_Avg\": 78.2, \"Domain\": \"Environment\", \"Score\": 44.0}, {\"School_ID\": 609695, \"Student_Attendance_Avg\": 81.1, \"Domain\": \"Environment\", \"Score\": 43.0}, {\"School_ID\": 609698, \"Student_Attendance_Avg\": 75.2, \"Domain\": \"Environment\", \"Score\": 18.0}, {\"School_ID\": 609704, \"Student_Attendance_Avg\": 86.1, \"Domain\": \"Environment\", \"Score\": 42.0}, {\"School_ID\": 609705, \"Student_Attendance_Avg\": 74.4, \"Domain\": \"Environment\", \"Score\": 41.0}, {\"School_ID\": 609708, \"Student_Attendance_Avg\": 84.3, \"Domain\": \"Environment\", \"Score\": 28.0}, {\"School_ID\": 609709, \"Student_Attendance_Avg\": 72.5, \"Domain\": \"Environment\", \"Score\": 29.0}, {\"School_ID\": 609711, \"Student_Attendance_Avg\": 73.0, \"Domain\": \"Environment\", \"Score\": 39.0}, {\"School_ID\": 609712, \"Student_Attendance_Avg\": 84.8, \"Domain\": \"Environment\", \"Score\": 28.0}, {\"School_ID\": 609713, \"Student_Attendance_Avg\": 70.5, \"Domain\": \"Environment\", \"Score\": 34.0}, {\"School_ID\": 609715, \"Student_Attendance_Avg\": 89.3, \"Domain\": \"Environment\", \"Score\": 36.0}, {\"School_ID\": 609718, \"Student_Attendance_Avg\": 83.0, \"Domain\": \"Environment\", \"Score\": 32.0}, {\"School_ID\": 609719, \"Student_Attendance_Avg\": 87.7, \"Domain\": \"Environment\", \"Score\": 52.0}, {\"School_ID\": 609722, \"Student_Attendance_Avg\": 66.8, \"Domain\": \"Environment\", \"Score\": 43.0}, {\"School_ID\": 609723, \"Student_Attendance_Avg\": 74.1, \"Domain\": \"Environment\", \"Score\": 45.0}, {\"School_ID\": 609724, \"Student_Attendance_Avg\": 87.6, \"Domain\": \"Environment\", \"Score\": 48.0}, {\"School_ID\": 609728, \"Student_Attendance_Avg\": 82.3, \"Domain\": \"Environment\", \"Score\": 42.0}, {\"School_ID\": 609729, \"Student_Attendance_Avg\": 81.2, \"Domain\": \"Environment\", \"Score\": 36.0}, {\"School_ID\": 609730, \"Student_Attendance_Avg\": 81.7, \"Domain\": \"Environment\", \"Score\": 45.0}, {\"School_ID\": 609732, \"Student_Attendance_Avg\": 79.2, \"Domain\": \"Environment\", \"Score\": 29.0}, {\"School_ID\": 609733, \"Student_Attendance_Avg\": 81.6, \"Domain\": \"Environment\", \"Score\": 34.0}, {\"School_ID\": 609735, \"Student_Attendance_Avg\": 78.4, \"Domain\": \"Environment\", \"Score\": 45.0}, {\"School_ID\": 609737, \"Student_Attendance_Avg\": 87.0, \"Domain\": \"Environment\", \"Score\": 42.0}, {\"School_ID\": 609738, \"Student_Attendance_Avg\": 84.6, \"Domain\": \"Environment\", \"Score\": 44.0}, {\"School_ID\": 609739, \"Student_Attendance_Avg\": 80.2, \"Domain\": \"Environment\", \"Score\": 36.0}, {\"School_ID\": 609740, \"Student_Attendance_Avg\": 74.1, \"Domain\": \"Environment\", \"Score\": 41.0}, {\"School_ID\": 609741, \"Student_Attendance_Avg\": 89.3, \"Domain\": \"Environment\", \"Score\": 34.0}, {\"School_ID\": 609744, \"Student_Attendance_Avg\": 89.8, \"Domain\": \"Environment\", \"Score\": 81.0}, {\"School_ID\": 609749, \"Student_Attendance_Avg\": 95.7, \"Domain\": \"Environment\", \"Score\": 99.0}, {\"School_ID\": 609753, \"Student_Attendance_Avg\": 92.8, \"Domain\": \"Environment\", \"Score\": 49.0}, {\"School_ID\": 609754, \"Student_Attendance_Avg\": 90.3, \"Domain\": \"Environment\", \"Score\": 23.0}, {\"School_ID\": 609756, \"Student_Attendance_Avg\": 85.0, \"Domain\": \"Environment\", \"Score\": 37.0}, {\"School_ID\": 609759, \"Student_Attendance_Avg\": 69.6, \"Domain\": \"Environment\", \"Score\": 39.0}, {\"School_ID\": 609760, \"Student_Attendance_Avg\": 91.6, \"Domain\": \"Environment\", \"Score\": 37.0}, {\"School_ID\": 609761, \"Student_Attendance_Avg\": 71.3, \"Domain\": \"Environment\", \"Score\": 40.0}, {\"School_ID\": 609762, \"Student_Attendance_Avg\": 74.6, \"Domain\": \"Environment\", \"Score\": 30.0}, {\"School_ID\": 609764, \"Student_Attendance_Avg\": 83.7, \"Domain\": \"Environment\", \"Score\": 44.0}, {\"School_ID\": 609766, \"Student_Attendance_Avg\": 87.6, \"Domain\": \"Environment\", \"Score\": 33.0}, {\"School_ID\": 609768, \"Student_Attendance_Avg\": 72.2, \"Domain\": \"Environment\", \"Score\": 37.0}, {\"School_ID\": 609769, \"Student_Attendance_Avg\": 86.3, \"Domain\": \"Environment\", \"Score\": 52.0}, {\"School_ID\": 610245, \"Student_Attendance_Avg\": 79.2, \"Domain\": \"Environment\", \"Score\": 39.0}, {\"School_ID\": 610304, \"Student_Attendance_Avg\": 92.1, \"Domain\": \"Environment\", \"Score\": 59.0}, {\"School_ID\": 610323, \"Student_Attendance_Avg\": 75.6, \"Domain\": \"Environment\", \"Score\": 37.0}, {\"School_ID\": 610334, \"Student_Attendance_Avg\": 80.3, \"Domain\": \"Environment\", \"Score\": 51.0}, {\"School_ID\": 610340, \"Student_Attendance_Avg\": 93.1, \"Domain\": \"Environment\", \"Score\": 57.0}, {\"School_ID\": 610357, \"Student_Attendance_Avg\": 95.6, \"Domain\": \"Environment\", \"Score\": 92.0}, {\"School_ID\": 610380, \"Student_Attendance_Avg\": 91.3, \"Domain\": \"Environment\", \"Score\": 45.0}, {\"School_ID\": 610381, \"Student_Attendance_Avg\": 92.3, \"Domain\": \"Environment\", \"Score\": 42.0}, {\"School_ID\": 610383, \"Student_Attendance_Avg\": 87.5, \"Domain\": \"Environment\", \"Score\": 46.0}, {\"School_ID\": 610384, \"Student_Attendance_Avg\": 92.2, \"Domain\": \"Environment\", \"Score\": 66.0}, {\"School_ID\": 610385, \"Student_Attendance_Avg\": 89.2, \"Domain\": \"Environment\", \"Score\": 47.0}, {\"School_ID\": 610390, \"Student_Attendance_Avg\": 92.9, \"Domain\": \"Environment\", \"Score\": 64.0}, {\"School_ID\": 610392, \"Student_Attendance_Avg\": 91.6, \"Domain\": \"Environment\", \"Score\": 49.0}, {\"School_ID\": 610394, \"Student_Attendance_Avg\": 88.7, \"Domain\": \"Environment\", \"Score\": 61.0}, {\"School_ID\": 610499, \"Student_Attendance_Avg\": 91.4, \"Domain\": \"Environment\", \"Score\": 51.0}, {\"School_ID\": 610513, \"Student_Attendance_Avg\": 93.3, \"Domain\": \"Environment\", \"Score\": 60.0}, {\"School_ID\": 610518, \"Student_Attendance_Avg\": 84.5, \"Domain\": \"Environment\", \"Score\": 52.0}, {\"School_ID\": 610524, \"Student_Attendance_Avg\": 92.7, \"Domain\": \"Environment\", \"Score\": 67.0}, {\"School_ID\": 609674, \"Student_Attendance_Avg\": 68.8, \"Domain\": \"Instruction\", \"Score\": 30.0}, {\"School_ID\": 609676, \"Student_Attendance_Avg\": 76.9, \"Domain\": \"Instruction\", \"Score\": 37.0}, {\"School_ID\": 609678, \"Student_Attendance_Avg\": 93.8, \"Domain\": \"Instruction\", \"Score\": 67.0}, {\"School_ID\": 609679, \"Student_Attendance_Avg\": 86.0, \"Domain\": \"Instruction\", \"Score\": 51.0}, {\"School_ID\": 609680, \"Student_Attendance_Avg\": 93.4, \"Domain\": \"Instruction\", \"Score\": 77.0}, {\"School_ID\": 609682, \"Student_Attendance_Avg\": 90.6, \"Domain\": \"Instruction\", \"Score\": 19.0}, {\"School_ID\": 609691, \"Student_Attendance_Avg\": 88.6, \"Domain\": \"Instruction\", \"Score\": 25.0}, {\"School_ID\": 609692, \"Student_Attendance_Avg\": 78.6, \"Domain\": \"Instruction\", \"Score\": 42.0}, {\"School_ID\": 609693, \"Student_Attendance_Avg\": 93.6, \"Domain\": \"Instruction\", \"Score\": 80.0}, {\"School_ID\": 609694, \"Student_Attendance_Avg\": 78.2, \"Domain\": \"Instruction\", \"Score\": 41.0}, {\"School_ID\": 609695, \"Student_Attendance_Avg\": 81.1, \"Domain\": \"Instruction\", \"Score\": 42.0}, {\"School_ID\": 609698, \"Student_Attendance_Avg\": 75.2, \"Domain\": \"Instruction\", \"Score\": 29.0}, {\"School_ID\": 609704, \"Student_Attendance_Avg\": 86.1, \"Domain\": \"Instruction\", \"Score\": 32.0}, {\"School_ID\": 609705, \"Student_Attendance_Avg\": 74.4, \"Domain\": \"Instruction\", \"Score\": 32.0}, {\"School_ID\": 609708, \"Student_Attendance_Avg\": 84.3, \"Domain\": \"Instruction\", \"Score\": 23.0}, {\"School_ID\": 609709, \"Student_Attendance_Avg\": 72.5, \"Domain\": \"Instruction\", \"Score\": 37.0}, {\"School_ID\": 609711, \"Student_Attendance_Avg\": 73.0, \"Domain\": \"Instruction\", \"Score\": 42.0}, {\"School_ID\": 609712, \"Student_Attendance_Avg\": 84.8, \"Domain\": \"Instruction\", \"Score\": 28.0}, {\"School_ID\": 609713, \"Student_Attendance_Avg\": 70.5, \"Domain\": \"Instruction\", \"Score\": 43.0}, {\"School_ID\": 609715, \"Student_Attendance_Avg\": 89.3, \"Domain\": \"Instruction\", \"Score\": 35.0}, {\"School_ID\": 609718, \"Student_Attendance_Avg\": 83.0, \"Domain\": \"Instruction\", \"Score\": 27.0}, {\"School_ID\": 609719, \"Student_Attendance_Avg\": 87.7, \"Domain\": \"Instruction\", \"Score\": 43.0}, {\"School_ID\": 609722, \"Student_Attendance_Avg\": 66.8, \"Domain\": \"Instruction\", \"Score\": 31.0}, {\"School_ID\": 609723, \"Student_Attendance_Avg\": 74.1, \"Domain\": \"Instruction\", \"Score\": 46.0}, {\"School_ID\": 609724, \"Student_Attendance_Avg\": 87.6, \"Domain\": \"Instruction\", \"Score\": 47.0}, {\"School_ID\": 609728, \"Student_Attendance_Avg\": 82.3, \"Domain\": \"Instruction\", \"Score\": 37.0}, {\"School_ID\": 609729, \"Student_Attendance_Avg\": 81.2, \"Domain\": \"Instruction\", \"Score\": 29.0}, {\"School_ID\": 609730, \"Student_Attendance_Avg\": 81.7, \"Domain\": \"Instruction\", \"Score\": 42.0}, {\"School_ID\": 609732, \"Student_Attendance_Avg\": 79.2, \"Domain\": \"Instruction\", \"Score\": 34.0}, {\"School_ID\": 609733, \"Student_Attendance_Avg\": 81.6, \"Domain\": \"Instruction\", \"Score\": 34.0}, {\"School_ID\": 609735, \"Student_Attendance_Avg\": 78.4, \"Domain\": \"Instruction\", \"Score\": 37.0}, {\"School_ID\": 609737, \"Student_Attendance_Avg\": 87.0, \"Domain\": \"Instruction\", \"Score\": 51.0}, {\"School_ID\": 609738, \"Student_Attendance_Avg\": 84.6, \"Domain\": \"Instruction\", \"Score\": 49.0}, {\"School_ID\": 609739, \"Student_Attendance_Avg\": 80.2, \"Domain\": \"Instruction\", \"Score\": 36.0}, {\"School_ID\": 609740, \"Student_Attendance_Avg\": 74.1, \"Domain\": \"Instruction\", \"Score\": 38.0}, {\"School_ID\": 609741, \"Student_Attendance_Avg\": 89.3, \"Domain\": \"Instruction\", \"Score\": 29.0}, {\"School_ID\": 609744, \"Student_Attendance_Avg\": 89.8, \"Domain\": \"Instruction\", \"Score\": 34.0}, {\"School_ID\": 609749, \"Student_Attendance_Avg\": 95.7, \"Domain\": \"Instruction\", \"Score\": 88.0}, {\"School_ID\": 609753, \"Student_Attendance_Avg\": 92.8, \"Domain\": \"Instruction\", \"Score\": 47.0}, {\"School_ID\": 609754, \"Student_Attendance_Avg\": 90.3, \"Domain\": \"Instruction\", \"Score\": 35.0}, {\"School_ID\": 609756, \"Student_Attendance_Avg\": 85.0, \"Domain\": \"Instruction\", \"Score\": 45.0}, {\"School_ID\": 609759, \"Student_Attendance_Avg\": 69.6, \"Domain\": \"Instruction\", \"Score\": 34.0}, {\"School_ID\": 609760, \"Student_Attendance_Avg\": 91.6, \"Domain\": \"Instruction\", \"Score\": 34.0}, {\"School_ID\": 609761, \"Student_Attendance_Avg\": 71.3, \"Domain\": \"Instruction\", \"Score\": 48.0}, {\"School_ID\": 609762, \"Student_Attendance_Avg\": 74.6, \"Domain\": \"Instruction\", \"Score\": 35.0}, {\"School_ID\": 609764, \"Student_Attendance_Avg\": 83.7, \"Domain\": \"Instruction\", \"Score\": 45.0}, {\"School_ID\": 609766, \"Student_Attendance_Avg\": 87.6, \"Domain\": \"Instruction\", \"Score\": 20.0}, {\"School_ID\": 609768, \"Student_Attendance_Avg\": 72.2, \"Domain\": \"Instruction\", \"Score\": 44.0}, {\"School_ID\": 609769, \"Student_Attendance_Avg\": 86.3, \"Domain\": \"Instruction\", \"Score\": 39.0}, {\"School_ID\": 610245, \"Student_Attendance_Avg\": 79.2, \"Domain\": \"Instruction\", \"Score\": 37.0}, {\"School_ID\": 610304, \"Student_Attendance_Avg\": 92.1, \"Domain\": \"Instruction\", \"Score\": 78.0}, {\"School_ID\": 610323, \"Student_Attendance_Avg\": 75.6, \"Domain\": \"Instruction\", \"Score\": 25.0}, {\"School_ID\": 610334, \"Student_Attendance_Avg\": 80.3, \"Domain\": \"Instruction\", \"Score\": 53.0}, {\"School_ID\": 610340, \"Student_Attendance_Avg\": 93.1, \"Domain\": \"Instruction\", \"Score\": 53.0}, {\"School_ID\": 610357, \"Student_Attendance_Avg\": 95.6, \"Domain\": \"Instruction\", \"Score\": 87.0}, {\"School_ID\": 610380, \"Student_Attendance_Avg\": 91.3, \"Domain\": \"Instruction\", \"Score\": 54.0}, {\"School_ID\": 610381, \"Student_Attendance_Avg\": 92.3, \"Domain\": \"Instruction\", \"Score\": 43.0}, {\"School_ID\": 610383, \"Student_Attendance_Avg\": 87.5, \"Domain\": \"Instruction\", \"Score\": 44.0}, {\"School_ID\": 610384, \"Student_Attendance_Avg\": 92.2, \"Domain\": \"Instruction\", \"Score\": 65.0}, {\"School_ID\": 610385, \"Student_Attendance_Avg\": 89.2, \"Domain\": \"Instruction\", \"Score\": 42.0}, {\"School_ID\": 610390, \"Student_Attendance_Avg\": 92.9, \"Domain\": \"Instruction\", \"Score\": 42.0}, {\"School_ID\": 610392, \"Student_Attendance_Avg\": 91.6, \"Domain\": \"Instruction\", \"Score\": 47.0}, {\"School_ID\": 610394, \"Student_Attendance_Avg\": 88.7, \"Domain\": \"Instruction\", \"Score\": 62.0}, {\"School_ID\": 610499, \"Student_Attendance_Avg\": 91.4, \"Domain\": \"Instruction\", \"Score\": 46.0}, {\"School_ID\": 610513, \"Student_Attendance_Avg\": 93.3, \"Domain\": \"Instruction\", \"Score\": 55.0}, {\"School_ID\": 610518, \"Student_Attendance_Avg\": 84.5, \"Domain\": \"Instruction\", \"Score\": 52.0}, {\"School_ID\": 610524, \"Student_Attendance_Avg\": 92.7, \"Domain\": \"Instruction\", \"Score\": 51.0}]}}, {\"mode\": \"vega-lite\"});\n",
              "</script>"
            ],
            "text/plain": [
              "alt.LayerChart(...)"
            ]
          },
          "metadata": {},
          "execution_count": 13
        }
      ]
    },
    {
      "cell_type": "markdown",
      "source": [
        "# Plot 7 & 8"
      ],
      "metadata": {
        "id": "YWgtPsHAGiSZ"
      }
    },
    {
      "cell_type": "code",
      "source": [
        "### OptionA\n",
        "# clean data & build dataframe\n",
        "def prep_creative(df, year_label):\n",
        "    d = df[[\"School_ID\", \"Creative_School_Certification\"]].copy()\n",
        "    d[\"Creative_School_Certification\"] = (\n",
        "        d[\"Creative_School_Certification\"]\n",
        "        .astype(str)\n",
        "        .str.strip()\n",
        "        .str.upper())\n",
        "    d = d[~d[\"Creative_School_Certification\"].isin([\"NDA\", \"NOT ENOUGH DATA\", \"INCOMPELET DATA\"])]\n",
        "    d = d.dropna(subset=[\"Creative_School_Certification\"])\n",
        "    d[\"School_Year\"] = year_label\n",
        "    return d\n",
        "\n",
        "df_1819_ldr = prep_creative(df_1819, \"2018-19\")\n",
        "df_2324_ldr = prep_creative(df_2324, \"2023-24\")\n",
        "\n",
        "combined = pd.concat([df_1819_ldr, df_2324_ldr], ignore_index=True)\n",
        "\n",
        "summary = (combined\n",
        "    .groupby([\"School_Year\", \"Creative_School_Certification\"])\n",
        "    .size()\n",
        "    .reset_index(name=\"Count\"))\n",
        "\n",
        "summary[\"Pct\"] = summary.groupby(\"School_Year\")[\"Count\"].transform(lambda x: x / x.sum() * 100)\n",
        "\n",
        "level_order = [\"EMERGING\", \"DEVELOPING\", \"STRONG\", \"EXCELLING\"]\n",
        "summary = summary[summary[\"Creative_School_Certification\"].isin(level_order)]"
      ],
      "metadata": {
        "id": "TMmgkMENGkTk"
      },
      "execution_count": 14,
      "outputs": []
    },
    {
      "cell_type": "code",
      "source": [
        "# plot\n",
        "line = (alt.Chart(summary)\n",
        "      .transform_filter(alt.FieldOneOfPredicate(field=\"Creative_School_Certification\", oneOf=level_order))\n",
        "      .encode(\n",
        "          x=alt.X(\"School_Year:N\", sort=year_order, title=None, axis=alt.Axis(labelAngle=0)),\n",
        "          y=alt.Y(\"Pct:Q\", title=\"Percentage of Schools (%)\"),\n",
        "          color=alt.Color(\"Creative_School_Certification:N\",\n",
        "                          title=\"Creativity Level\",\n",
        "                          sort=level_order,\n",
        "                          scale=alt.Scale(range=[\"#b8e3b0\",\"#78c679\",\"#31a354\",\"#006d2c\"])),\n",
        "          detail=\"Creative_School_Certification:N\"))\n",
        "\n",
        "line_chart = (line.mark_line(point=True, strokeWidth=2)\n",
        "    .properties(title=\"Creativity Shift across Years\", width=420, height=360))\n",
        "\n",
        "line_chart.save(\"plot7.svg\")\n",
        "\n",
        "line_chart"
      ],
      "metadata": {
        "colab": {
          "base_uri": "https://localhost:8080/",
          "height": 593
        },
        "id": "fhvr2vaH5yZ6",
        "outputId": "a9fe9bea-f554-481a-c6c0-7cb092ae0ca6"
      },
      "execution_count": 15,
      "outputs": [
        {
          "output_type": "stream",
          "name": "stderr",
          "text": [
            "/usr/local/lib/python3.12/dist-packages/altair/utils/data.py:71: UserWarning: You passed a `<class 'narwhals.stable.v1.DataFrame'>` to `is_pandas_dataframe`.\n",
            "\n",
            "Hint: Instead of e.g. `is_pandas_dataframe(df)`, did you mean `is_pandas_dataframe(df.to_native())`?\n",
            "  return _is_pandas_dataframe(obj) or isinstance(\n",
            "/usr/local/lib/python3.12/dist-packages/altair/utils/data.py:71: UserWarning: You passed a `<class 'narwhals.stable.v1.DataFrame'>` to `is_pandas_dataframe`.\n",
            "\n",
            "Hint: Instead of e.g. `is_pandas_dataframe(df)`, did you mean `is_pandas_dataframe(df.to_native())`?\n",
            "  return _is_pandas_dataframe(obj) or isinstance(\n"
          ]
        },
        {
          "output_type": "execute_result",
          "data": {
            "text/html": [
              "\n",
              "<style>\n",
              "  #altair-viz-0f9ac080076b423d886a3df00d0e6ef6.vega-embed {\n",
              "    width: 100%;\n",
              "    display: flex;\n",
              "  }\n",
              "\n",
              "  #altair-viz-0f9ac080076b423d886a3df00d0e6ef6.vega-embed details,\n",
              "  #altair-viz-0f9ac080076b423d886a3df00d0e6ef6.vega-embed details summary {\n",
              "    position: relative;\n",
              "  }\n",
              "</style>\n",
              "<div id=\"altair-viz-0f9ac080076b423d886a3df00d0e6ef6\"></div>\n",
              "<script type=\"text/javascript\">\n",
              "  var VEGA_DEBUG = (typeof VEGA_DEBUG == \"undefined\") ? {} : VEGA_DEBUG;\n",
              "  (function(spec, embedOpt){\n",
              "    let outputDiv = document.currentScript.previousElementSibling;\n",
              "    if (outputDiv.id !== \"altair-viz-0f9ac080076b423d886a3df00d0e6ef6\") {\n",
              "      outputDiv = document.getElementById(\"altair-viz-0f9ac080076b423d886a3df00d0e6ef6\");\n",
              "    }\n",
              "    const paths = {\n",
              "      \"vega\": \"https://cdn.jsdelivr.net/npm/vega@5?noext\",\n",
              "      \"vega-lib\": \"https://cdn.jsdelivr.net/npm/vega-lib?noext\",\n",
              "      \"vega-lite\": \"https://cdn.jsdelivr.net/npm/vega-lite@5.20.1?noext\",\n",
              "      \"vega-embed\": \"https://cdn.jsdelivr.net/npm/vega-embed@6?noext\",\n",
              "    };\n",
              "\n",
              "    function maybeLoadScript(lib, version) {\n",
              "      var key = `${lib.replace(\"-\", \"\")}_version`;\n",
              "      return (VEGA_DEBUG[key] == version) ?\n",
              "        Promise.resolve(paths[lib]) :\n",
              "        new Promise(function(resolve, reject) {\n",
              "          var s = document.createElement('script');\n",
              "          document.getElementsByTagName(\"head\")[0].appendChild(s);\n",
              "          s.async = true;\n",
              "          s.onload = () => {\n",
              "            VEGA_DEBUG[key] = version;\n",
              "            return resolve(paths[lib]);\n",
              "          };\n",
              "          s.onerror = () => reject(`Error loading script: ${paths[lib]}`);\n",
              "          s.src = paths[lib];\n",
              "        });\n",
              "    }\n",
              "\n",
              "    function showError(err) {\n",
              "      outputDiv.innerHTML = `<div class=\"error\" style=\"color:red;\">${err}</div>`;\n",
              "      throw err;\n",
              "    }\n",
              "\n",
              "    function displayChart(vegaEmbed) {\n",
              "      vegaEmbed(outputDiv, spec, embedOpt)\n",
              "        .catch(err => showError(`Javascript Error: ${err.message}<br>This usually means there's a typo in your chart specification. See the javascript console for the full traceback.`));\n",
              "    }\n",
              "\n",
              "    if(typeof define === \"function\" && define.amd) {\n",
              "      requirejs.config({paths});\n",
              "      require([\"vega-embed\"], displayChart, err => showError(`Error loading script: ${err.message}`));\n",
              "    } else {\n",
              "      maybeLoadScript(\"vega\", \"5\")\n",
              "        .then(() => maybeLoadScript(\"vega-lite\", \"5.20.1\"))\n",
              "        .then(() => maybeLoadScript(\"vega-embed\", \"6\"))\n",
              "        .catch(showError)\n",
              "        .then(() => displayChart(vegaEmbed));\n",
              "    }\n",
              "  })({\"config\": {\"view\": {\"continuousWidth\": 300, \"continuousHeight\": 300}}, \"data\": {\"name\": \"data-1503391b3e5d9054eb8d1581de2eb053\"}, \"mark\": {\"type\": \"line\", \"point\": true, \"strokeWidth\": 2}, \"encoding\": {\"color\": {\"field\": \"Creative_School_Certification\", \"scale\": {\"range\": [\"#b8e3b0\", \"#78c679\", \"#31a354\", \"#006d2c\"]}, \"sort\": [\"EMERGING\", \"DEVELOPING\", \"STRONG\", \"EXCELLING\"], \"title\": \"Creativity Level\", \"type\": \"nominal\"}, \"detail\": {\"field\": \"Creative_School_Certification\", \"type\": \"nominal\"}, \"x\": {\"axis\": {\"labelAngle\": 0}, \"field\": \"School_Year\", \"sort\": [\"2018-19\", \"2023-24\"], \"title\": null, \"type\": \"nominal\"}, \"y\": {\"field\": \"Pct\", \"title\": \"Percentage of Schools (%)\", \"type\": \"quantitative\"}}, \"height\": 360, \"title\": \"Creativity Shift across Years\", \"transform\": [{\"filter\": {\"field\": \"Creative_School_Certification\", \"oneOf\": [\"EMERGING\", \"DEVELOPING\", \"STRONG\", \"EXCELLING\"]}}], \"width\": 420, \"$schema\": \"https://vega.github.io/schema/vega-lite/v5.20.1.json\", \"datasets\": {\"data-1503391b3e5d9054eb8d1581de2eb053\": [{\"School_Year\": \"2018-19\", \"Creative_School_Certification\": \"DEVELOPING\", \"Count\": 18, \"Pct\": 22.22222222222222}, {\"School_Year\": \"2018-19\", \"Creative_School_Certification\": \"EMERGING\", \"Count\": 6, \"Pct\": 7.4074074074074066}, {\"School_Year\": \"2018-19\", \"Creative_School_Certification\": \"EXCELLING\", \"Count\": 31, \"Pct\": 38.2716049382716}, {\"School_Year\": \"2018-19\", \"Creative_School_Certification\": \"STRONG\", \"Count\": 26, \"Pct\": 32.098765432098766}, {\"School_Year\": \"2023-24\", \"Creative_School_Certification\": \"DEVELOPING\", \"Count\": 11, \"Pct\": 13.750000000000002}, {\"School_Year\": \"2023-24\", \"Creative_School_Certification\": \"EMERGING\", \"Count\": 2, \"Pct\": 2.5}, {\"School_Year\": \"2023-24\", \"Creative_School_Certification\": \"EXCELLING\", \"Count\": 33, \"Pct\": 41.25}, {\"School_Year\": \"2023-24\", \"Creative_School_Certification\": \"STRONG\", \"Count\": 33, \"Pct\": 41.25}]}}, {\"mode\": \"vega-lite\"});\n",
              "</script>"
            ],
            "text/plain": [
              "alt.Chart(...)"
            ]
          },
          "metadata": {},
          "execution_count": 15
        }
      ]
    },
    {
      "cell_type": "code",
      "source": [
        "### Option B\n",
        "# The stacked figure is brainstormed by ChatGPT.\n",
        "# I provided my previous option to ChatGPT and asked if there is any other way to visualize the same data.\n",
        "# I would adopt stacked bars if I only use current datasets without adding other longitudinal data.\n",
        "\n",
        "# clean data\n",
        "missing = {\"NDA\", \"NOT ENOUGH DATA\", \"INCOMPLETE DATA\"}\n",
        "level_order = [\"EXCELLING\", \"STRONG\", \"DEVELOPING\", \"EMERGING\"]\n",
        "combined = combined[combined[\"Creative_School_Certification\"].isin(level_order)].copy()\n",
        "rank_map = {\"EMERGING\":1, \"DEVELOPING\":2, \"STRONG\":3, \"EXCELLING\":4}\n",
        "combined[\"level_rank\"] = combined[\"Creative_School_Certification\"].map(rank_map)\n",
        "\n",
        "year_order = [\"2018-19\", \"2023-24\"]"
      ],
      "metadata": {
        "id": "FYh_OJ4Y9OwU"
      },
      "execution_count": 16,
      "outputs": []
    },
    {
      "cell_type": "code",
      "source": [
        "# plot\n",
        "stack = (alt.Chart(combined)\n",
        "      .mark_bar()\n",
        "      .encode(\n",
        "          x=alt.X(\"School_Year:N\", sort=year_order, title=None, axis=alt.Axis(labelAngle=0)),\n",
        "          y=alt.Y(\"count():Q\", stack=\"normalize\", axis=alt.Axis(format=\"%\", title=\"Share of Schools\")),\n",
        "          color=alt.Color(\"Creative_School_Certification:N\",\n",
        "              title=\"Creativity Certification\",\n",
        "              sort=[\"EMERGING\", \"DEVELOPING\", \"STRONG\", \"EXCELLING\"],\n",
        "              scale=alt.Scale(range=[\"#b8e3b0\", \"#78c679\", \"#31a354\", \"#006d2c\"])),\n",
        "          order=alt.Order(\"level_rank:Q\", sort=\"descending\"))\n",
        "      .properties(\n",
        "          title=\"Share of Schools by Creativity Level\", width=400, height=200)\n",
        "      .configure_view(strokeWidth=0)\n",
        "      .configure_axis(grid=False))\n",
        "\n",
        "stack.save(\"plot8.svg\")\n",
        "\n",
        "stack"
      ],
      "metadata": {
        "colab": {
          "base_uri": "https://localhost:8080/",
          "height": 433
        },
        "id": "HRpD_9GVADlg",
        "outputId": "d47d1422-fede-4604-e6be-80a2797b5895"
      },
      "execution_count": 17,
      "outputs": [
        {
          "output_type": "stream",
          "name": "stderr",
          "text": [
            "/usr/local/lib/python3.12/dist-packages/altair/utils/data.py:71: UserWarning: You passed a `<class 'narwhals.stable.v1.DataFrame'>` to `is_pandas_dataframe`.\n",
            "\n",
            "Hint: Instead of e.g. `is_pandas_dataframe(df)`, did you mean `is_pandas_dataframe(df.to_native())`?\n",
            "  return _is_pandas_dataframe(obj) or isinstance(\n",
            "/usr/local/lib/python3.12/dist-packages/altair/utils/data.py:71: UserWarning: You passed a `<class 'narwhals.stable.v1.DataFrame'>` to `is_pandas_dataframe`.\n",
            "\n",
            "Hint: Instead of e.g. `is_pandas_dataframe(df)`, did you mean `is_pandas_dataframe(df.to_native())`?\n",
            "  return _is_pandas_dataframe(obj) or isinstance(\n"
          ]
        },
        {
          "output_type": "execute_result",
          "data": {
            "text/html": [
              "\n",
              "<style>\n",
              "  #altair-viz-8afe27c0337f43f686f489b9bd5b2684.vega-embed {\n",
              "    width: 100%;\n",
              "    display: flex;\n",
              "  }\n",
              "\n",
              "  #altair-viz-8afe27c0337f43f686f489b9bd5b2684.vega-embed details,\n",
              "  #altair-viz-8afe27c0337f43f686f489b9bd5b2684.vega-embed details summary {\n",
              "    position: relative;\n",
              "  }\n",
              "</style>\n",
              "<div id=\"altair-viz-8afe27c0337f43f686f489b9bd5b2684\"></div>\n",
              "<script type=\"text/javascript\">\n",
              "  var VEGA_DEBUG = (typeof VEGA_DEBUG == \"undefined\") ? {} : VEGA_DEBUG;\n",
              "  (function(spec, embedOpt){\n",
              "    let outputDiv = document.currentScript.previousElementSibling;\n",
              "    if (outputDiv.id !== \"altair-viz-8afe27c0337f43f686f489b9bd5b2684\") {\n",
              "      outputDiv = document.getElementById(\"altair-viz-8afe27c0337f43f686f489b9bd5b2684\");\n",
              "    }\n",
              "    const paths = {\n",
              "      \"vega\": \"https://cdn.jsdelivr.net/npm/vega@5?noext\",\n",
              "      \"vega-lib\": \"https://cdn.jsdelivr.net/npm/vega-lib?noext\",\n",
              "      \"vega-lite\": \"https://cdn.jsdelivr.net/npm/vega-lite@5.20.1?noext\",\n",
              "      \"vega-embed\": \"https://cdn.jsdelivr.net/npm/vega-embed@6?noext\",\n",
              "    };\n",
              "\n",
              "    function maybeLoadScript(lib, version) {\n",
              "      var key = `${lib.replace(\"-\", \"\")}_version`;\n",
              "      return (VEGA_DEBUG[key] == version) ?\n",
              "        Promise.resolve(paths[lib]) :\n",
              "        new Promise(function(resolve, reject) {\n",
              "          var s = document.createElement('script');\n",
              "          document.getElementsByTagName(\"head\")[0].appendChild(s);\n",
              "          s.async = true;\n",
              "          s.onload = () => {\n",
              "            VEGA_DEBUG[key] = version;\n",
              "            return resolve(paths[lib]);\n",
              "          };\n",
              "          s.onerror = () => reject(`Error loading script: ${paths[lib]}`);\n",
              "          s.src = paths[lib];\n",
              "        });\n",
              "    }\n",
              "\n",
              "    function showError(err) {\n",
              "      outputDiv.innerHTML = `<div class=\"error\" style=\"color:red;\">${err}</div>`;\n",
              "      throw err;\n",
              "    }\n",
              "\n",
              "    function displayChart(vegaEmbed) {\n",
              "      vegaEmbed(outputDiv, spec, embedOpt)\n",
              "        .catch(err => showError(`Javascript Error: ${err.message}<br>This usually means there's a typo in your chart specification. See the javascript console for the full traceback.`));\n",
              "    }\n",
              "\n",
              "    if(typeof define === \"function\" && define.amd) {\n",
              "      requirejs.config({paths});\n",
              "      require([\"vega-embed\"], displayChart, err => showError(`Error loading script: ${err.message}`));\n",
              "    } else {\n",
              "      maybeLoadScript(\"vega\", \"5\")\n",
              "        .then(() => maybeLoadScript(\"vega-lite\", \"5.20.1\"))\n",
              "        .then(() => maybeLoadScript(\"vega-embed\", \"6\"))\n",
              "        .catch(showError)\n",
              "        .then(() => displayChart(vegaEmbed));\n",
              "    }\n",
              "  })({\"config\": {\"view\": {\"continuousWidth\": 300, \"continuousHeight\": 300, \"strokeWidth\": 0}, \"axis\": {\"grid\": false}}, \"data\": {\"name\": \"data-93d9ca9b4737b50a7db024c7be130802\"}, \"mark\": {\"type\": \"bar\"}, \"encoding\": {\"color\": {\"field\": \"Creative_School_Certification\", \"scale\": {\"range\": [\"#b8e3b0\", \"#78c679\", \"#31a354\", \"#006d2c\"]}, \"sort\": [\"EMERGING\", \"DEVELOPING\", \"STRONG\", \"EXCELLING\"], \"title\": \"Creativity Certification\", \"type\": \"nominal\"}, \"order\": {\"field\": \"level_rank\", \"sort\": \"descending\", \"type\": \"quantitative\"}, \"x\": {\"axis\": {\"labelAngle\": 0}, \"field\": \"School_Year\", \"sort\": [\"2018-19\", \"2023-24\"], \"title\": null, \"type\": \"nominal\"}, \"y\": {\"aggregate\": \"count\", \"axis\": {\"format\": \"%\", \"title\": \"Share of Schools\"}, \"stack\": \"normalize\", \"type\": \"quantitative\"}}, \"height\": 200, \"title\": \"Share of Schools by Creativity Level\", \"width\": 400, \"$schema\": \"https://vega.github.io/schema/vega-lite/v5.20.1.json\", \"datasets\": {\"data-93d9ca9b4737b50a7db024c7be130802\": [{\"School_ID\": 609674, \"Creative_School_Certification\": \"EMERGING\", \"School_Year\": \"2018-19\", \"level_rank\": 1}, {\"School_ID\": 609676, \"Creative_School_Certification\": \"EMERGING\", \"School_Year\": \"2018-19\", \"level_rank\": 1}, {\"School_ID\": 609678, \"Creative_School_Certification\": \"EXCELLING\", \"School_Year\": \"2018-19\", \"level_rank\": 4}, {\"School_ID\": 609679, \"Creative_School_Certification\": \"STRONG\", \"School_Year\": \"2018-19\", \"level_rank\": 3}, {\"School_ID\": 609680, \"Creative_School_Certification\": \"EXCELLING\", \"School_Year\": \"2018-19\", \"level_rank\": 4}, {\"School_ID\": 609682, \"Creative_School_Certification\": \"DEVELOPING\", \"School_Year\": \"2018-19\", \"level_rank\": 2}, {\"School_ID\": 609691, \"Creative_School_Certification\": \"STRONG\", \"School_Year\": \"2018-19\", \"level_rank\": 3}, {\"School_ID\": 609692, \"Creative_School_Certification\": \"STRONG\", \"School_Year\": \"2018-19\", \"level_rank\": 3}, {\"School_ID\": 609693, \"Creative_School_Certification\": \"EXCELLING\", \"School_Year\": \"2018-19\", \"level_rank\": 4}, {\"School_ID\": 609694, \"Creative_School_Certification\": \"EXCELLING\", \"School_Year\": \"2018-19\", \"level_rank\": 4}, {\"School_ID\": 609695, \"Creative_School_Certification\": \"STRONG\", \"School_Year\": \"2018-19\", \"level_rank\": 3}, {\"School_ID\": 609698, \"Creative_School_Certification\": \"STRONG\", \"School_Year\": \"2018-19\", \"level_rank\": 3}, {\"School_ID\": 609704, \"Creative_School_Certification\": \"EXCELLING\", \"School_Year\": \"2018-19\", \"level_rank\": 4}, {\"School_ID\": 609705, \"Creative_School_Certification\": \"STRONG\", \"School_Year\": \"2018-19\", \"level_rank\": 3}, {\"School_ID\": 609708, \"Creative_School_Certification\": \"STRONG\", \"School_Year\": \"2018-19\", \"level_rank\": 3}, {\"School_ID\": 609709, \"Creative_School_Certification\": \"DEVELOPING\", \"School_Year\": \"2018-19\", \"level_rank\": 2}, {\"School_ID\": 609710, \"Creative_School_Certification\": \"STRONG\", \"School_Year\": \"2018-19\", \"level_rank\": 3}, {\"School_ID\": 609711, \"Creative_School_Certification\": \"DEVELOPING\", \"School_Year\": \"2018-19\", \"level_rank\": 2}, {\"School_ID\": 609712, \"Creative_School_Certification\": \"EMERGING\", \"School_Year\": \"2018-19\", \"level_rank\": 1}, {\"School_ID\": 609713, \"Creative_School_Certification\": \"DEVELOPING\", \"School_Year\": \"2018-19\", \"level_rank\": 2}, {\"School_ID\": 609715, \"Creative_School_Certification\": \"EXCELLING\", \"School_Year\": \"2018-19\", \"level_rank\": 4}, {\"School_ID\": 609718, \"Creative_School_Certification\": \"EXCELLING\", \"School_Year\": \"2018-19\", \"level_rank\": 4}, {\"School_ID\": 609719, \"Creative_School_Certification\": \"EXCELLING\", \"School_Year\": \"2018-19\", \"level_rank\": 4}, {\"School_ID\": 609722, \"Creative_School_Certification\": \"DEVELOPING\", \"School_Year\": \"2018-19\", \"level_rank\": 2}, {\"School_ID\": 609723, \"Creative_School_Certification\": \"EMERGING\", \"School_Year\": \"2018-19\", \"level_rank\": 1}, {\"School_ID\": 609724, \"Creative_School_Certification\": \"EXCELLING\", \"School_Year\": \"2018-19\", \"level_rank\": 4}, {\"School_ID\": 609727, \"Creative_School_Certification\": \"STRONG\", \"School_Year\": \"2018-19\", \"level_rank\": 3}, {\"School_ID\": 609728, \"Creative_School_Certification\": \"EXCELLING\", \"School_Year\": \"2018-19\", \"level_rank\": 4}, {\"School_ID\": 609729, \"Creative_School_Certification\": \"EXCELLING\", \"School_Year\": \"2018-19\", \"level_rank\": 4}, {\"School_ID\": 609730, \"Creative_School_Certification\": \"EXCELLING\", \"School_Year\": \"2018-19\", \"level_rank\": 4}, {\"School_ID\": 609732, \"Creative_School_Certification\": \"STRONG\", \"School_Year\": \"2018-19\", \"level_rank\": 3}, {\"School_ID\": 609733, \"Creative_School_Certification\": \"EXCELLING\", \"School_Year\": \"2018-19\", \"level_rank\": 4}, {\"School_ID\": 609735, \"Creative_School_Certification\": \"DEVELOPING\", \"School_Year\": \"2018-19\", \"level_rank\": 2}, {\"School_ID\": 609737, \"Creative_School_Certification\": \"EXCELLING\", \"School_Year\": \"2018-19\", \"level_rank\": 4}, {\"School_ID\": 609738, \"Creative_School_Certification\": \"EXCELLING\", \"School_Year\": \"2018-19\", \"level_rank\": 4}, {\"School_ID\": 609739, \"Creative_School_Certification\": \"DEVELOPING\", \"School_Year\": \"2018-19\", \"level_rank\": 2}, {\"School_ID\": 609740, \"Creative_School_Certification\": \"EXCELLING\", \"School_Year\": \"2018-19\", \"level_rank\": 4}, {\"School_ID\": 609741, \"Creative_School_Certification\": \"EXCELLING\", \"School_Year\": \"2018-19\", \"level_rank\": 4}, {\"School_ID\": 609744, \"Creative_School_Certification\": \"STRONG\", \"School_Year\": \"2018-19\", \"level_rank\": 3}, {\"School_ID\": 609745, \"Creative_School_Certification\": \"EXCELLING\", \"School_Year\": \"2018-19\", \"level_rank\": 4}, {\"School_ID\": 609748, \"Creative_School_Certification\": \"DEVELOPING\", \"School_Year\": \"2018-19\", \"level_rank\": 2}, {\"School_ID\": 609749, \"Creative_School_Certification\": \"EXCELLING\", \"School_Year\": \"2018-19\", \"level_rank\": 4}, {\"School_ID\": 609751, \"Creative_School_Certification\": \"EXCELLING\", \"School_Year\": \"2018-19\", \"level_rank\": 4}, {\"School_ID\": 609753, \"Creative_School_Certification\": \"DEVELOPING\", \"School_Year\": \"2018-19\", \"level_rank\": 2}, {\"School_ID\": 609754, \"Creative_School_Certification\": \"DEVELOPING\", \"School_Year\": \"2018-19\", \"level_rank\": 2}, {\"School_ID\": 609756, \"Creative_School_Certification\": \"EXCELLING\", \"School_Year\": \"2018-19\", \"level_rank\": 4}, {\"School_ID\": 609759, \"Creative_School_Certification\": \"EXCELLING\", \"School_Year\": \"2018-19\", \"level_rank\": 4}, {\"School_ID\": 609760, \"Creative_School_Certification\": \"EXCELLING\", \"School_Year\": \"2018-19\", \"level_rank\": 4}, {\"School_ID\": 609761, \"Creative_School_Certification\": \"STRONG\", \"School_Year\": \"2018-19\", \"level_rank\": 3}, {\"School_ID\": 609762, \"Creative_School_Certification\": \"STRONG\", \"School_Year\": \"2018-19\", \"level_rank\": 3}, {\"School_ID\": 609764, \"Creative_School_Certification\": \"STRONG\", \"School_Year\": \"2018-19\", \"level_rank\": 3}, {\"School_ID\": 609766, \"Creative_School_Certification\": \"EXCELLING\", \"School_Year\": \"2018-19\", \"level_rank\": 4}, {\"School_ID\": 609768, \"Creative_School_Certification\": \"EMERGING\", \"School_Year\": \"2018-19\", \"level_rank\": 1}, {\"School_ID\": 609769, \"Creative_School_Certification\": \"STRONG\", \"School_Year\": \"2018-19\", \"level_rank\": 3}, {\"School_ID\": 610244, \"Creative_School_Certification\": \"STRONG\", \"School_Year\": \"2018-19\", \"level_rank\": 3}, {\"School_ID\": 610245, \"Creative_School_Certification\": \"DEVELOPING\", \"School_Year\": \"2018-19\", \"level_rank\": 2}, {\"School_ID\": 610304, \"Creative_School_Certification\": \"STRONG\", \"School_Year\": \"2018-19\", \"level_rank\": 3}, {\"School_ID\": 610323, \"Creative_School_Certification\": \"DEVELOPING\", \"School_Year\": \"2018-19\", \"level_rank\": 2}, {\"School_ID\": 610334, \"Creative_School_Certification\": \"DEVELOPING\", \"School_Year\": \"2018-19\", \"level_rank\": 2}, {\"School_ID\": 610340, \"Creative_School_Certification\": \"DEVELOPING\", \"School_Year\": \"2018-19\", \"level_rank\": 2}, {\"School_ID\": 610357, \"Creative_School_Certification\": \"STRONG\", \"School_Year\": \"2018-19\", \"level_rank\": 3}, {\"School_ID\": 610380, \"Creative_School_Certification\": \"DEVELOPING\", \"School_Year\": \"2018-19\", \"level_rank\": 2}, {\"School_ID\": 610381, \"Creative_School_Certification\": \"STRONG\", \"School_Year\": \"2018-19\", \"level_rank\": 3}, {\"School_ID\": 610383, \"Creative_School_Certification\": \"DEVELOPING\", \"School_Year\": \"2018-19\", \"level_rank\": 2}, {\"School_ID\": 610384, \"Creative_School_Certification\": \"EXCELLING\", \"School_Year\": \"2018-19\", \"level_rank\": 4}, {\"School_ID\": 610385, \"Creative_School_Certification\": \"EXCELLING\", \"School_Year\": \"2018-19\", \"level_rank\": 4}, {\"School_ID\": 610386, \"Creative_School_Certification\": \"EXCELLING\", \"School_Year\": \"2018-19\", \"level_rank\": 4}, {\"School_ID\": 610389, \"Creative_School_Certification\": \"STRONG\", \"School_Year\": \"2018-19\", \"level_rank\": 3}, {\"School_ID\": 610390, \"Creative_School_Certification\": \"EXCELLING\", \"School_Year\": \"2018-19\", \"level_rank\": 4}, {\"School_ID\": 610392, \"Creative_School_Certification\": \"STRONG\", \"School_Year\": \"2018-19\", \"level_rank\": 3}, {\"School_ID\": 610394, \"Creative_School_Certification\": \"EMERGING\", \"School_Year\": \"2018-19\", \"level_rank\": 1}, {\"School_ID\": 610402, \"Creative_School_Certification\": \"DEVELOPING\", \"School_Year\": \"2018-19\", \"level_rank\": 2}, {\"School_ID\": 610499, \"Creative_School_Certification\": \"STRONG\", \"School_Year\": \"2018-19\", \"level_rank\": 3}, {\"School_ID\": 610513, \"Creative_School_Certification\": \"STRONG\", \"School_Year\": \"2018-19\", \"level_rank\": 3}, {\"School_ID\": 610518, \"Creative_School_Certification\": \"STRONG\", \"School_Year\": \"2018-19\", \"level_rank\": 3}, {\"School_ID\": 610543, \"Creative_School_Certification\": \"EXCELLING\", \"School_Year\": \"2018-19\", \"level_rank\": 4}, {\"School_ID\": 610547, \"Creative_School_Certification\": \"STRONG\", \"School_Year\": \"2018-19\", \"level_rank\": 3}, {\"School_ID\": 610558, \"Creative_School_Certification\": \"STRONG\", \"School_Year\": \"2018-19\", \"level_rank\": 3}, {\"School_ID\": 610561, \"Creative_School_Certification\": \"DEVELOPING\", \"School_Year\": \"2018-19\", \"level_rank\": 2}, {\"School_ID\": 610563, \"Creative_School_Certification\": \"EXCELLING\", \"School_Year\": \"2018-19\", \"level_rank\": 4}, {\"School_ID\": 610587, \"Creative_School_Certification\": \"EXCELLING\", \"School_Year\": \"2018-19\", \"level_rank\": 4}, {\"School_ID\": 609674, \"Creative_School_Certification\": \"STRONG\", \"School_Year\": \"2023-24\", \"level_rank\": 3}, {\"School_ID\": 609676, \"Creative_School_Certification\": \"EMERGING\", \"School_Year\": \"2023-24\", \"level_rank\": 1}, {\"School_ID\": 609678, \"Creative_School_Certification\": \"EXCELLING\", \"School_Year\": \"2023-24\", \"level_rank\": 4}, {\"School_ID\": 609679, \"Creative_School_Certification\": \"EXCELLING\", \"School_Year\": \"2023-24\", \"level_rank\": 4}, {\"School_ID\": 609680, \"Creative_School_Certification\": \"EXCELLING\", \"School_Year\": \"2023-24\", \"level_rank\": 4}, {\"School_ID\": 609682, \"Creative_School_Certification\": \"STRONG\", \"School_Year\": \"2023-24\", \"level_rank\": 3}, {\"School_ID\": 609691, \"Creative_School_Certification\": \"EXCELLING\", \"School_Year\": \"2023-24\", \"level_rank\": 4}, {\"School_ID\": 609692, \"Creative_School_Certification\": \"DEVELOPING\", \"School_Year\": \"2023-24\", \"level_rank\": 2}, {\"School_ID\": 609693, \"Creative_School_Certification\": \"STRONG\", \"School_Year\": \"2023-24\", \"level_rank\": 3}, {\"School_ID\": 609694, \"Creative_School_Certification\": \"STRONG\", \"School_Year\": \"2023-24\", \"level_rank\": 3}, {\"School_ID\": 609695, \"Creative_School_Certification\": \"EXCELLING\", \"School_Year\": \"2023-24\", \"level_rank\": 4}, {\"School_ID\": 609698, \"Creative_School_Certification\": \"STRONG\", \"School_Year\": \"2023-24\", \"level_rank\": 3}, {\"School_ID\": 609704, \"Creative_School_Certification\": \"STRONG\", \"School_Year\": \"2023-24\", \"level_rank\": 3}, {\"School_ID\": 609705, \"Creative_School_Certification\": \"STRONG\", \"School_Year\": \"2023-24\", \"level_rank\": 3}, {\"School_ID\": 609708, \"Creative_School_Certification\": \"STRONG\", \"School_Year\": \"2023-24\", \"level_rank\": 3}, {\"School_ID\": 609709, \"Creative_School_Certification\": \"STRONG\", \"School_Year\": \"2023-24\", \"level_rank\": 3}, {\"School_ID\": 609710, \"Creative_School_Certification\": \"EXCELLING\", \"School_Year\": \"2023-24\", \"level_rank\": 4}, {\"School_ID\": 609712, \"Creative_School_Certification\": \"STRONG\", \"School_Year\": \"2023-24\", \"level_rank\": 3}, {\"School_ID\": 609713, \"Creative_School_Certification\": \"STRONG\", \"School_Year\": \"2023-24\", \"level_rank\": 3}, {\"School_ID\": 609715, \"Creative_School_Certification\": \"EXCELLING\", \"School_Year\": \"2023-24\", \"level_rank\": 4}, {\"School_ID\": 609718, \"Creative_School_Certification\": \"EXCELLING\", \"School_Year\": \"2023-24\", \"level_rank\": 4}, {\"School_ID\": 609719, \"Creative_School_Certification\": \"STRONG\", \"School_Year\": \"2023-24\", \"level_rank\": 3}, {\"School_ID\": 609722, \"Creative_School_Certification\": \"DEVELOPING\", \"School_Year\": \"2023-24\", \"level_rank\": 2}, {\"School_ID\": 609723, \"Creative_School_Certification\": \"DEVELOPING\", \"School_Year\": \"2023-24\", \"level_rank\": 2}, {\"School_ID\": 609724, \"Creative_School_Certification\": \"EXCELLING\", \"School_Year\": \"2023-24\", \"level_rank\": 4}, {\"School_ID\": 609727, \"Creative_School_Certification\": \"EXCELLING\", \"School_Year\": \"2023-24\", \"level_rank\": 4}, {\"School_ID\": 609728, \"Creative_School_Certification\": \"EXCELLING\", \"School_Year\": \"2023-24\", \"level_rank\": 4}, {\"School_ID\": 609729, \"Creative_School_Certification\": \"EXCELLING\", \"School_Year\": \"2023-24\", \"level_rank\": 4}, {\"School_ID\": 609730, \"Creative_School_Certification\": \"EXCELLING\", \"School_Year\": \"2023-24\", \"level_rank\": 4}, {\"School_ID\": 609732, \"Creative_School_Certification\": \"STRONG\", \"School_Year\": \"2023-24\", \"level_rank\": 3}, {\"School_ID\": 609733, \"Creative_School_Certification\": \"EXCELLING\", \"School_Year\": \"2023-24\", \"level_rank\": 4}, {\"School_ID\": 609735, \"Creative_School_Certification\": \"EXCELLING\", \"School_Year\": \"2023-24\", \"level_rank\": 4}, {\"School_ID\": 609737, \"Creative_School_Certification\": \"EXCELLING\", \"School_Year\": \"2023-24\", \"level_rank\": 4}, {\"School_ID\": 609738, \"Creative_School_Certification\": \"EXCELLING\", \"School_Year\": \"2023-24\", \"level_rank\": 4}, {\"School_ID\": 609739, \"Creative_School_Certification\": \"STRONG\", \"School_Year\": \"2023-24\", \"level_rank\": 3}, {\"School_ID\": 609740, \"Creative_School_Certification\": \"EXCELLING\", \"School_Year\": \"2023-24\", \"level_rank\": 4}, {\"School_ID\": 609741, \"Creative_School_Certification\": \"STRONG\", \"School_Year\": \"2023-24\", \"level_rank\": 3}, {\"School_ID\": 609744, \"Creative_School_Certification\": \"STRONG\", \"School_Year\": \"2023-24\", \"level_rank\": 3}, {\"School_ID\": 609745, \"Creative_School_Certification\": \"EMERGING\", \"School_Year\": \"2023-24\", \"level_rank\": 1}, {\"School_ID\": 609748, \"Creative_School_Certification\": \"STRONG\", \"School_Year\": \"2023-24\", \"level_rank\": 3}, {\"School_ID\": 609749, \"Creative_School_Certification\": \"EXCELLING\", \"School_Year\": \"2023-24\", \"level_rank\": 4}, {\"School_ID\": 609751, \"Creative_School_Certification\": \"STRONG\", \"School_Year\": \"2023-24\", \"level_rank\": 3}, {\"School_ID\": 609753, \"Creative_School_Certification\": \"EXCELLING\", \"School_Year\": \"2023-24\", \"level_rank\": 4}, {\"School_ID\": 609754, \"Creative_School_Certification\": \"STRONG\", \"School_Year\": \"2023-24\", \"level_rank\": 3}, {\"School_ID\": 609756, \"Creative_School_Certification\": \"EXCELLING\", \"School_Year\": \"2023-24\", \"level_rank\": 4}, {\"School_ID\": 609759, \"Creative_School_Certification\": \"STRONG\", \"School_Year\": \"2023-24\", \"level_rank\": 3}, {\"School_ID\": 609760, \"Creative_School_Certification\": \"STRONG\", \"School_Year\": \"2023-24\", \"level_rank\": 3}, {\"School_ID\": 609761, \"Creative_School_Certification\": \"DEVELOPING\", \"School_Year\": \"2023-24\", \"level_rank\": 2}, {\"School_ID\": 609762, \"Creative_School_Certification\": \"EXCELLING\", \"School_Year\": \"2023-24\", \"level_rank\": 4}, {\"School_ID\": 609764, \"Creative_School_Certification\": \"DEVELOPING\", \"School_Year\": \"2023-24\", \"level_rank\": 2}, {\"School_ID\": 609766, \"Creative_School_Certification\": \"EXCELLING\", \"School_Year\": \"2023-24\", \"level_rank\": 4}, {\"School_ID\": 609769, \"Creative_School_Certification\": \"STRONG\", \"School_Year\": \"2023-24\", \"level_rank\": 3}, {\"School_ID\": 610244, \"Creative_School_Certification\": \"DEVELOPING\", \"School_Year\": \"2023-24\", \"level_rank\": 2}, {\"School_ID\": 610304, \"Creative_School_Certification\": \"DEVELOPING\", \"School_Year\": \"2023-24\", \"level_rank\": 2}, {\"School_ID\": 610323, \"Creative_School_Certification\": \"STRONG\", \"School_Year\": \"2023-24\", \"level_rank\": 3}, {\"School_ID\": 610334, \"Creative_School_Certification\": \"DEVELOPING\", \"School_Year\": \"2023-24\", \"level_rank\": 2}, {\"School_ID\": 610340, \"Creative_School_Certification\": \"EXCELLING\", \"School_Year\": \"2023-24\", \"level_rank\": 4}, {\"School_ID\": 610357, \"Creative_School_Certification\": \"STRONG\", \"School_Year\": \"2023-24\", \"level_rank\": 3}, {\"School_ID\": 610380, \"Creative_School_Certification\": \"STRONG\", \"School_Year\": \"2023-24\", \"level_rank\": 3}, {\"School_ID\": 610381, \"Creative_School_Certification\": \"STRONG\", \"School_Year\": \"2023-24\", \"level_rank\": 3}, {\"School_ID\": 610383, \"Creative_School_Certification\": \"STRONG\", \"School_Year\": \"2023-24\", \"level_rank\": 3}, {\"School_ID\": 610384, \"Creative_School_Certification\": \"STRONG\", \"School_Year\": \"2023-24\", \"level_rank\": 3}, {\"School_ID\": 610385, \"Creative_School_Certification\": \"EXCELLING\", \"School_Year\": \"2023-24\", \"level_rank\": 4}, {\"School_ID\": 610386, \"Creative_School_Certification\": \"DEVELOPING\", \"School_Year\": \"2023-24\", \"level_rank\": 2}, {\"School_ID\": 610390, \"Creative_School_Certification\": \"EXCELLING\", \"School_Year\": \"2023-24\", \"level_rank\": 4}, {\"School_ID\": 610392, \"Creative_School_Certification\": \"STRONG\", \"School_Year\": \"2023-24\", \"level_rank\": 3}, {\"School_ID\": 610394, \"Creative_School_Certification\": \"EXCELLING\", \"School_Year\": \"2023-24\", \"level_rank\": 4}, {\"School_ID\": 610499, \"Creative_School_Certification\": \"STRONG\", \"School_Year\": \"2023-24\", \"level_rank\": 3}, {\"School_ID\": 610513, \"Creative_School_Certification\": \"STRONG\", \"School_Year\": \"2023-24\", \"level_rank\": 3}, {\"School_ID\": 610518, \"Creative_School_Certification\": \"DEVELOPING\", \"School_Year\": \"2023-24\", \"level_rank\": 2}, {\"School_ID\": 610524, \"Creative_School_Certification\": \"EXCELLING\", \"School_Year\": \"2023-24\", \"level_rank\": 4}, {\"School_ID\": 610529, \"Creative_School_Certification\": \"EXCELLING\", \"School_Year\": \"2023-24\", \"level_rank\": 4}, {\"School_ID\": 610543, \"Creative_School_Certification\": \"EXCELLING\", \"School_Year\": \"2023-24\", \"level_rank\": 4}, {\"School_ID\": 610547, \"Creative_School_Certification\": \"EXCELLING\", \"School_Year\": \"2023-24\", \"level_rank\": 4}, {\"School_ID\": 610558, \"Creative_School_Certification\": \"STRONG\", \"School_Year\": \"2023-24\", \"level_rank\": 3}, {\"School_ID\": 610561, \"Creative_School_Certification\": \"DEVELOPING\", \"School_Year\": \"2023-24\", \"level_rank\": 2}, {\"School_ID\": 610563, \"Creative_School_Certification\": \"EXCELLING\", \"School_Year\": \"2023-24\", \"level_rank\": 4}, {\"School_ID\": 610587, \"Creative_School_Certification\": \"STRONG\", \"School_Year\": \"2023-24\", \"level_rank\": 3}, {\"School_ID\": 610592, \"Creative_School_Certification\": \"EXCELLING\", \"School_Year\": \"2023-24\", \"level_rank\": 4}]}}, {\"mode\": \"vega-lite\"});\n",
              "</script>"
            ],
            "text/plain": [
              "alt.Chart(...)"
            ]
          },
          "metadata": {},
          "execution_count": 17
        }
      ]
    }
  ]
}